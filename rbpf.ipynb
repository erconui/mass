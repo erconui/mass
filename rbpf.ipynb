{
 "cells": [
  {
   "cell_type": "markdown",
   "metadata": {},
   "source": [
    "# Particle filter on a road network\n",
    "\n",
    "Let us do a simple road network with 6 intersections where each road is two-way\n",
    "\n",
    "```\n",
    "4-------5-------6\n",
    "|       |       |\n",
    "|       |       |\n",
    "|       |       |\n",
    "1-------2-------3\n",
    "```\n",
    "\n",
    "There are really 14 directed edges:\n",
    "$$\n",
    "e_i \\in \\{(1,2),(1,4),(2,1),(2,3),(2,5),(3,2),(3,6),(4,1),(4,5),(5,4),(6,3),(6,5)\\}\n",
    "$$\n",
    "\n",
    "Each edge shall also have a length associated with it. For simplicity, we shall make each edge of length 100m. A vehicle travelling along an edge shall have a position and velocity associated with it. "
   ]
  },
  {
   "cell_type": "code",
   "execution_count": 8,
   "metadata": {},
   "outputs": [],
   "source": [
    "from __future__ import division\n",
    "\n",
    "%matplotlib notebook\n",
    "#%matplotlib inline\n",
    "import time\n",
    "import random\n",
    "import numpy as np\n",
    "from scipy.stats import norm\n",
    "import scipy.io as sio\n",
    "import matplotlib as mpl\n",
    "from matplotlib import colors as mcolors\n",
    "import matplotlib.pyplot as plt\n",
    "from mpl_toolkits.mplot3d import Axes3D\n",
    "from matplotlib import collections as mc\n",
    "from scipy.stats import multivariate_normal as mvn\n",
    "from math import atan2\n",
    "from tqdm import tqdm_notebook as tqdm\n",
    "import copy\n",
    "import datetime\n",
    "\n",
    "from IPython.display import display, Markdown, Latex"
   ]
  },
  {
   "cell_type": "code",
   "execution_count": 9,
   "metadata": {
    "code_folding": [
     0
    ]
   },
   "outputs": [],
   "source": [
    "class Roadmap:\n",
    "    \"\"\"A class to represent a road network\"\"\"\n",
    "    \n",
    "    def __init__(self, nodes, edges, bidirectional=True):\n",
    "        \"\"\"\n",
    "        nodes: list of tuples (x, y). Defines the cartesian location of each intersection.\n",
    "        edges: list of tuples (start, end). Defines the roads between intersections. Each edge is \n",
    "            unidirectional.\n",
    "        \"\"\"\n",
    "        self.graph = {node : {} for node in nodes}\n",
    "        self.minXY = list(map(min, zip(*nodes)))\n",
    "        self.maxXY = list(map(max, zip(*nodes)))\n",
    "        for edge in edges:\n",
    "            a = nodes[edge[0]]\n",
    "            b = nodes[edge[1]]\n",
    "            dist = np.sqrt((a[0] - b[0])**2 + (a[1] - b[1])**2)\n",
    "            self.graph[a][b] = dist\n",
    "            if bidirectional:\n",
    "                self.graph[b][a] = dist\n",
    "                \n",
    "        self._total_len = 0.0\n",
    "        for dests in self.graph.values():\n",
    "            self._total_len += np.sum(list(dests.values()))\n",
    "    \n",
    "    def get_bounds(self):\n",
    "        return self.minXY[0], self.maxXY[0], self.minXY[1], self.maxXY[1]\n",
    "    \n",
    "    def get_nearest_waypoint(self, pos):\n",
    "        waypoint = None\n",
    "        min_dist = 999999999\n",
    "        for node in self.graph:\n",
    "            dist = (pos[0] - node[0])**2 + (pos[1] - node[1])**2\n",
    "            if dist < min_dist:\n",
    "                min_dist = dist\n",
    "                waypoint = node\n",
    "        return waypoint\n",
    "\n",
    "    def get_next_waypoint(self, waypoint, psi):\n",
    "        options = self.graph[waypoint].keys()\n",
    "        next_wp = random.choice(options)\n",
    "        next_psi = atan2(next_wp[0] - waypoint[0], next_wp[1] - waypoint[1])\n",
    "        diff_angle = abs(((next_psi - psi) + np.pi) % (2*np.pi) - np.pi)\n",
    "        return next_wp\n",
    "\n",
    "    def get_loc(self, state):\n",
    "        \"\"\"Returns the (x,y) location of a position along an edge\n",
    "        \n",
    "        edge -- tuple containing the (x,y) coordnates of \n",
    "                the beginning and ending nodes of the edge\n",
    "        pos  -- value between 0 and 1 indicating the distance along the edge\n",
    "        \"\"\"\n",
    "        \n",
    "        edge = state[0]\n",
    "        pos = state[1]\n",
    "        \n",
    "        try:\n",
    "            self.graph[edge[0]][edge[1]]\n",
    "        except KeyError:\n",
    "            raise ValueError(\"Invalid roadmap edge.\")\n",
    "            \n",
    "        loc = (pos*edge[1][0] + (1-pos)*edge[0][0],\n",
    "               pos*edge[1][1] + (1-pos)*edge[0][1])\n",
    "        return loc\n",
    "#         raise NotImplementedError\n",
    "    \n",
    "    @property\n",
    "    def total_length(self):\n",
    "        return self._total_len\n",
    "    \n",
    "    def visualize(self, ax):\n",
    "        edges = []\n",
    "        for a in self.graph:\n",
    "            edges += [(a, b) for b in self.graph[a]]\n",
    "        lc = mc.LineCollection(edges, colors=[(0,0,0,1)])\n",
    "        ax.add_collection(lc)\n",
    "        "
   ]
  },
  {
   "cell_type": "code",
   "execution_count": 10,
   "metadata": {
    "code_folding": [
     0
    ]
   },
   "outputs": [],
   "source": [
    "class Particle(object):\n",
    "    def __init__(self, roadmap, v0, dt, e0=None, x0=None, sigma=0.1):\n",
    "        \"\"\"A Particle contains the state and dynamic model of one hypothesis of a vehicle location.\n",
    "        \n",
    "        The particle's state consists of which road segment the vehicle is on and how far along \n",
    "        that road segment the vehicle is, on a scale of 0 to 1. The particle also stores its \n",
    "        nominal velocity and noise characteristics.\n",
    "        \n",
    "        roadmap -- object containing a graph describing the network of roads\n",
    "        \n",
    "        \"\"\"\n",
    "        # current edge\n",
    "        self._roadmap = roadmap\n",
    "        if e0 is None:\n",
    "            a = random.choice(list(self._roadmap.graph.keys()))\n",
    "            b = random.choice(list(self._roadmap.graph[a].keys()))\n",
    "            self._e = (a, b)\n",
    "        else:\n",
    "            self._e = e0\n",
    "        self._e_len = self._roadmap.graph[self._e[0]][self._e[1]]\n",
    "        # current position on edge \n",
    "        if x0 is None:\n",
    "            self._x = random.random()\n",
    "        else:\n",
    "            self._x = x0\n",
    "        self._v = v0\n",
    "        self._sigma = sigma\n",
    "        self._dt = dt\n",
    "        \n",
    "    def predict(self):\n",
    "        \"\"\"Propogate the particle's state based on its dynamics and the roadmap\n",
    "        \n",
    "        When a particle is updated, it moves along the road segment by v0*dt, normalized by the \n",
    "        length of its current road. If it reaches the end of the road (x >= 1), it queries the\n",
    "        roadmap for other roads that connect to the current intersection and chooses one at\n",
    "        random.\n",
    "        \"\"\"\n",
    "        n = np.random.normal(scale=self._sigma)\n",
    "        self._x += (self._v + n)*self._dt/self._e_len\n",
    "        \n",
    "        if self._x >= 1.:\n",
    "            dest_list = list(self._roadmap.graph[self._e[1]].keys())\n",
    "            # no U-turns\n",
    "            dest_list.remove(self._e[0])\n",
    "            self._e = (self._e[1], random.choice(dest_list))\n",
    "            self._e_len = self._roadmap.graph[self._e[0]][self._e[1]]\n",
    "            self._x = 0.\n",
    "            \n",
    "        return self.state\n",
    "        \n",
    "    @property\n",
    "    def state(self):\n",
    "        return (self._e, self._x)\n",
    "    \n",
    "    @state.setter\n",
    "    def state(self, new_state):\n",
    "        e = new_state[0]\n",
    "        x = new_state[1]\n",
    "        try:\n",
    "            self._roadmap.graph[e[0]][e[1]]\n",
    "            self._e = e\n",
    "        except KeyError:\n",
    "            raise ValueError(\"Invalid roadmap edge.\")\n",
    "        if x < 0.:\n",
    "            self._x = 0.\n",
    "        elif x > 1.:\n",
    "            self._x = 1.\n",
    "        else:\n",
    "            self._x = x\n",
    "        \n",
    "    @property\n",
    "    def loc(self):\n",
    "        return self._roadmap.get_loc(self.state)"
   ]
  },
  {
   "cell_type": "code",
   "execution_count": 11,
   "metadata": {
    "code_folding": [
     0
    ]
   },
   "outputs": [],
   "source": [
    "# vectorized particle filter\n",
    "class PF(object):\n",
    "    def __init__(self, roadmap, num_particles, dt, v0=10., sigma=4, x0=None, P_fa=0.1, P_miss=0.05):\n",
    "        self._roadmap = roadmap\n",
    "        self._N = num_particles\n",
    "        self._v0 = v0\n",
    "        # particle shape\n",
    "        ## x, y, speed, start_x, start_y, end_x, end_y, direction_x, direction_y, distance, sigma, w\n",
    "        self.X = np.ndarray(shape=(self._N, 12))\n",
    "        \n",
    "        if x0 is None:\n",
    "            #uniformly distribute the particles on the roadway\n",
    "            for i in range(self._N):\n",
    "                a = random.choice(list(self._roadmap.graph.keys()))\n",
    "                b = np.array(random.choice(list(self._roadmap.graph[a].keys())))\n",
    "                a = np.array(a)\n",
    "                vector = b - a\n",
    "                loc = a + vector * random.random()\n",
    "                distance = np.linalg.norm(vector)\n",
    "                vector = vector/distance\n",
    "                self.X[i] = [loc[0], loc[1], v0, a[0], a[1], b[0],\n",
    "                                      b[1], vector[0], vector[1], distance, sigma, 1/self._N]\n",
    "\n",
    "        else:\n",
    "            raise NotImplementedError\n",
    "\n",
    "        self.best = self.X[0]\n",
    "        self._dt = dt\n",
    "        self._P_fa = P_fa\n",
    "        self._P_miss = P_miss\n",
    "    \n",
    "    def get_particle_distance_from_target(self, loc, acceptable_distance):\n",
    "        avg = 0\n",
    "        num_in_distance = 0\n",
    "        dist = np.linalg.norm(self.X[:,0:2] - loc, axis=1)\n",
    "        num_in_distance = len(np.where(dist < acceptable_distance)[0])\n",
    "        avg = np.average(dist)\n",
    "        return avg, num_in_distance\n",
    "\n",
    "    def get_max_particle_density(self):\n",
    "        overall_avg = 0\n",
    "        min_avg = 9999999999\n",
    "        for i in range(len(self.X)):\n",
    "            dist = np.linalg.norm(self.X[:,0:2] - self.X[i,0:2], axis=1)\n",
    "            avg_dist = np.average(dist)\n",
    "            overall_avg += avg_dist\n",
    "            if avg_dist < min_avg:\n",
    "                min_avg = avg_dist\n",
    "        return overall_avg, min_avg\n",
    "\n",
    "    def get_edge_particle_density(self):\n",
    "        edges = {}\n",
    "        edges_present, count = np.unique(self.X[:, 3:7], return_counts=True, axis=0)\n",
    "        for i in range(len(edges_present)):\n",
    "            start_edge = (edges_present[i][0], edges_present[i][1])\n",
    "            end_edge = (edges_present[i][2], edges_present[i][3])\n",
    "            edges[(start_edge, end_edge)] = count[i]\n",
    "        return edges\n",
    "\n",
    "    def get_measurement_likelihood(self, z, R):\n",
    "        return np.sum(mvn.pdf(self.X[:,:2], z, R))\n",
    "\n",
    "    def low_var_sample(self):\n",
    "        M = self._N\n",
    "        r = np.random.uniform(0,1/M)\n",
    "        c = self.X[0,11]\n",
    "        new_particles = np.zeros_like(self.X)\n",
    "        i = 0\n",
    "        last_i = 1\n",
    "        unique = 1\n",
    "        insert_index = 0\n",
    "        for m in range(M):\n",
    "            u = r + m/M\n",
    "            while u > c:\n",
    "                i += 1\n",
    "                c = c + self.X[i,11]\n",
    "            new_particles[insert_index] = copy.deepcopy(self.X[i])\n",
    "            insert_index += 1\n",
    "            if last_i != i:\n",
    "                unique += 1\n",
    "            last_i = i\n",
    "        self.X = new_particles\n",
    "        return unique\n",
    "\n",
    "    def predict(self, timestep=1):\n",
    "#         old_particles = deepcopy(self.X)\n",
    "        n = np.random.normal(scale=self.X[:,10:11])\n",
    "        loc = self.X[:,0:2]\n",
    "        vector = self.X[:,7:9]\n",
    "        speed = self.X[:,2:3]\n",
    "        loc[...] += vector * ((speed + n) * timestep * self._dt)\n",
    "        update_vector = np.linalg.norm(self.X[:,0:2] - self.X[:,3:5], axis=1) \\\n",
    "            > self.X[:,9]\n",
    "\n",
    "        for i in np.where(update_vector)[0]:\n",
    "            a = (self.X[i,3], self.X[i,4])\n",
    "            b = (self.X[i,5], self.X[i,6])\n",
    "\n",
    "            dest_list = list(self._roadmap.graph[b].keys())\n",
    "            dest_list.remove(a)\n",
    "            a = self.X[i,5:7]\n",
    "            b = np.array(random.choice(dest_list))\n",
    "            vector = b - a\n",
    "            distance = np.linalg.norm(vector)\n",
    "            vector = vector/distance\n",
    "            self.X[i,0:10] = [a[0], a[1], self._v0, a[0], a[1], b[0],\n",
    "                           b[1], vector[0], vector[1], distance]\n",
    "        \n",
    "    def update(self, z, R, p_fa=None):\n",
    "        weight_addon = self._P_fa/self._roadmap.total_length\n",
    "        w = (1. - self._P_fa)*mvn.pdf(self.X[:,0:2], z, R) + weight_addon\n",
    "        \n",
    "        \n",
    "        w = np.log(w)\n",
    "\n",
    "        max_w = np.max(w)\n",
    "        w = np.exp(w-max_w)\n",
    "        # for code simplicity, normalize the weights here\n",
    "        w = w/np.sum(w)\n",
    "\n",
    "        self.best_idx = np.argmax(w)  \n",
    "        self.best = self.X[self.best_idx]\n",
    "        self.X[:,11] = w\n",
    "\n",
    "        unique = self.low_var_sample()\n",
    "\n",
    "    def neg_update(self, z, radius):\n",
    "        self.X[:,11] = 1\n",
    "        update_vector = np.linalg.norm(self.X[:,0:2] - z, axis=1) < radius\n",
    "        self.X[update_vector,11] = self._P_miss\n",
    "        self.X[:,11] /= np.sum(self.X[:,11])\n",
    "        unique = self.low_var_sample()\n"
   ]
  },
  {
   "cell_type": "code",
   "execution_count": 12,
   "metadata": {
    "code_folding": [
     0
    ]
   },
   "outputs": [],
   "source": [
    "class Agent(object):\n",
    "    def __init__(self, center, width, height, period, dt, fov=30.):\n",
    "        self._c = center\n",
    "        self._w = width\n",
    "        self._h = height\n",
    "        self.pos = np.array(self._c)\n",
    "        self._dt = dt\n",
    "        self._t = 0\n",
    "        self._period = period\n",
    "        self._sc_agent = None\n",
    "        self._sc_fov = None\n",
    "        self.fov = fov\n",
    "        \n",
    "    def update(self):\n",
    "        self._t += self._dt\n",
    "        self.pos = np.array((self._w*np.cos(2*np.pi*self._t/self._period) + self._c[0], \n",
    "                             self._h*np.sin(2*2*np.pi*self._t/self._period) + self._c[1]))\n",
    "        if self._sc_agent is not None:\n",
    "            self.update_plot()\n",
    "    \n",
    "    def init_plot(self, ax):\n",
    "        self._sc_agent = ax.scatter([self.pos[0]], [self.pos[1]], s=50, marker='D', facecolor='red', label='agent')\n",
    "#         self._sc_fov = ax.scatter([self.pos[0]], [self.pos[0]], s=500, marker='o', facecolor='None', edgecolor='orange', label='fov')\n",
    "        self._sc_fov = plt.Circle((self.pos[0], self.pos[1]), self.fov, facecolor='None', edgecolor='orange')\n",
    "        ax.add_patch(self._sc_fov)\n",
    "    \n",
    "    def update_plot(self):\n",
    "        self._sc_agent.set_offsets([self.pos])\n",
    "        self._sc_fov.center = self.pos[0], self.pos[1]\n",
    "        "
   ]
  },
  {
   "cell_type": "markdown",
   "metadata": {},
   "source": [
    "## Single Target Simulation ##"
   ]
  },
  {
   "cell_type": "code",
   "execution_count": 13,
   "metadata": {
    "code_folding": [
     0
    ]
   },
   "outputs": [],
   "source": [
    "# intersections\n",
    "i = [(0.,0.), (100.,0.), (200.,0), (0.,100.), (100.,100.), (200.,100.)]\n",
    "# edges = [[i[0], i[1]],\n",
    "#          [i[0], i[3]],\n",
    "#          [i[1], i[2]],\n",
    "#          [i[1], i[4]],\n",
    "#          [i[2], i[5]],\n",
    "#          [i[3], i[4]],\n",
    "#          [i[4], i[5]]]\n",
    "\n",
    "edges = [(0, 1),\n",
    "         (0, 3),\n",
    "         (1, 2),\n",
    "         (1, 4),\n",
    "         (2, 5),\n",
    "         (3, 4),\n",
    "         (4, 5)]\n",
    "\n",
    "# initialize the roadmap\n",
    "r = Roadmap(i, edges)"
   ]
  },
  {
   "cell_type": "code",
   "execution_count": 15,
   "metadata": {
    "code_folding": [
     0
    ],
    "scrolled": false
   },
   "outputs": [
    {
     "data": {
      "application/javascript": [
       "/* Put everything inside the global mpl namespace */\n",
       "/* global mpl */\n",
       "window.mpl = {};\n",
       "\n",
       "mpl.get_websocket_type = function () {\n",
       "    if (typeof WebSocket !== 'undefined') {\n",
       "        return WebSocket;\n",
       "    } else if (typeof MozWebSocket !== 'undefined') {\n",
       "        return MozWebSocket;\n",
       "    } else {\n",
       "        alert(\n",
       "            'Your browser does not have WebSocket support. ' +\n",
       "                'Please try Chrome, Safari or Firefox ≥ 6. ' +\n",
       "                'Firefox 4 and 5 are also supported but you ' +\n",
       "                'have to enable WebSockets in about:config.'\n",
       "        );\n",
       "    }\n",
       "};\n",
       "\n",
       "mpl.figure = function (figure_id, websocket, ondownload, parent_element) {\n",
       "    this.id = figure_id;\n",
       "\n",
       "    this.ws = websocket;\n",
       "\n",
       "    this.supports_binary = this.ws.binaryType !== undefined;\n",
       "\n",
       "    if (!this.supports_binary) {\n",
       "        var warnings = document.getElementById('mpl-warnings');\n",
       "        if (warnings) {\n",
       "            warnings.style.display = 'block';\n",
       "            warnings.textContent =\n",
       "                'This browser does not support binary websocket messages. ' +\n",
       "                'Performance may be slow.';\n",
       "        }\n",
       "    }\n",
       "\n",
       "    this.imageObj = new Image();\n",
       "\n",
       "    this.context = undefined;\n",
       "    this.message = undefined;\n",
       "    this.canvas = undefined;\n",
       "    this.rubberband_canvas = undefined;\n",
       "    this.rubberband_context = undefined;\n",
       "    this.format_dropdown = undefined;\n",
       "\n",
       "    this.image_mode = 'full';\n",
       "\n",
       "    this.root = document.createElement('div');\n",
       "    this.root.setAttribute('style', 'display: inline-block');\n",
       "    this._root_extra_style(this.root);\n",
       "\n",
       "    parent_element.appendChild(this.root);\n",
       "\n",
       "    this._init_header(this);\n",
       "    this._init_canvas(this);\n",
       "    this._init_toolbar(this);\n",
       "\n",
       "    var fig = this;\n",
       "\n",
       "    this.waiting = false;\n",
       "\n",
       "    this.ws.onopen = function () {\n",
       "        fig.send_message('supports_binary', { value: fig.supports_binary });\n",
       "        fig.send_message('send_image_mode', {});\n",
       "        if (fig.ratio !== 1) {\n",
       "            fig.send_message('set_dpi_ratio', { dpi_ratio: fig.ratio });\n",
       "        }\n",
       "        fig.send_message('refresh', {});\n",
       "    };\n",
       "\n",
       "    this.imageObj.onload = function () {\n",
       "        if (fig.image_mode === 'full') {\n",
       "            // Full images could contain transparency (where diff images\n",
       "            // almost always do), so we need to clear the canvas so that\n",
       "            // there is no ghosting.\n",
       "            fig.context.clearRect(0, 0, fig.canvas.width, fig.canvas.height);\n",
       "        }\n",
       "        fig.context.drawImage(fig.imageObj, 0, 0);\n",
       "    };\n",
       "\n",
       "    this.imageObj.onunload = function () {\n",
       "        fig.ws.close();\n",
       "    };\n",
       "\n",
       "    this.ws.onmessage = this._make_on_message_function(this);\n",
       "\n",
       "    this.ondownload = ondownload;\n",
       "};\n",
       "\n",
       "mpl.figure.prototype._init_header = function () {\n",
       "    var titlebar = document.createElement('div');\n",
       "    titlebar.classList =\n",
       "        'ui-dialog-titlebar ui-widget-header ui-corner-all ui-helper-clearfix';\n",
       "    var titletext = document.createElement('div');\n",
       "    titletext.classList = 'ui-dialog-title';\n",
       "    titletext.setAttribute(\n",
       "        'style',\n",
       "        'width: 100%; text-align: center; padding: 3px;'\n",
       "    );\n",
       "    titlebar.appendChild(titletext);\n",
       "    this.root.appendChild(titlebar);\n",
       "    this.header = titletext;\n",
       "};\n",
       "\n",
       "mpl.figure.prototype._canvas_extra_style = function (_canvas_div) {};\n",
       "\n",
       "mpl.figure.prototype._root_extra_style = function (_canvas_div) {};\n",
       "\n",
       "mpl.figure.prototype._init_canvas = function () {\n",
       "    var fig = this;\n",
       "\n",
       "    var canvas_div = (this.canvas_div = document.createElement('div'));\n",
       "    canvas_div.setAttribute(\n",
       "        'style',\n",
       "        'border: 1px solid #ddd;' +\n",
       "            'box-sizing: content-box;' +\n",
       "            'clear: both;' +\n",
       "            'min-height: 1px;' +\n",
       "            'min-width: 1px;' +\n",
       "            'outline: 0;' +\n",
       "            'overflow: hidden;' +\n",
       "            'position: relative;' +\n",
       "            'resize: both;'\n",
       "    );\n",
       "\n",
       "    function on_keyboard_event_closure(name) {\n",
       "        return function (event) {\n",
       "            return fig.key_event(event, name);\n",
       "        };\n",
       "    }\n",
       "\n",
       "    canvas_div.addEventListener(\n",
       "        'keydown',\n",
       "        on_keyboard_event_closure('key_press')\n",
       "    );\n",
       "    canvas_div.addEventListener(\n",
       "        'keyup',\n",
       "        on_keyboard_event_closure('key_release')\n",
       "    );\n",
       "\n",
       "    this._canvas_extra_style(canvas_div);\n",
       "    this.root.appendChild(canvas_div);\n",
       "\n",
       "    var canvas = (this.canvas = document.createElement('canvas'));\n",
       "    canvas.classList.add('mpl-canvas');\n",
       "    canvas.setAttribute('style', 'box-sizing: content-box;');\n",
       "\n",
       "    this.context = canvas.getContext('2d');\n",
       "\n",
       "    var backingStore =\n",
       "        this.context.backingStorePixelRatio ||\n",
       "        this.context.webkitBackingStorePixelRatio ||\n",
       "        this.context.mozBackingStorePixelRatio ||\n",
       "        this.context.msBackingStorePixelRatio ||\n",
       "        this.context.oBackingStorePixelRatio ||\n",
       "        this.context.backingStorePixelRatio ||\n",
       "        1;\n",
       "\n",
       "    this.ratio = (window.devicePixelRatio || 1) / backingStore;\n",
       "\n",
       "    var rubberband_canvas = (this.rubberband_canvas = document.createElement(\n",
       "        'canvas'\n",
       "    ));\n",
       "    rubberband_canvas.setAttribute(\n",
       "        'style',\n",
       "        'box-sizing: content-box; position: absolute; left: 0; top: 0; z-index: 1;'\n",
       "    );\n",
       "\n",
       "    // Apply a ponyfill if ResizeObserver is not implemented by browser.\n",
       "    if (this.ResizeObserver === undefined) {\n",
       "        if (window.ResizeObserver !== undefined) {\n",
       "            this.ResizeObserver = window.ResizeObserver;\n",
       "        } else {\n",
       "            var obs = _JSXTOOLS_RESIZE_OBSERVER({});\n",
       "            this.ResizeObserver = obs.ResizeObserver;\n",
       "        }\n",
       "    }\n",
       "\n",
       "    this.resizeObserverInstance = new this.ResizeObserver(function (entries) {\n",
       "        var nentries = entries.length;\n",
       "        for (var i = 0; i < nentries; i++) {\n",
       "            var entry = entries[i];\n",
       "            var width, height;\n",
       "            if (entry.contentBoxSize) {\n",
       "                if (entry.contentBoxSize instanceof Array) {\n",
       "                    // Chrome 84 implements new version of spec.\n",
       "                    width = entry.contentBoxSize[0].inlineSize;\n",
       "                    height = entry.contentBoxSize[0].blockSize;\n",
       "                } else {\n",
       "                    // Firefox implements old version of spec.\n",
       "                    width = entry.contentBoxSize.inlineSize;\n",
       "                    height = entry.contentBoxSize.blockSize;\n",
       "                }\n",
       "            } else {\n",
       "                // Chrome <84 implements even older version of spec.\n",
       "                width = entry.contentRect.width;\n",
       "                height = entry.contentRect.height;\n",
       "            }\n",
       "\n",
       "            // Keep the size of the canvas and rubber band canvas in sync with\n",
       "            // the canvas container.\n",
       "            if (entry.devicePixelContentBoxSize) {\n",
       "                // Chrome 84 implements new version of spec.\n",
       "                canvas.setAttribute(\n",
       "                    'width',\n",
       "                    entry.devicePixelContentBoxSize[0].inlineSize\n",
       "                );\n",
       "                canvas.setAttribute(\n",
       "                    'height',\n",
       "                    entry.devicePixelContentBoxSize[0].blockSize\n",
       "                );\n",
       "            } else {\n",
       "                canvas.setAttribute('width', width * fig.ratio);\n",
       "                canvas.setAttribute('height', height * fig.ratio);\n",
       "            }\n",
       "            canvas.setAttribute(\n",
       "                'style',\n",
       "                'width: ' + width + 'px; height: ' + height + 'px;'\n",
       "            );\n",
       "\n",
       "            rubberband_canvas.setAttribute('width', width);\n",
       "            rubberband_canvas.setAttribute('height', height);\n",
       "\n",
       "            // And update the size in Python. We ignore the initial 0/0 size\n",
       "            // that occurs as the element is placed into the DOM, which should\n",
       "            // otherwise not happen due to the minimum size styling.\n",
       "            if (fig.ws.readyState == 1 && width != 0 && height != 0) {\n",
       "                fig.request_resize(width, height);\n",
       "            }\n",
       "        }\n",
       "    });\n",
       "    this.resizeObserverInstance.observe(canvas_div);\n",
       "\n",
       "    function on_mouse_event_closure(name) {\n",
       "        return function (event) {\n",
       "            return fig.mouse_event(event, name);\n",
       "        };\n",
       "    }\n",
       "\n",
       "    rubberband_canvas.addEventListener(\n",
       "        'mousedown',\n",
       "        on_mouse_event_closure('button_press')\n",
       "    );\n",
       "    rubberband_canvas.addEventListener(\n",
       "        'mouseup',\n",
       "        on_mouse_event_closure('button_release')\n",
       "    );\n",
       "    rubberband_canvas.addEventListener(\n",
       "        'dblclick',\n",
       "        on_mouse_event_closure('dblclick')\n",
       "    );\n",
       "    // Throttle sequential mouse events to 1 every 20ms.\n",
       "    rubberband_canvas.addEventListener(\n",
       "        'mousemove',\n",
       "        on_mouse_event_closure('motion_notify')\n",
       "    );\n",
       "\n",
       "    rubberband_canvas.addEventListener(\n",
       "        'mouseenter',\n",
       "        on_mouse_event_closure('figure_enter')\n",
       "    );\n",
       "    rubberband_canvas.addEventListener(\n",
       "        'mouseleave',\n",
       "        on_mouse_event_closure('figure_leave')\n",
       "    );\n",
       "\n",
       "    canvas_div.addEventListener('wheel', function (event) {\n",
       "        if (event.deltaY < 0) {\n",
       "            event.step = 1;\n",
       "        } else {\n",
       "            event.step = -1;\n",
       "        }\n",
       "        on_mouse_event_closure('scroll')(event);\n",
       "    });\n",
       "\n",
       "    canvas_div.appendChild(canvas);\n",
       "    canvas_div.appendChild(rubberband_canvas);\n",
       "\n",
       "    this.rubberband_context = rubberband_canvas.getContext('2d');\n",
       "    this.rubberband_context.strokeStyle = '#000000';\n",
       "\n",
       "    this._resize_canvas = function (width, height, forward) {\n",
       "        if (forward) {\n",
       "            canvas_div.style.width = width + 'px';\n",
       "            canvas_div.style.height = height + 'px';\n",
       "        }\n",
       "    };\n",
       "\n",
       "    // Disable right mouse context menu.\n",
       "    this.rubberband_canvas.addEventListener('contextmenu', function (_e) {\n",
       "        event.preventDefault();\n",
       "        return false;\n",
       "    });\n",
       "\n",
       "    function set_focus() {\n",
       "        canvas.focus();\n",
       "        canvas_div.focus();\n",
       "    }\n",
       "\n",
       "    window.setTimeout(set_focus, 100);\n",
       "};\n",
       "\n",
       "mpl.figure.prototype._init_toolbar = function () {\n",
       "    var fig = this;\n",
       "\n",
       "    var toolbar = document.createElement('div');\n",
       "    toolbar.classList = 'mpl-toolbar';\n",
       "    this.root.appendChild(toolbar);\n",
       "\n",
       "    function on_click_closure(name) {\n",
       "        return function (_event) {\n",
       "            return fig.toolbar_button_onclick(name);\n",
       "        };\n",
       "    }\n",
       "\n",
       "    function on_mouseover_closure(tooltip) {\n",
       "        return function (event) {\n",
       "            if (!event.currentTarget.disabled) {\n",
       "                return fig.toolbar_button_onmouseover(tooltip);\n",
       "            }\n",
       "        };\n",
       "    }\n",
       "\n",
       "    fig.buttons = {};\n",
       "    var buttonGroup = document.createElement('div');\n",
       "    buttonGroup.classList = 'mpl-button-group';\n",
       "    for (var toolbar_ind in mpl.toolbar_items) {\n",
       "        var name = mpl.toolbar_items[toolbar_ind][0];\n",
       "        var tooltip = mpl.toolbar_items[toolbar_ind][1];\n",
       "        var image = mpl.toolbar_items[toolbar_ind][2];\n",
       "        var method_name = mpl.toolbar_items[toolbar_ind][3];\n",
       "\n",
       "        if (!name) {\n",
       "            /* Instead of a spacer, we start a new button group. */\n",
       "            if (buttonGroup.hasChildNodes()) {\n",
       "                toolbar.appendChild(buttonGroup);\n",
       "            }\n",
       "            buttonGroup = document.createElement('div');\n",
       "            buttonGroup.classList = 'mpl-button-group';\n",
       "            continue;\n",
       "        }\n",
       "\n",
       "        var button = (fig.buttons[name] = document.createElement('button'));\n",
       "        button.classList = 'mpl-widget';\n",
       "        button.setAttribute('role', 'button');\n",
       "        button.setAttribute('aria-disabled', 'false');\n",
       "        button.addEventListener('click', on_click_closure(method_name));\n",
       "        button.addEventListener('mouseover', on_mouseover_closure(tooltip));\n",
       "\n",
       "        var icon_img = document.createElement('img');\n",
       "        icon_img.src = '_images/' + image + '.png';\n",
       "        icon_img.srcset = '_images/' + image + '_large.png 2x';\n",
       "        icon_img.alt = tooltip;\n",
       "        button.appendChild(icon_img);\n",
       "\n",
       "        buttonGroup.appendChild(button);\n",
       "    }\n",
       "\n",
       "    if (buttonGroup.hasChildNodes()) {\n",
       "        toolbar.appendChild(buttonGroup);\n",
       "    }\n",
       "\n",
       "    var fmt_picker = document.createElement('select');\n",
       "    fmt_picker.classList = 'mpl-widget';\n",
       "    toolbar.appendChild(fmt_picker);\n",
       "    this.format_dropdown = fmt_picker;\n",
       "\n",
       "    for (var ind in mpl.extensions) {\n",
       "        var fmt = mpl.extensions[ind];\n",
       "        var option = document.createElement('option');\n",
       "        option.selected = fmt === mpl.default_extension;\n",
       "        option.innerHTML = fmt;\n",
       "        fmt_picker.appendChild(option);\n",
       "    }\n",
       "\n",
       "    var status_bar = document.createElement('span');\n",
       "    status_bar.classList = 'mpl-message';\n",
       "    toolbar.appendChild(status_bar);\n",
       "    this.message = status_bar;\n",
       "};\n",
       "\n",
       "mpl.figure.prototype.request_resize = function (x_pixels, y_pixels) {\n",
       "    // Request matplotlib to resize the figure. Matplotlib will then trigger a resize in the client,\n",
       "    // which will in turn request a refresh of the image.\n",
       "    this.send_message('resize', { width: x_pixels, height: y_pixels });\n",
       "};\n",
       "\n",
       "mpl.figure.prototype.send_message = function (type, properties) {\n",
       "    properties['type'] = type;\n",
       "    properties['figure_id'] = this.id;\n",
       "    this.ws.send(JSON.stringify(properties));\n",
       "};\n",
       "\n",
       "mpl.figure.prototype.send_draw_message = function () {\n",
       "    if (!this.waiting) {\n",
       "        this.waiting = true;\n",
       "        this.ws.send(JSON.stringify({ type: 'draw', figure_id: this.id }));\n",
       "    }\n",
       "};\n",
       "\n",
       "mpl.figure.prototype.handle_save = function (fig, _msg) {\n",
       "    var format_dropdown = fig.format_dropdown;\n",
       "    var format = format_dropdown.options[format_dropdown.selectedIndex].value;\n",
       "    fig.ondownload(fig, format);\n",
       "};\n",
       "\n",
       "mpl.figure.prototype.handle_resize = function (fig, msg) {\n",
       "    var size = msg['size'];\n",
       "    if (size[0] !== fig.canvas.width || size[1] !== fig.canvas.height) {\n",
       "        fig._resize_canvas(size[0], size[1], msg['forward']);\n",
       "        fig.send_message('refresh', {});\n",
       "    }\n",
       "};\n",
       "\n",
       "mpl.figure.prototype.handle_rubberband = function (fig, msg) {\n",
       "    var x0 = msg['x0'] / fig.ratio;\n",
       "    var y0 = (fig.canvas.height - msg['y0']) / fig.ratio;\n",
       "    var x1 = msg['x1'] / fig.ratio;\n",
       "    var y1 = (fig.canvas.height - msg['y1']) / fig.ratio;\n",
       "    x0 = Math.floor(x0) + 0.5;\n",
       "    y0 = Math.floor(y0) + 0.5;\n",
       "    x1 = Math.floor(x1) + 0.5;\n",
       "    y1 = Math.floor(y1) + 0.5;\n",
       "    var min_x = Math.min(x0, x1);\n",
       "    var min_y = Math.min(y0, y1);\n",
       "    var width = Math.abs(x1 - x0);\n",
       "    var height = Math.abs(y1 - y0);\n",
       "\n",
       "    fig.rubberband_context.clearRect(\n",
       "        0,\n",
       "        0,\n",
       "        fig.canvas.width / fig.ratio,\n",
       "        fig.canvas.height / fig.ratio\n",
       "    );\n",
       "\n",
       "    fig.rubberband_context.strokeRect(min_x, min_y, width, height);\n",
       "};\n",
       "\n",
       "mpl.figure.prototype.handle_figure_label = function (fig, msg) {\n",
       "    // Updates the figure title.\n",
       "    fig.header.textContent = msg['label'];\n",
       "};\n",
       "\n",
       "mpl.figure.prototype.handle_cursor = function (fig, msg) {\n",
       "    var cursor = msg['cursor'];\n",
       "    switch (cursor) {\n",
       "        case 0:\n",
       "            cursor = 'pointer';\n",
       "            break;\n",
       "        case 1:\n",
       "            cursor = 'default';\n",
       "            break;\n",
       "        case 2:\n",
       "            cursor = 'crosshair';\n",
       "            break;\n",
       "        case 3:\n",
       "            cursor = 'move';\n",
       "            break;\n",
       "    }\n",
       "    fig.rubberband_canvas.style.cursor = cursor;\n",
       "};\n",
       "\n",
       "mpl.figure.prototype.handle_message = function (fig, msg) {\n",
       "    fig.message.textContent = msg['message'];\n",
       "};\n",
       "\n",
       "mpl.figure.prototype.handle_draw = function (fig, _msg) {\n",
       "    // Request the server to send over a new figure.\n",
       "    fig.send_draw_message();\n",
       "};\n",
       "\n",
       "mpl.figure.prototype.handle_image_mode = function (fig, msg) {\n",
       "    fig.image_mode = msg['mode'];\n",
       "};\n",
       "\n",
       "mpl.figure.prototype.handle_history_buttons = function (fig, msg) {\n",
       "    for (var key in msg) {\n",
       "        if (!(key in fig.buttons)) {\n",
       "            continue;\n",
       "        }\n",
       "        fig.buttons[key].disabled = !msg[key];\n",
       "        fig.buttons[key].setAttribute('aria-disabled', !msg[key]);\n",
       "    }\n",
       "};\n",
       "\n",
       "mpl.figure.prototype.handle_navigate_mode = function (fig, msg) {\n",
       "    if (msg['mode'] === 'PAN') {\n",
       "        fig.buttons['Pan'].classList.add('active');\n",
       "        fig.buttons['Zoom'].classList.remove('active');\n",
       "    } else if (msg['mode'] === 'ZOOM') {\n",
       "        fig.buttons['Pan'].classList.remove('active');\n",
       "        fig.buttons['Zoom'].classList.add('active');\n",
       "    } else {\n",
       "        fig.buttons['Pan'].classList.remove('active');\n",
       "        fig.buttons['Zoom'].classList.remove('active');\n",
       "    }\n",
       "};\n",
       "\n",
       "mpl.figure.prototype.updated_canvas_event = function () {\n",
       "    // Called whenever the canvas gets updated.\n",
       "    this.send_message('ack', {});\n",
       "};\n",
       "\n",
       "// A function to construct a web socket function for onmessage handling.\n",
       "// Called in the figure constructor.\n",
       "mpl.figure.prototype._make_on_message_function = function (fig) {\n",
       "    return function socket_on_message(evt) {\n",
       "        if (evt.data instanceof Blob) {\n",
       "            var img = evt.data;\n",
       "            if (img.type !== 'image/png') {\n",
       "                /* FIXME: We get \"Resource interpreted as Image but\n",
       "                 * transferred with MIME type text/plain:\" errors on\n",
       "                 * Chrome.  But how to set the MIME type?  It doesn't seem\n",
       "                 * to be part of the websocket stream */\n",
       "                img.type = 'image/png';\n",
       "            }\n",
       "\n",
       "            /* Free the memory for the previous frames */\n",
       "            if (fig.imageObj.src) {\n",
       "                (window.URL || window.webkitURL).revokeObjectURL(\n",
       "                    fig.imageObj.src\n",
       "                );\n",
       "            }\n",
       "\n",
       "            fig.imageObj.src = (window.URL || window.webkitURL).createObjectURL(\n",
       "                img\n",
       "            );\n",
       "            fig.updated_canvas_event();\n",
       "            fig.waiting = false;\n",
       "            return;\n",
       "        } else if (\n",
       "            typeof evt.data === 'string' &&\n",
       "            evt.data.slice(0, 21) === 'data:image/png;base64'\n",
       "        ) {\n",
       "            fig.imageObj.src = evt.data;\n",
       "            fig.updated_canvas_event();\n",
       "            fig.waiting = false;\n",
       "            return;\n",
       "        }\n",
       "\n",
       "        var msg = JSON.parse(evt.data);\n",
       "        var msg_type = msg['type'];\n",
       "\n",
       "        // Call the  \"handle_{type}\" callback, which takes\n",
       "        // the figure and JSON message as its only arguments.\n",
       "        try {\n",
       "            var callback = fig['handle_' + msg_type];\n",
       "        } catch (e) {\n",
       "            console.log(\n",
       "                \"No handler for the '\" + msg_type + \"' message type: \",\n",
       "                msg\n",
       "            );\n",
       "            return;\n",
       "        }\n",
       "\n",
       "        if (callback) {\n",
       "            try {\n",
       "                // console.log(\"Handling '\" + msg_type + \"' message: \", msg);\n",
       "                callback(fig, msg);\n",
       "            } catch (e) {\n",
       "                console.log(\n",
       "                    \"Exception inside the 'handler_\" + msg_type + \"' callback:\",\n",
       "                    e,\n",
       "                    e.stack,\n",
       "                    msg\n",
       "                );\n",
       "            }\n",
       "        }\n",
       "    };\n",
       "};\n",
       "\n",
       "// from http://stackoverflow.com/questions/1114465/getting-mouse-location-in-canvas\n",
       "mpl.findpos = function (e) {\n",
       "    //this section is from http://www.quirksmode.org/js/events_properties.html\n",
       "    var targ;\n",
       "    if (!e) {\n",
       "        e = window.event;\n",
       "    }\n",
       "    if (e.target) {\n",
       "        targ = e.target;\n",
       "    } else if (e.srcElement) {\n",
       "        targ = e.srcElement;\n",
       "    }\n",
       "    if (targ.nodeType === 3) {\n",
       "        // defeat Safari bug\n",
       "        targ = targ.parentNode;\n",
       "    }\n",
       "\n",
       "    // pageX,Y are the mouse positions relative to the document\n",
       "    var boundingRect = targ.getBoundingClientRect();\n",
       "    var x = e.pageX - (boundingRect.left + document.body.scrollLeft);\n",
       "    var y = e.pageY - (boundingRect.top + document.body.scrollTop);\n",
       "\n",
       "    return { x: x, y: y };\n",
       "};\n",
       "\n",
       "/*\n",
       " * return a copy of an object with only non-object keys\n",
       " * we need this to avoid circular references\n",
       " * http://stackoverflow.com/a/24161582/3208463\n",
       " */\n",
       "function simpleKeys(original) {\n",
       "    return Object.keys(original).reduce(function (obj, key) {\n",
       "        if (typeof original[key] !== 'object') {\n",
       "            obj[key] = original[key];\n",
       "        }\n",
       "        return obj;\n",
       "    }, {});\n",
       "}\n",
       "\n",
       "mpl.figure.prototype.mouse_event = function (event, name) {\n",
       "    var canvas_pos = mpl.findpos(event);\n",
       "\n",
       "    if (name === 'button_press') {\n",
       "        this.canvas.focus();\n",
       "        this.canvas_div.focus();\n",
       "    }\n",
       "\n",
       "    var x = canvas_pos.x * this.ratio;\n",
       "    var y = canvas_pos.y * this.ratio;\n",
       "\n",
       "    this.send_message(name, {\n",
       "        x: x,\n",
       "        y: y,\n",
       "        button: event.button,\n",
       "        step: event.step,\n",
       "        guiEvent: simpleKeys(event),\n",
       "    });\n",
       "\n",
       "    /* This prevents the web browser from automatically changing to\n",
       "     * the text insertion cursor when the button is pressed.  We want\n",
       "     * to control all of the cursor setting manually through the\n",
       "     * 'cursor' event from matplotlib */\n",
       "    event.preventDefault();\n",
       "    return false;\n",
       "};\n",
       "\n",
       "mpl.figure.prototype._key_event_extra = function (_event, _name) {\n",
       "    // Handle any extra behaviour associated with a key event\n",
       "};\n",
       "\n",
       "mpl.figure.prototype.key_event = function (event, name) {\n",
       "    // Prevent repeat events\n",
       "    if (name === 'key_press') {\n",
       "        if (event.key === this._key) {\n",
       "            return;\n",
       "        } else {\n",
       "            this._key = event.key;\n",
       "        }\n",
       "    }\n",
       "    if (name === 'key_release') {\n",
       "        this._key = null;\n",
       "    }\n",
       "\n",
       "    var value = '';\n",
       "    if (event.ctrlKey && event.key !== 'Control') {\n",
       "        value += 'ctrl+';\n",
       "    }\n",
       "    else if (event.altKey && event.key !== 'Alt') {\n",
       "        value += 'alt+';\n",
       "    }\n",
       "    else if (event.shiftKey && event.key !== 'Shift') {\n",
       "        value += 'shift+';\n",
       "    }\n",
       "\n",
       "    value += 'k' + event.key;\n",
       "\n",
       "    this._key_event_extra(event, name);\n",
       "\n",
       "    this.send_message(name, { key: value, guiEvent: simpleKeys(event) });\n",
       "    return false;\n",
       "};\n",
       "\n",
       "mpl.figure.prototype.toolbar_button_onclick = function (name) {\n",
       "    if (name === 'download') {\n",
       "        this.handle_save(this, null);\n",
       "    } else {\n",
       "        this.send_message('toolbar_button', { name: name });\n",
       "    }\n",
       "};\n",
       "\n",
       "mpl.figure.prototype.toolbar_button_onmouseover = function (tooltip) {\n",
       "    this.message.textContent = tooltip;\n",
       "};\n",
       "\n",
       "///////////////// REMAINING CONTENT GENERATED BY embed_js.py /////////////////\n",
       "// prettier-ignore\n",
       "var _JSXTOOLS_RESIZE_OBSERVER=function(A){var t,i=new WeakMap,n=new WeakMap,a=new WeakMap,r=new WeakMap,o=new Set;function s(e){if(!(this instanceof s))throw new TypeError(\"Constructor requires 'new' operator\");i.set(this,e)}function h(){throw new TypeError(\"Function is not a constructor\")}function c(e,t,i,n){e=0 in arguments?Number(arguments[0]):0,t=1 in arguments?Number(arguments[1]):0,i=2 in arguments?Number(arguments[2]):0,n=3 in arguments?Number(arguments[3]):0,this.right=(this.x=this.left=e)+(this.width=i),this.bottom=(this.y=this.top=t)+(this.height=n),Object.freeze(this)}function d(){t=requestAnimationFrame(d);var s=new WeakMap,p=new Set;o.forEach((function(t){r.get(t).forEach((function(i){var r=t instanceof window.SVGElement,o=a.get(t),d=r?0:parseFloat(o.paddingTop),f=r?0:parseFloat(o.paddingRight),l=r?0:parseFloat(o.paddingBottom),u=r?0:parseFloat(o.paddingLeft),g=r?0:parseFloat(o.borderTopWidth),m=r?0:parseFloat(o.borderRightWidth),w=r?0:parseFloat(o.borderBottomWidth),b=u+f,F=d+l,v=(r?0:parseFloat(o.borderLeftWidth))+m,W=g+w,y=r?0:t.offsetHeight-W-t.clientHeight,E=r?0:t.offsetWidth-v-t.clientWidth,R=b+v,z=F+W,M=r?t.width:parseFloat(o.width)-R-E,O=r?t.height:parseFloat(o.height)-z-y;if(n.has(t)){var k=n.get(t);if(k[0]===M&&k[1]===O)return}n.set(t,[M,O]);var S=Object.create(h.prototype);S.target=t,S.contentRect=new c(u,d,M,O),s.has(i)||(s.set(i,[]),p.add(i)),s.get(i).push(S)}))})),p.forEach((function(e){i.get(e).call(e,s.get(e),e)}))}return s.prototype.observe=function(i){if(i instanceof window.Element){r.has(i)||(r.set(i,new Set),o.add(i),a.set(i,window.getComputedStyle(i)));var n=r.get(i);n.has(this)||n.add(this),cancelAnimationFrame(t),t=requestAnimationFrame(d)}},s.prototype.unobserve=function(i){if(i instanceof window.Element&&r.has(i)){var n=r.get(i);n.has(this)&&(n.delete(this),n.size||(r.delete(i),o.delete(i))),n.size||r.delete(i),o.size||cancelAnimationFrame(t)}},A.DOMRectReadOnly=c,A.ResizeObserver=s,A.ResizeObserverEntry=h,A}; // eslint-disable-line\n",
       "mpl.toolbar_items = [[\"Home\", \"Reset original view\", \"fa fa-home icon-home\", \"home\"], [\"Back\", \"Back to previous view\", \"fa fa-arrow-left icon-arrow-left\", \"back\"], [\"Forward\", \"Forward to next view\", \"fa fa-arrow-right icon-arrow-right\", \"forward\"], [\"\", \"\", \"\", \"\"], [\"Pan\", \"Left button pans, Right button zooms\\nx/y fixes axis, CTRL fixes aspect\", \"fa fa-arrows icon-move\", \"pan\"], [\"Zoom\", \"Zoom to rectangle\\nx/y fixes axis, CTRL fixes aspect\", \"fa fa-square-o icon-check-empty\", \"zoom\"], [\"\", \"\", \"\", \"\"], [\"Download\", \"Download plot\", \"fa fa-floppy-o icon-save\", \"download\"]];\n",
       "\n",
       "mpl.extensions = [\"eps\", \"jpeg\", \"pgf\", \"pdf\", \"png\", \"ps\", \"raw\", \"svg\", \"tif\"];\n",
       "\n",
       "mpl.default_extension = \"png\";/* global mpl */\n",
       "\n",
       "var comm_websocket_adapter = function (comm) {\n",
       "    // Create a \"websocket\"-like object which calls the given IPython comm\n",
       "    // object with the appropriate methods. Currently this is a non binary\n",
       "    // socket, so there is still some room for performance tuning.\n",
       "    var ws = {};\n",
       "\n",
       "    ws.binaryType = comm.kernel.ws.binaryType;\n",
       "    ws.readyState = comm.kernel.ws.readyState;\n",
       "    function updateReadyState(_event) {\n",
       "        if (comm.kernel.ws) {\n",
       "            ws.readyState = comm.kernel.ws.readyState;\n",
       "        } else {\n",
       "            ws.readyState = 3; // Closed state.\n",
       "        }\n",
       "    }\n",
       "    comm.kernel.ws.addEventListener('open', updateReadyState);\n",
       "    comm.kernel.ws.addEventListener('close', updateReadyState);\n",
       "    comm.kernel.ws.addEventListener('error', updateReadyState);\n",
       "\n",
       "    ws.close = function () {\n",
       "        comm.close();\n",
       "    };\n",
       "    ws.send = function (m) {\n",
       "        //console.log('sending', m);\n",
       "        comm.send(m);\n",
       "    };\n",
       "    // Register the callback with on_msg.\n",
       "    comm.on_msg(function (msg) {\n",
       "        //console.log('receiving', msg['content']['data'], msg);\n",
       "        var data = msg['content']['data'];\n",
       "        if (data['blob'] !== undefined) {\n",
       "            data = {\n",
       "                data: new Blob(msg['buffers'], { type: data['blob'] }),\n",
       "            };\n",
       "        }\n",
       "        // Pass the mpl event to the overridden (by mpl) onmessage function.\n",
       "        ws.onmessage(data);\n",
       "    });\n",
       "    return ws;\n",
       "};\n",
       "\n",
       "mpl.mpl_figure_comm = function (comm, msg) {\n",
       "    // This is the function which gets called when the mpl process\n",
       "    // starts-up an IPython Comm through the \"matplotlib\" channel.\n",
       "\n",
       "    var id = msg.content.data.id;\n",
       "    // Get hold of the div created by the display call when the Comm\n",
       "    // socket was opened in Python.\n",
       "    var element = document.getElementById(id);\n",
       "    var ws_proxy = comm_websocket_adapter(comm);\n",
       "\n",
       "    function ondownload(figure, _format) {\n",
       "        window.open(figure.canvas.toDataURL());\n",
       "    }\n",
       "\n",
       "    var fig = new mpl.figure(id, ws_proxy, ondownload, element);\n",
       "\n",
       "    // Call onopen now - mpl needs it, as it is assuming we've passed it a real\n",
       "    // web socket which is closed, not our websocket->open comm proxy.\n",
       "    ws_proxy.onopen();\n",
       "\n",
       "    fig.parent_element = element;\n",
       "    fig.cell_info = mpl.find_output_cell(\"<div id='\" + id + \"'></div>\");\n",
       "    if (!fig.cell_info) {\n",
       "        console.error('Failed to find cell for figure', id, fig);\n",
       "        return;\n",
       "    }\n",
       "    fig.cell_info[0].output_area.element.on(\n",
       "        'cleared',\n",
       "        { fig: fig },\n",
       "        fig._remove_fig_handler\n",
       "    );\n",
       "};\n",
       "\n",
       "mpl.figure.prototype.handle_close = function (fig, msg) {\n",
       "    var width = fig.canvas.width / fig.ratio;\n",
       "    fig.cell_info[0].output_area.element.off(\n",
       "        'cleared',\n",
       "        fig._remove_fig_handler\n",
       "    );\n",
       "    fig.resizeObserverInstance.unobserve(fig.canvas_div);\n",
       "\n",
       "    // Update the output cell to use the data from the current canvas.\n",
       "    fig.push_to_output();\n",
       "    var dataURL = fig.canvas.toDataURL();\n",
       "    // Re-enable the keyboard manager in IPython - without this line, in FF,\n",
       "    // the notebook keyboard shortcuts fail.\n",
       "    IPython.keyboard_manager.enable();\n",
       "    fig.parent_element.innerHTML =\n",
       "        '<img src=\"' + dataURL + '\" width=\"' + width + '\">';\n",
       "    fig.close_ws(fig, msg);\n",
       "};\n",
       "\n",
       "mpl.figure.prototype.close_ws = function (fig, msg) {\n",
       "    fig.send_message('closing', msg);\n",
       "    // fig.ws.close()\n",
       "};\n",
       "\n",
       "mpl.figure.prototype.push_to_output = function (_remove_interactive) {\n",
       "    // Turn the data on the canvas into data in the output cell.\n",
       "    var width = this.canvas.width / this.ratio;\n",
       "    var dataURL = this.canvas.toDataURL();\n",
       "    this.cell_info[1]['text/html'] =\n",
       "        '<img src=\"' + dataURL + '\" width=\"' + width + '\">';\n",
       "};\n",
       "\n",
       "mpl.figure.prototype.updated_canvas_event = function () {\n",
       "    // Tell IPython that the notebook contents must change.\n",
       "    IPython.notebook.set_dirty(true);\n",
       "    this.send_message('ack', {});\n",
       "    var fig = this;\n",
       "    // Wait a second, then push the new image to the DOM so\n",
       "    // that it is saved nicely (might be nice to debounce this).\n",
       "    setTimeout(function () {\n",
       "        fig.push_to_output();\n",
       "    }, 1000);\n",
       "};\n",
       "\n",
       "mpl.figure.prototype._init_toolbar = function () {\n",
       "    var fig = this;\n",
       "\n",
       "    var toolbar = document.createElement('div');\n",
       "    toolbar.classList = 'btn-toolbar';\n",
       "    this.root.appendChild(toolbar);\n",
       "\n",
       "    function on_click_closure(name) {\n",
       "        return function (_event) {\n",
       "            return fig.toolbar_button_onclick(name);\n",
       "        };\n",
       "    }\n",
       "\n",
       "    function on_mouseover_closure(tooltip) {\n",
       "        return function (event) {\n",
       "            if (!event.currentTarget.disabled) {\n",
       "                return fig.toolbar_button_onmouseover(tooltip);\n",
       "            }\n",
       "        };\n",
       "    }\n",
       "\n",
       "    fig.buttons = {};\n",
       "    var buttonGroup = document.createElement('div');\n",
       "    buttonGroup.classList = 'btn-group';\n",
       "    var button;\n",
       "    for (var toolbar_ind in mpl.toolbar_items) {\n",
       "        var name = mpl.toolbar_items[toolbar_ind][0];\n",
       "        var tooltip = mpl.toolbar_items[toolbar_ind][1];\n",
       "        var image = mpl.toolbar_items[toolbar_ind][2];\n",
       "        var method_name = mpl.toolbar_items[toolbar_ind][3];\n",
       "\n",
       "        if (!name) {\n",
       "            /* Instead of a spacer, we start a new button group. */\n",
       "            if (buttonGroup.hasChildNodes()) {\n",
       "                toolbar.appendChild(buttonGroup);\n",
       "            }\n",
       "            buttonGroup = document.createElement('div');\n",
       "            buttonGroup.classList = 'btn-group';\n",
       "            continue;\n",
       "        }\n",
       "\n",
       "        button = fig.buttons[name] = document.createElement('button');\n",
       "        button.classList = 'btn btn-default';\n",
       "        button.href = '#';\n",
       "        button.title = name;\n",
       "        button.innerHTML = '<i class=\"fa ' + image + ' fa-lg\"></i>';\n",
       "        button.addEventListener('click', on_click_closure(method_name));\n",
       "        button.addEventListener('mouseover', on_mouseover_closure(tooltip));\n",
       "        buttonGroup.appendChild(button);\n",
       "    }\n",
       "\n",
       "    if (buttonGroup.hasChildNodes()) {\n",
       "        toolbar.appendChild(buttonGroup);\n",
       "    }\n",
       "\n",
       "    // Add the status bar.\n",
       "    var status_bar = document.createElement('span');\n",
       "    status_bar.classList = 'mpl-message pull-right';\n",
       "    toolbar.appendChild(status_bar);\n",
       "    this.message = status_bar;\n",
       "\n",
       "    // Add the close button to the window.\n",
       "    var buttongrp = document.createElement('div');\n",
       "    buttongrp.classList = 'btn-group inline pull-right';\n",
       "    button = document.createElement('button');\n",
       "    button.classList = 'btn btn-mini btn-primary';\n",
       "    button.href = '#';\n",
       "    button.title = 'Stop Interaction';\n",
       "    button.innerHTML = '<i class=\"fa fa-power-off icon-remove icon-large\"></i>';\n",
       "    button.addEventListener('click', function (_evt) {\n",
       "        fig.handle_close(fig, {});\n",
       "    });\n",
       "    button.addEventListener(\n",
       "        'mouseover',\n",
       "        on_mouseover_closure('Stop Interaction')\n",
       "    );\n",
       "    buttongrp.appendChild(button);\n",
       "    var titlebar = this.root.querySelector('.ui-dialog-titlebar');\n",
       "    titlebar.insertBefore(buttongrp, titlebar.firstChild);\n",
       "};\n",
       "\n",
       "mpl.figure.prototype._remove_fig_handler = function (event) {\n",
       "    var fig = event.data.fig;\n",
       "    if (event.target !== this) {\n",
       "        // Ignore bubbled events from children.\n",
       "        return;\n",
       "    }\n",
       "    fig.close_ws(fig, {});\n",
       "};\n",
       "\n",
       "mpl.figure.prototype._root_extra_style = function (el) {\n",
       "    el.style.boxSizing = 'content-box'; // override notebook setting of border-box.\n",
       "};\n",
       "\n",
       "mpl.figure.prototype._canvas_extra_style = function (el) {\n",
       "    // this is important to make the div 'focusable\n",
       "    el.setAttribute('tabindex', 0);\n",
       "    // reach out to IPython and tell the keyboard manager to turn it's self\n",
       "    // off when our div gets focus\n",
       "\n",
       "    // location in version 3\n",
       "    if (IPython.notebook.keyboard_manager) {\n",
       "        IPython.notebook.keyboard_manager.register_events(el);\n",
       "    } else {\n",
       "        // location in version 2\n",
       "        IPython.keyboard_manager.register_events(el);\n",
       "    }\n",
       "};\n",
       "\n",
       "mpl.figure.prototype._key_event_extra = function (event, _name) {\n",
       "    var manager = IPython.notebook.keyboard_manager;\n",
       "    if (!manager) {\n",
       "        manager = IPython.keyboard_manager;\n",
       "    }\n",
       "\n",
       "    // Check for shift+enter\n",
       "    if (event.shiftKey && event.which === 13) {\n",
       "        this.canvas_div.blur();\n",
       "        // select the cell after this one\n",
       "        var index = IPython.notebook.find_cell_index(this.cell_info[0]);\n",
       "        IPython.notebook.select(index + 1);\n",
       "    }\n",
       "};\n",
       "\n",
       "mpl.figure.prototype.handle_save = function (fig, _msg) {\n",
       "    fig.ondownload(fig, null);\n",
       "};\n",
       "\n",
       "mpl.find_output_cell = function (html_output) {\n",
       "    // Return the cell and output element which can be found *uniquely* in the notebook.\n",
       "    // Note - this is a bit hacky, but it is done because the \"notebook_saving.Notebook\"\n",
       "    // IPython event is triggered only after the cells have been serialised, which for\n",
       "    // our purposes (turning an active figure into a static one), is too late.\n",
       "    var cells = IPython.notebook.get_cells();\n",
       "    var ncells = cells.length;\n",
       "    for (var i = 0; i < ncells; i++) {\n",
       "        var cell = cells[i];\n",
       "        if (cell.cell_type === 'code') {\n",
       "            for (var j = 0; j < cell.output_area.outputs.length; j++) {\n",
       "                var data = cell.output_area.outputs[j];\n",
       "                if (data.data) {\n",
       "                    // IPython >= 3 moved mimebundle to data attribute of output\n",
       "                    data = data.data;\n",
       "                }\n",
       "                if (data['text/html'] === html_output) {\n",
       "                    return [cell, data, j];\n",
       "                }\n",
       "            }\n",
       "        }\n",
       "    }\n",
       "};\n",
       "\n",
       "// Register the function which deals with the matplotlib target/channel.\n",
       "// The kernel may be null if the page has been refreshed.\n",
       "if (IPython.notebook.kernel !== null) {\n",
       "    IPython.notebook.kernel.comm_manager.register_target(\n",
       "        'matplotlib',\n",
       "        mpl.mpl_figure_comm\n",
       "    );\n",
       "}\n"
      ],
      "text/plain": [
       "<IPython.core.display.Javascript object>"
      ]
     },
     "metadata": {},
     "output_type": "display_data"
    },
    {
     "data": {
      "text/html": [
       "<img src=\"data:image/png;base64,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\" width=\"640\">"
      ],
      "text/plain": [
       "<IPython.core.display.HTML object>"
      ]
     },
     "metadata": {},
     "output_type": "display_data"
    },
    {
     "name": "stdout",
     "output_type": "stream",
     "text": [
      "89.55918860435486\n"
     ]
    }
   ],
   "source": [
    "# create 100 particles on the roads\n",
    "N = 1000\n",
    "dt = 0.1\n",
    "# pf = PF(r, N, dt=dt, v0=10, sigma=5)\n",
    "pf = PF(r, N, dt=dt, v0=10, sigma=4)\n",
    "\n",
    "R = 10*np.eye(2)\n",
    "\n",
    "target = Particle(r, v0=10, dt=dt, sigma=3)\n",
    "\n",
    "agent = Agent(center=(100, 50), width=100, height=50, period = 30, dt=dt)\n",
    "\n",
    "# lc = mc.LineCollection(edges, colors=[(0,0,0,1)])\n",
    "\n",
    "fig, ax = plt.subplots()\n",
    "# ax.add_collection(lc)\n",
    "\n",
    "r.visualize(ax)\n",
    "\n",
    "x0 = pf.X[:,0]\n",
    "y0 = pf.X[:,1]\n",
    "# for p in pf.X:\n",
    "#     loc = r.get_loc(p.state)\n",
    "#     x0.append(loc[0])\n",
    "#     y0.append(loc[1])\n",
    "\n",
    "# sc = ax.scatter([40, 110], [30, 10])\n",
    "sc = ax.scatter(x0, y0, s=10, linewidth=0, facecolor='green', label='particles')\n",
    "loc = r.get_loc(target.state)\n",
    "sc_target = ax.scatter([loc[0]], [loc[1]], s=100, marker='*', facecolor='green', label='target')\n",
    "agent.init_plot(ax)\n",
    "ax.legend()\n",
    "#ax.plot([50, 60], [50, 50], marker='o', ls='None')\n",
    "minX,maxX,minY,maxY = r.get_bounds()\n",
    "ax.set_xlim(minX-10, maxX+10)\n",
    "ax.set_ylim(minY-10, maxY+10)\n",
    "ax.set_aspect('equal')\n",
    "# plt.plot([0,1,1,2])\n",
    "# plt.show()\n",
    "fig.canvas.draw()\n",
    "start = time.time()\n",
    "Ts = dt\n",
    "tic = start\n",
    "# update the scenario\n",
    "for i in range(int(200/Ts)):\n",
    "# for i in range(1000):\n",
    "    pf.predict()\n",
    "    target.predict()\n",
    "    dist = np.linalg.norm(target.loc - agent.pos)\n",
    "#     print(dist)\n",
    "    if i % int(1/Ts) == 0 and i != 0:\n",
    "        if dist < agent.fov:\n",
    "            z = mvn.rvs(target.loc, R)\n",
    "            pf.update(z, R)\n",
    "        else:\n",
    "            pf.neg_update(agent.pos, radius=30)\n",
    "#     locs = [p.loc for p in pf.X]\n",
    "    locs = pf.X[:,:2]\n",
    "    sc.set_offsets(locs)\n",
    "    sc_target.set_offsets(target.loc)\n",
    "    agent.update()\n",
    "# sc.set_offsets([[50, 50], [130, 30]])\n",
    "    fig.canvas.draw()\n",
    "    toc = time.time()\n",
    "    dur = toc - tic\n",
    "#     if Ts > dur:\n",
    "#         time.sleep(Ts - dur)\n",
    "#     else:\n",
    "#         print(\"No time to sleep! %f\"%dur)\n",
    "    tic = toc\n",
    "dur = time.time() - start\n",
    "print(dur)"
   ]
  },
  {
   "cell_type": "code",
   "execution_count": 16,
   "metadata": {},
   "outputs": [],
   "source": [
    "import scipy.io as sio\n",
    "\n",
    "roads = []\n",
    "for a in r.graph:\n",
    "    roads += [(a, b) for b in r.graph[a]]\n",
    "\n",
    "roads = np.array(roads)\n",
    "\n",
    "\n",
    "sio.savemat('single_target.mat', {'roads':roads, 'agent':agent.pos, 'X':pf.X, 'target':target.loc})"
   ]
  },
  {
   "cell_type": "markdown",
   "metadata": {},
   "source": [
    "## Multiple Targets\n",
    "\n",
    "Here we need to create a bank of particle filters to track multiple targets with perfect correspondence."
   ]
  },
  {
   "cell_type": "code",
   "execution_count": 17,
   "metadata": {},
   "outputs": [],
   "source": [
    "# intersections\n",
    "i = [(0.,0.), (100.,0.), (200.,0), (0.,100), (100.,100.), (200.,100.), (0.,200), (100.,200.), (200.,200.)]\n",
    "edges = [(0, 1),\n",
    "         (0, 3),\n",
    "         (1, 2),\n",
    "         (1, 4),\n",
    "         (2, 5),\n",
    "         (3, 4),\n",
    "         (3, 6),\n",
    "         (4, 5),\n",
    "         (4, 7),\n",
    "         (5, 8),\n",
    "         (6, 7),\n",
    "         (7, 8)]\n",
    "\n",
    "# initialize the roadmap\n",
    "r = Roadmap(i, edges)"
   ]
  },
  {
   "cell_type": "code",
   "execution_count": 18,
   "metadata": {},
   "outputs": [],
   "source": [
    "# intersections\n",
    "i = [(0.,0.), (100.,0.), (200.,0), (300.,0),\n",
    "     (0.,100), (100.,100.), (200.,100.), (300.,100.), \n",
    "     (0.,200), (100.,200.), (200.,200.), (300.,200.), \n",
    "     (0.,300), (100.,300.), (200.,300.), (300.,300.)]\n",
    "edges = [(0, 1), (0, 4),\n",
    "         (1, 2), (1, 5),\n",
    "         (2, 3), (2, 6),\n",
    "         (3, 7),\n",
    "         (4, 5), (4, 8),\n",
    "         (5, 6), (5, 9),\n",
    "         (6, 7), (6, 10),\n",
    "         (7, 11),\n",
    "         (8, 9), (8, 12),\n",
    "         (9, 10), (9, 13),\n",
    "         (10, 11), (10, 14),\n",
    "         (11, 15),\n",
    "         (12, 13),\n",
    "         (13, 14),\n",
    "         (14, 15)]\n",
    "\n",
    "# initialize the roadmap\n",
    "r = Roadmap(i, edges)"
   ]
  },
  {
   "cell_type": "code",
   "execution_count": 20,
   "metadata": {
    "code_folding": [],
    "scrolled": true
   },
   "outputs": [
    {
     "data": {
      "application/javascript": [
       "/* Put everything inside the global mpl namespace */\n",
       "/* global mpl */\n",
       "window.mpl = {};\n",
       "\n",
       "mpl.get_websocket_type = function () {\n",
       "    if (typeof WebSocket !== 'undefined') {\n",
       "        return WebSocket;\n",
       "    } else if (typeof MozWebSocket !== 'undefined') {\n",
       "        return MozWebSocket;\n",
       "    } else {\n",
       "        alert(\n",
       "            'Your browser does not have WebSocket support. ' +\n",
       "                'Please try Chrome, Safari or Firefox ≥ 6. ' +\n",
       "                'Firefox 4 and 5 are also supported but you ' +\n",
       "                'have to enable WebSockets in about:config.'\n",
       "        );\n",
       "    }\n",
       "};\n",
       "\n",
       "mpl.figure = function (figure_id, websocket, ondownload, parent_element) {\n",
       "    this.id = figure_id;\n",
       "\n",
       "    this.ws = websocket;\n",
       "\n",
       "    this.supports_binary = this.ws.binaryType !== undefined;\n",
       "\n",
       "    if (!this.supports_binary) {\n",
       "        var warnings = document.getElementById('mpl-warnings');\n",
       "        if (warnings) {\n",
       "            warnings.style.display = 'block';\n",
       "            warnings.textContent =\n",
       "                'This browser does not support binary websocket messages. ' +\n",
       "                'Performance may be slow.';\n",
       "        }\n",
       "    }\n",
       "\n",
       "    this.imageObj = new Image();\n",
       "\n",
       "    this.context = undefined;\n",
       "    this.message = undefined;\n",
       "    this.canvas = undefined;\n",
       "    this.rubberband_canvas = undefined;\n",
       "    this.rubberband_context = undefined;\n",
       "    this.format_dropdown = undefined;\n",
       "\n",
       "    this.image_mode = 'full';\n",
       "\n",
       "    this.root = document.createElement('div');\n",
       "    this.root.setAttribute('style', 'display: inline-block');\n",
       "    this._root_extra_style(this.root);\n",
       "\n",
       "    parent_element.appendChild(this.root);\n",
       "\n",
       "    this._init_header(this);\n",
       "    this._init_canvas(this);\n",
       "    this._init_toolbar(this);\n",
       "\n",
       "    var fig = this;\n",
       "\n",
       "    this.waiting = false;\n",
       "\n",
       "    this.ws.onopen = function () {\n",
       "        fig.send_message('supports_binary', { value: fig.supports_binary });\n",
       "        fig.send_message('send_image_mode', {});\n",
       "        if (fig.ratio !== 1) {\n",
       "            fig.send_message('set_dpi_ratio', { dpi_ratio: fig.ratio });\n",
       "        }\n",
       "        fig.send_message('refresh', {});\n",
       "    };\n",
       "\n",
       "    this.imageObj.onload = function () {\n",
       "        if (fig.image_mode === 'full') {\n",
       "            // Full images could contain transparency (where diff images\n",
       "            // almost always do), so we need to clear the canvas so that\n",
       "            // there is no ghosting.\n",
       "            fig.context.clearRect(0, 0, fig.canvas.width, fig.canvas.height);\n",
       "        }\n",
       "        fig.context.drawImage(fig.imageObj, 0, 0);\n",
       "    };\n",
       "\n",
       "    this.imageObj.onunload = function () {\n",
       "        fig.ws.close();\n",
       "    };\n",
       "\n",
       "    this.ws.onmessage = this._make_on_message_function(this);\n",
       "\n",
       "    this.ondownload = ondownload;\n",
       "};\n",
       "\n",
       "mpl.figure.prototype._init_header = function () {\n",
       "    var titlebar = document.createElement('div');\n",
       "    titlebar.classList =\n",
       "        'ui-dialog-titlebar ui-widget-header ui-corner-all ui-helper-clearfix';\n",
       "    var titletext = document.createElement('div');\n",
       "    titletext.classList = 'ui-dialog-title';\n",
       "    titletext.setAttribute(\n",
       "        'style',\n",
       "        'width: 100%; text-align: center; padding: 3px;'\n",
       "    );\n",
       "    titlebar.appendChild(titletext);\n",
       "    this.root.appendChild(titlebar);\n",
       "    this.header = titletext;\n",
       "};\n",
       "\n",
       "mpl.figure.prototype._canvas_extra_style = function (_canvas_div) {};\n",
       "\n",
       "mpl.figure.prototype._root_extra_style = function (_canvas_div) {};\n",
       "\n",
       "mpl.figure.prototype._init_canvas = function () {\n",
       "    var fig = this;\n",
       "\n",
       "    var canvas_div = (this.canvas_div = document.createElement('div'));\n",
       "    canvas_div.setAttribute(\n",
       "        'style',\n",
       "        'border: 1px solid #ddd;' +\n",
       "            'box-sizing: content-box;' +\n",
       "            'clear: both;' +\n",
       "            'min-height: 1px;' +\n",
       "            'min-width: 1px;' +\n",
       "            'outline: 0;' +\n",
       "            'overflow: hidden;' +\n",
       "            'position: relative;' +\n",
       "            'resize: both;'\n",
       "    );\n",
       "\n",
       "    function on_keyboard_event_closure(name) {\n",
       "        return function (event) {\n",
       "            return fig.key_event(event, name);\n",
       "        };\n",
       "    }\n",
       "\n",
       "    canvas_div.addEventListener(\n",
       "        'keydown',\n",
       "        on_keyboard_event_closure('key_press')\n",
       "    );\n",
       "    canvas_div.addEventListener(\n",
       "        'keyup',\n",
       "        on_keyboard_event_closure('key_release')\n",
       "    );\n",
       "\n",
       "    this._canvas_extra_style(canvas_div);\n",
       "    this.root.appendChild(canvas_div);\n",
       "\n",
       "    var canvas = (this.canvas = document.createElement('canvas'));\n",
       "    canvas.classList.add('mpl-canvas');\n",
       "    canvas.setAttribute('style', 'box-sizing: content-box;');\n",
       "\n",
       "    this.context = canvas.getContext('2d');\n",
       "\n",
       "    var backingStore =\n",
       "        this.context.backingStorePixelRatio ||\n",
       "        this.context.webkitBackingStorePixelRatio ||\n",
       "        this.context.mozBackingStorePixelRatio ||\n",
       "        this.context.msBackingStorePixelRatio ||\n",
       "        this.context.oBackingStorePixelRatio ||\n",
       "        this.context.backingStorePixelRatio ||\n",
       "        1;\n",
       "\n",
       "    this.ratio = (window.devicePixelRatio || 1) / backingStore;\n",
       "\n",
       "    var rubberband_canvas = (this.rubberband_canvas = document.createElement(\n",
       "        'canvas'\n",
       "    ));\n",
       "    rubberband_canvas.setAttribute(\n",
       "        'style',\n",
       "        'box-sizing: content-box; position: absolute; left: 0; top: 0; z-index: 1;'\n",
       "    );\n",
       "\n",
       "    // Apply a ponyfill if ResizeObserver is not implemented by browser.\n",
       "    if (this.ResizeObserver === undefined) {\n",
       "        if (window.ResizeObserver !== undefined) {\n",
       "            this.ResizeObserver = window.ResizeObserver;\n",
       "        } else {\n",
       "            var obs = _JSXTOOLS_RESIZE_OBSERVER({});\n",
       "            this.ResizeObserver = obs.ResizeObserver;\n",
       "        }\n",
       "    }\n",
       "\n",
       "    this.resizeObserverInstance = new this.ResizeObserver(function (entries) {\n",
       "        var nentries = entries.length;\n",
       "        for (var i = 0; i < nentries; i++) {\n",
       "            var entry = entries[i];\n",
       "            var width, height;\n",
       "            if (entry.contentBoxSize) {\n",
       "                if (entry.contentBoxSize instanceof Array) {\n",
       "                    // Chrome 84 implements new version of spec.\n",
       "                    width = entry.contentBoxSize[0].inlineSize;\n",
       "                    height = entry.contentBoxSize[0].blockSize;\n",
       "                } else {\n",
       "                    // Firefox implements old version of spec.\n",
       "                    width = entry.contentBoxSize.inlineSize;\n",
       "                    height = entry.contentBoxSize.blockSize;\n",
       "                }\n",
       "            } else {\n",
       "                // Chrome <84 implements even older version of spec.\n",
       "                width = entry.contentRect.width;\n",
       "                height = entry.contentRect.height;\n",
       "            }\n",
       "\n",
       "            // Keep the size of the canvas and rubber band canvas in sync with\n",
       "            // the canvas container.\n",
       "            if (entry.devicePixelContentBoxSize) {\n",
       "                // Chrome 84 implements new version of spec.\n",
       "                canvas.setAttribute(\n",
       "                    'width',\n",
       "                    entry.devicePixelContentBoxSize[0].inlineSize\n",
       "                );\n",
       "                canvas.setAttribute(\n",
       "                    'height',\n",
       "                    entry.devicePixelContentBoxSize[0].blockSize\n",
       "                );\n",
       "            } else {\n",
       "                canvas.setAttribute('width', width * fig.ratio);\n",
       "                canvas.setAttribute('height', height * fig.ratio);\n",
       "            }\n",
       "            canvas.setAttribute(\n",
       "                'style',\n",
       "                'width: ' + width + 'px; height: ' + height + 'px;'\n",
       "            );\n",
       "\n",
       "            rubberband_canvas.setAttribute('width', width);\n",
       "            rubberband_canvas.setAttribute('height', height);\n",
       "\n",
       "            // And update the size in Python. We ignore the initial 0/0 size\n",
       "            // that occurs as the element is placed into the DOM, which should\n",
       "            // otherwise not happen due to the minimum size styling.\n",
       "            if (fig.ws.readyState == 1 && width != 0 && height != 0) {\n",
       "                fig.request_resize(width, height);\n",
       "            }\n",
       "        }\n",
       "    });\n",
       "    this.resizeObserverInstance.observe(canvas_div);\n",
       "\n",
       "    function on_mouse_event_closure(name) {\n",
       "        return function (event) {\n",
       "            return fig.mouse_event(event, name);\n",
       "        };\n",
       "    }\n",
       "\n",
       "    rubberband_canvas.addEventListener(\n",
       "        'mousedown',\n",
       "        on_mouse_event_closure('button_press')\n",
       "    );\n",
       "    rubberband_canvas.addEventListener(\n",
       "        'mouseup',\n",
       "        on_mouse_event_closure('button_release')\n",
       "    );\n",
       "    rubberband_canvas.addEventListener(\n",
       "        'dblclick',\n",
       "        on_mouse_event_closure('dblclick')\n",
       "    );\n",
       "    // Throttle sequential mouse events to 1 every 20ms.\n",
       "    rubberband_canvas.addEventListener(\n",
       "        'mousemove',\n",
       "        on_mouse_event_closure('motion_notify')\n",
       "    );\n",
       "\n",
       "    rubberband_canvas.addEventListener(\n",
       "        'mouseenter',\n",
       "        on_mouse_event_closure('figure_enter')\n",
       "    );\n",
       "    rubberband_canvas.addEventListener(\n",
       "        'mouseleave',\n",
       "        on_mouse_event_closure('figure_leave')\n",
       "    );\n",
       "\n",
       "    canvas_div.addEventListener('wheel', function (event) {\n",
       "        if (event.deltaY < 0) {\n",
       "            event.step = 1;\n",
       "        } else {\n",
       "            event.step = -1;\n",
       "        }\n",
       "        on_mouse_event_closure('scroll')(event);\n",
       "    });\n",
       "\n",
       "    canvas_div.appendChild(canvas);\n",
       "    canvas_div.appendChild(rubberband_canvas);\n",
       "\n",
       "    this.rubberband_context = rubberband_canvas.getContext('2d');\n",
       "    this.rubberband_context.strokeStyle = '#000000';\n",
       "\n",
       "    this._resize_canvas = function (width, height, forward) {\n",
       "        if (forward) {\n",
       "            canvas_div.style.width = width + 'px';\n",
       "            canvas_div.style.height = height + 'px';\n",
       "        }\n",
       "    };\n",
       "\n",
       "    // Disable right mouse context menu.\n",
       "    this.rubberband_canvas.addEventListener('contextmenu', function (_e) {\n",
       "        event.preventDefault();\n",
       "        return false;\n",
       "    });\n",
       "\n",
       "    function set_focus() {\n",
       "        canvas.focus();\n",
       "        canvas_div.focus();\n",
       "    }\n",
       "\n",
       "    window.setTimeout(set_focus, 100);\n",
       "};\n",
       "\n",
       "mpl.figure.prototype._init_toolbar = function () {\n",
       "    var fig = this;\n",
       "\n",
       "    var toolbar = document.createElement('div');\n",
       "    toolbar.classList = 'mpl-toolbar';\n",
       "    this.root.appendChild(toolbar);\n",
       "\n",
       "    function on_click_closure(name) {\n",
       "        return function (_event) {\n",
       "            return fig.toolbar_button_onclick(name);\n",
       "        };\n",
       "    }\n",
       "\n",
       "    function on_mouseover_closure(tooltip) {\n",
       "        return function (event) {\n",
       "            if (!event.currentTarget.disabled) {\n",
       "                return fig.toolbar_button_onmouseover(tooltip);\n",
       "            }\n",
       "        };\n",
       "    }\n",
       "\n",
       "    fig.buttons = {};\n",
       "    var buttonGroup = document.createElement('div');\n",
       "    buttonGroup.classList = 'mpl-button-group';\n",
       "    for (var toolbar_ind in mpl.toolbar_items) {\n",
       "        var name = mpl.toolbar_items[toolbar_ind][0];\n",
       "        var tooltip = mpl.toolbar_items[toolbar_ind][1];\n",
       "        var image = mpl.toolbar_items[toolbar_ind][2];\n",
       "        var method_name = mpl.toolbar_items[toolbar_ind][3];\n",
       "\n",
       "        if (!name) {\n",
       "            /* Instead of a spacer, we start a new button group. */\n",
       "            if (buttonGroup.hasChildNodes()) {\n",
       "                toolbar.appendChild(buttonGroup);\n",
       "            }\n",
       "            buttonGroup = document.createElement('div');\n",
       "            buttonGroup.classList = 'mpl-button-group';\n",
       "            continue;\n",
       "        }\n",
       "\n",
       "        var button = (fig.buttons[name] = document.createElement('button'));\n",
       "        button.classList = 'mpl-widget';\n",
       "        button.setAttribute('role', 'button');\n",
       "        button.setAttribute('aria-disabled', 'false');\n",
       "        button.addEventListener('click', on_click_closure(method_name));\n",
       "        button.addEventListener('mouseover', on_mouseover_closure(tooltip));\n",
       "\n",
       "        var icon_img = document.createElement('img');\n",
       "        icon_img.src = '_images/' + image + '.png';\n",
       "        icon_img.srcset = '_images/' + image + '_large.png 2x';\n",
       "        icon_img.alt = tooltip;\n",
       "        button.appendChild(icon_img);\n",
       "\n",
       "        buttonGroup.appendChild(button);\n",
       "    }\n",
       "\n",
       "    if (buttonGroup.hasChildNodes()) {\n",
       "        toolbar.appendChild(buttonGroup);\n",
       "    }\n",
       "\n",
       "    var fmt_picker = document.createElement('select');\n",
       "    fmt_picker.classList = 'mpl-widget';\n",
       "    toolbar.appendChild(fmt_picker);\n",
       "    this.format_dropdown = fmt_picker;\n",
       "\n",
       "    for (var ind in mpl.extensions) {\n",
       "        var fmt = mpl.extensions[ind];\n",
       "        var option = document.createElement('option');\n",
       "        option.selected = fmt === mpl.default_extension;\n",
       "        option.innerHTML = fmt;\n",
       "        fmt_picker.appendChild(option);\n",
       "    }\n",
       "\n",
       "    var status_bar = document.createElement('span');\n",
       "    status_bar.classList = 'mpl-message';\n",
       "    toolbar.appendChild(status_bar);\n",
       "    this.message = status_bar;\n",
       "};\n",
       "\n",
       "mpl.figure.prototype.request_resize = function (x_pixels, y_pixels) {\n",
       "    // Request matplotlib to resize the figure. Matplotlib will then trigger a resize in the client,\n",
       "    // which will in turn request a refresh of the image.\n",
       "    this.send_message('resize', { width: x_pixels, height: y_pixels });\n",
       "};\n",
       "\n",
       "mpl.figure.prototype.send_message = function (type, properties) {\n",
       "    properties['type'] = type;\n",
       "    properties['figure_id'] = this.id;\n",
       "    this.ws.send(JSON.stringify(properties));\n",
       "};\n",
       "\n",
       "mpl.figure.prototype.send_draw_message = function () {\n",
       "    if (!this.waiting) {\n",
       "        this.waiting = true;\n",
       "        this.ws.send(JSON.stringify({ type: 'draw', figure_id: this.id }));\n",
       "    }\n",
       "};\n",
       "\n",
       "mpl.figure.prototype.handle_save = function (fig, _msg) {\n",
       "    var format_dropdown = fig.format_dropdown;\n",
       "    var format = format_dropdown.options[format_dropdown.selectedIndex].value;\n",
       "    fig.ondownload(fig, format);\n",
       "};\n",
       "\n",
       "mpl.figure.prototype.handle_resize = function (fig, msg) {\n",
       "    var size = msg['size'];\n",
       "    if (size[0] !== fig.canvas.width || size[1] !== fig.canvas.height) {\n",
       "        fig._resize_canvas(size[0], size[1], msg['forward']);\n",
       "        fig.send_message('refresh', {});\n",
       "    }\n",
       "};\n",
       "\n",
       "mpl.figure.prototype.handle_rubberband = function (fig, msg) {\n",
       "    var x0 = msg['x0'] / fig.ratio;\n",
       "    var y0 = (fig.canvas.height - msg['y0']) / fig.ratio;\n",
       "    var x1 = msg['x1'] / fig.ratio;\n",
       "    var y1 = (fig.canvas.height - msg['y1']) / fig.ratio;\n",
       "    x0 = Math.floor(x0) + 0.5;\n",
       "    y0 = Math.floor(y0) + 0.5;\n",
       "    x1 = Math.floor(x1) + 0.5;\n",
       "    y1 = Math.floor(y1) + 0.5;\n",
       "    var min_x = Math.min(x0, x1);\n",
       "    var min_y = Math.min(y0, y1);\n",
       "    var width = Math.abs(x1 - x0);\n",
       "    var height = Math.abs(y1 - y0);\n",
       "\n",
       "    fig.rubberband_context.clearRect(\n",
       "        0,\n",
       "        0,\n",
       "        fig.canvas.width / fig.ratio,\n",
       "        fig.canvas.height / fig.ratio\n",
       "    );\n",
       "\n",
       "    fig.rubberband_context.strokeRect(min_x, min_y, width, height);\n",
       "};\n",
       "\n",
       "mpl.figure.prototype.handle_figure_label = function (fig, msg) {\n",
       "    // Updates the figure title.\n",
       "    fig.header.textContent = msg['label'];\n",
       "};\n",
       "\n",
       "mpl.figure.prototype.handle_cursor = function (fig, msg) {\n",
       "    var cursor = msg['cursor'];\n",
       "    switch (cursor) {\n",
       "        case 0:\n",
       "            cursor = 'pointer';\n",
       "            break;\n",
       "        case 1:\n",
       "            cursor = 'default';\n",
       "            break;\n",
       "        case 2:\n",
       "            cursor = 'crosshair';\n",
       "            break;\n",
       "        case 3:\n",
       "            cursor = 'move';\n",
       "            break;\n",
       "    }\n",
       "    fig.rubberband_canvas.style.cursor = cursor;\n",
       "};\n",
       "\n",
       "mpl.figure.prototype.handle_message = function (fig, msg) {\n",
       "    fig.message.textContent = msg['message'];\n",
       "};\n",
       "\n",
       "mpl.figure.prototype.handle_draw = function (fig, _msg) {\n",
       "    // Request the server to send over a new figure.\n",
       "    fig.send_draw_message();\n",
       "};\n",
       "\n",
       "mpl.figure.prototype.handle_image_mode = function (fig, msg) {\n",
       "    fig.image_mode = msg['mode'];\n",
       "};\n",
       "\n",
       "mpl.figure.prototype.handle_history_buttons = function (fig, msg) {\n",
       "    for (var key in msg) {\n",
       "        if (!(key in fig.buttons)) {\n",
       "            continue;\n",
       "        }\n",
       "        fig.buttons[key].disabled = !msg[key];\n",
       "        fig.buttons[key].setAttribute('aria-disabled', !msg[key]);\n",
       "    }\n",
       "};\n",
       "\n",
       "mpl.figure.prototype.handle_navigate_mode = function (fig, msg) {\n",
       "    if (msg['mode'] === 'PAN') {\n",
       "        fig.buttons['Pan'].classList.add('active');\n",
       "        fig.buttons['Zoom'].classList.remove('active');\n",
       "    } else if (msg['mode'] === 'ZOOM') {\n",
       "        fig.buttons['Pan'].classList.remove('active');\n",
       "        fig.buttons['Zoom'].classList.add('active');\n",
       "    } else {\n",
       "        fig.buttons['Pan'].classList.remove('active');\n",
       "        fig.buttons['Zoom'].classList.remove('active');\n",
       "    }\n",
       "};\n",
       "\n",
       "mpl.figure.prototype.updated_canvas_event = function () {\n",
       "    // Called whenever the canvas gets updated.\n",
       "    this.send_message('ack', {});\n",
       "};\n",
       "\n",
       "// A function to construct a web socket function for onmessage handling.\n",
       "// Called in the figure constructor.\n",
       "mpl.figure.prototype._make_on_message_function = function (fig) {\n",
       "    return function socket_on_message(evt) {\n",
       "        if (evt.data instanceof Blob) {\n",
       "            var img = evt.data;\n",
       "            if (img.type !== 'image/png') {\n",
       "                /* FIXME: We get \"Resource interpreted as Image but\n",
       "                 * transferred with MIME type text/plain:\" errors on\n",
       "                 * Chrome.  But how to set the MIME type?  It doesn't seem\n",
       "                 * to be part of the websocket stream */\n",
       "                img.type = 'image/png';\n",
       "            }\n",
       "\n",
       "            /* Free the memory for the previous frames */\n",
       "            if (fig.imageObj.src) {\n",
       "                (window.URL || window.webkitURL).revokeObjectURL(\n",
       "                    fig.imageObj.src\n",
       "                );\n",
       "            }\n",
       "\n",
       "            fig.imageObj.src = (window.URL || window.webkitURL).createObjectURL(\n",
       "                img\n",
       "            );\n",
       "            fig.updated_canvas_event();\n",
       "            fig.waiting = false;\n",
       "            return;\n",
       "        } else if (\n",
       "            typeof evt.data === 'string' &&\n",
       "            evt.data.slice(0, 21) === 'data:image/png;base64'\n",
       "        ) {\n",
       "            fig.imageObj.src = evt.data;\n",
       "            fig.updated_canvas_event();\n",
       "            fig.waiting = false;\n",
       "            return;\n",
       "        }\n",
       "\n",
       "        var msg = JSON.parse(evt.data);\n",
       "        var msg_type = msg['type'];\n",
       "\n",
       "        // Call the  \"handle_{type}\" callback, which takes\n",
       "        // the figure and JSON message as its only arguments.\n",
       "        try {\n",
       "            var callback = fig['handle_' + msg_type];\n",
       "        } catch (e) {\n",
       "            console.log(\n",
       "                \"No handler for the '\" + msg_type + \"' message type: \",\n",
       "                msg\n",
       "            );\n",
       "            return;\n",
       "        }\n",
       "\n",
       "        if (callback) {\n",
       "            try {\n",
       "                // console.log(\"Handling '\" + msg_type + \"' message: \", msg);\n",
       "                callback(fig, msg);\n",
       "            } catch (e) {\n",
       "                console.log(\n",
       "                    \"Exception inside the 'handler_\" + msg_type + \"' callback:\",\n",
       "                    e,\n",
       "                    e.stack,\n",
       "                    msg\n",
       "                );\n",
       "            }\n",
       "        }\n",
       "    };\n",
       "};\n",
       "\n",
       "// from http://stackoverflow.com/questions/1114465/getting-mouse-location-in-canvas\n",
       "mpl.findpos = function (e) {\n",
       "    //this section is from http://www.quirksmode.org/js/events_properties.html\n",
       "    var targ;\n",
       "    if (!e) {\n",
       "        e = window.event;\n",
       "    }\n",
       "    if (e.target) {\n",
       "        targ = e.target;\n",
       "    } else if (e.srcElement) {\n",
       "        targ = e.srcElement;\n",
       "    }\n",
       "    if (targ.nodeType === 3) {\n",
       "        // defeat Safari bug\n",
       "        targ = targ.parentNode;\n",
       "    }\n",
       "\n",
       "    // pageX,Y are the mouse positions relative to the document\n",
       "    var boundingRect = targ.getBoundingClientRect();\n",
       "    var x = e.pageX - (boundingRect.left + document.body.scrollLeft);\n",
       "    var y = e.pageY - (boundingRect.top + document.body.scrollTop);\n",
       "\n",
       "    return { x: x, y: y };\n",
       "};\n",
       "\n",
       "/*\n",
       " * return a copy of an object with only non-object keys\n",
       " * we need this to avoid circular references\n",
       " * http://stackoverflow.com/a/24161582/3208463\n",
       " */\n",
       "function simpleKeys(original) {\n",
       "    return Object.keys(original).reduce(function (obj, key) {\n",
       "        if (typeof original[key] !== 'object') {\n",
       "            obj[key] = original[key];\n",
       "        }\n",
       "        return obj;\n",
       "    }, {});\n",
       "}\n",
       "\n",
       "mpl.figure.prototype.mouse_event = function (event, name) {\n",
       "    var canvas_pos = mpl.findpos(event);\n",
       "\n",
       "    if (name === 'button_press') {\n",
       "        this.canvas.focus();\n",
       "        this.canvas_div.focus();\n",
       "    }\n",
       "\n",
       "    var x = canvas_pos.x * this.ratio;\n",
       "    var y = canvas_pos.y * this.ratio;\n",
       "\n",
       "    this.send_message(name, {\n",
       "        x: x,\n",
       "        y: y,\n",
       "        button: event.button,\n",
       "        step: event.step,\n",
       "        guiEvent: simpleKeys(event),\n",
       "    });\n",
       "\n",
       "    /* This prevents the web browser from automatically changing to\n",
       "     * the text insertion cursor when the button is pressed.  We want\n",
       "     * to control all of the cursor setting manually through the\n",
       "     * 'cursor' event from matplotlib */\n",
       "    event.preventDefault();\n",
       "    return false;\n",
       "};\n",
       "\n",
       "mpl.figure.prototype._key_event_extra = function (_event, _name) {\n",
       "    // Handle any extra behaviour associated with a key event\n",
       "};\n",
       "\n",
       "mpl.figure.prototype.key_event = function (event, name) {\n",
       "    // Prevent repeat events\n",
       "    if (name === 'key_press') {\n",
       "        if (event.key === this._key) {\n",
       "            return;\n",
       "        } else {\n",
       "            this._key = event.key;\n",
       "        }\n",
       "    }\n",
       "    if (name === 'key_release') {\n",
       "        this._key = null;\n",
       "    }\n",
       "\n",
       "    var value = '';\n",
       "    if (event.ctrlKey && event.key !== 'Control') {\n",
       "        value += 'ctrl+';\n",
       "    }\n",
       "    else if (event.altKey && event.key !== 'Alt') {\n",
       "        value += 'alt+';\n",
       "    }\n",
       "    else if (event.shiftKey && event.key !== 'Shift') {\n",
       "        value += 'shift+';\n",
       "    }\n",
       "\n",
       "    value += 'k' + event.key;\n",
       "\n",
       "    this._key_event_extra(event, name);\n",
       "\n",
       "    this.send_message(name, { key: value, guiEvent: simpleKeys(event) });\n",
       "    return false;\n",
       "};\n",
       "\n",
       "mpl.figure.prototype.toolbar_button_onclick = function (name) {\n",
       "    if (name === 'download') {\n",
       "        this.handle_save(this, null);\n",
       "    } else {\n",
       "        this.send_message('toolbar_button', { name: name });\n",
       "    }\n",
       "};\n",
       "\n",
       "mpl.figure.prototype.toolbar_button_onmouseover = function (tooltip) {\n",
       "    this.message.textContent = tooltip;\n",
       "};\n",
       "\n",
       "///////////////// REMAINING CONTENT GENERATED BY embed_js.py /////////////////\n",
       "// prettier-ignore\n",
       "var _JSXTOOLS_RESIZE_OBSERVER=function(A){var t,i=new WeakMap,n=new WeakMap,a=new WeakMap,r=new WeakMap,o=new Set;function s(e){if(!(this instanceof s))throw new TypeError(\"Constructor requires 'new' operator\");i.set(this,e)}function h(){throw new TypeError(\"Function is not a constructor\")}function c(e,t,i,n){e=0 in arguments?Number(arguments[0]):0,t=1 in arguments?Number(arguments[1]):0,i=2 in arguments?Number(arguments[2]):0,n=3 in arguments?Number(arguments[3]):0,this.right=(this.x=this.left=e)+(this.width=i),this.bottom=(this.y=this.top=t)+(this.height=n),Object.freeze(this)}function d(){t=requestAnimationFrame(d);var s=new WeakMap,p=new Set;o.forEach((function(t){r.get(t).forEach((function(i){var r=t instanceof window.SVGElement,o=a.get(t),d=r?0:parseFloat(o.paddingTop),f=r?0:parseFloat(o.paddingRight),l=r?0:parseFloat(o.paddingBottom),u=r?0:parseFloat(o.paddingLeft),g=r?0:parseFloat(o.borderTopWidth),m=r?0:parseFloat(o.borderRightWidth),w=r?0:parseFloat(o.borderBottomWidth),b=u+f,F=d+l,v=(r?0:parseFloat(o.borderLeftWidth))+m,W=g+w,y=r?0:t.offsetHeight-W-t.clientHeight,E=r?0:t.offsetWidth-v-t.clientWidth,R=b+v,z=F+W,M=r?t.width:parseFloat(o.width)-R-E,O=r?t.height:parseFloat(o.height)-z-y;if(n.has(t)){var k=n.get(t);if(k[0]===M&&k[1]===O)return}n.set(t,[M,O]);var S=Object.create(h.prototype);S.target=t,S.contentRect=new c(u,d,M,O),s.has(i)||(s.set(i,[]),p.add(i)),s.get(i).push(S)}))})),p.forEach((function(e){i.get(e).call(e,s.get(e),e)}))}return s.prototype.observe=function(i){if(i instanceof window.Element){r.has(i)||(r.set(i,new Set),o.add(i),a.set(i,window.getComputedStyle(i)));var n=r.get(i);n.has(this)||n.add(this),cancelAnimationFrame(t),t=requestAnimationFrame(d)}},s.prototype.unobserve=function(i){if(i instanceof window.Element&&r.has(i)){var n=r.get(i);n.has(this)&&(n.delete(this),n.size||(r.delete(i),o.delete(i))),n.size||r.delete(i),o.size||cancelAnimationFrame(t)}},A.DOMRectReadOnly=c,A.ResizeObserver=s,A.ResizeObserverEntry=h,A}; // eslint-disable-line\n",
       "mpl.toolbar_items = [[\"Home\", \"Reset original view\", \"fa fa-home icon-home\", \"home\"], [\"Back\", \"Back to previous view\", \"fa fa-arrow-left icon-arrow-left\", \"back\"], [\"Forward\", \"Forward to next view\", \"fa fa-arrow-right icon-arrow-right\", \"forward\"], [\"\", \"\", \"\", \"\"], [\"Pan\", \"Left button pans, Right button zooms\\nx/y fixes axis, CTRL fixes aspect\", \"fa fa-arrows icon-move\", \"pan\"], [\"Zoom\", \"Zoom to rectangle\\nx/y fixes axis, CTRL fixes aspect\", \"fa fa-square-o icon-check-empty\", \"zoom\"], [\"\", \"\", \"\", \"\"], [\"Download\", \"Download plot\", \"fa fa-floppy-o icon-save\", \"download\"]];\n",
       "\n",
       "mpl.extensions = [\"eps\", \"jpeg\", \"pgf\", \"pdf\", \"png\", \"ps\", \"raw\", \"svg\", \"tif\"];\n",
       "\n",
       "mpl.default_extension = \"png\";/* global mpl */\n",
       "\n",
       "var comm_websocket_adapter = function (comm) {\n",
       "    // Create a \"websocket\"-like object which calls the given IPython comm\n",
       "    // object with the appropriate methods. Currently this is a non binary\n",
       "    // socket, so there is still some room for performance tuning.\n",
       "    var ws = {};\n",
       "\n",
       "    ws.binaryType = comm.kernel.ws.binaryType;\n",
       "    ws.readyState = comm.kernel.ws.readyState;\n",
       "    function updateReadyState(_event) {\n",
       "        if (comm.kernel.ws) {\n",
       "            ws.readyState = comm.kernel.ws.readyState;\n",
       "        } else {\n",
       "            ws.readyState = 3; // Closed state.\n",
       "        }\n",
       "    }\n",
       "    comm.kernel.ws.addEventListener('open', updateReadyState);\n",
       "    comm.kernel.ws.addEventListener('close', updateReadyState);\n",
       "    comm.kernel.ws.addEventListener('error', updateReadyState);\n",
       "\n",
       "    ws.close = function () {\n",
       "        comm.close();\n",
       "    };\n",
       "    ws.send = function (m) {\n",
       "        //console.log('sending', m);\n",
       "        comm.send(m);\n",
       "    };\n",
       "    // Register the callback with on_msg.\n",
       "    comm.on_msg(function (msg) {\n",
       "        //console.log('receiving', msg['content']['data'], msg);\n",
       "        var data = msg['content']['data'];\n",
       "        if (data['blob'] !== undefined) {\n",
       "            data = {\n",
       "                data: new Blob(msg['buffers'], { type: data['blob'] }),\n",
       "            };\n",
       "        }\n",
       "        // Pass the mpl event to the overridden (by mpl) onmessage function.\n",
       "        ws.onmessage(data);\n",
       "    });\n",
       "    return ws;\n",
       "};\n",
       "\n",
       "mpl.mpl_figure_comm = function (comm, msg) {\n",
       "    // This is the function which gets called when the mpl process\n",
       "    // starts-up an IPython Comm through the \"matplotlib\" channel.\n",
       "\n",
       "    var id = msg.content.data.id;\n",
       "    // Get hold of the div created by the display call when the Comm\n",
       "    // socket was opened in Python.\n",
       "    var element = document.getElementById(id);\n",
       "    var ws_proxy = comm_websocket_adapter(comm);\n",
       "\n",
       "    function ondownload(figure, _format) {\n",
       "        window.open(figure.canvas.toDataURL());\n",
       "    }\n",
       "\n",
       "    var fig = new mpl.figure(id, ws_proxy, ondownload, element);\n",
       "\n",
       "    // Call onopen now - mpl needs it, as it is assuming we've passed it a real\n",
       "    // web socket which is closed, not our websocket->open comm proxy.\n",
       "    ws_proxy.onopen();\n",
       "\n",
       "    fig.parent_element = element;\n",
       "    fig.cell_info = mpl.find_output_cell(\"<div id='\" + id + \"'></div>\");\n",
       "    if (!fig.cell_info) {\n",
       "        console.error('Failed to find cell for figure', id, fig);\n",
       "        return;\n",
       "    }\n",
       "    fig.cell_info[0].output_area.element.on(\n",
       "        'cleared',\n",
       "        { fig: fig },\n",
       "        fig._remove_fig_handler\n",
       "    );\n",
       "};\n",
       "\n",
       "mpl.figure.prototype.handle_close = function (fig, msg) {\n",
       "    var width = fig.canvas.width / fig.ratio;\n",
       "    fig.cell_info[0].output_area.element.off(\n",
       "        'cleared',\n",
       "        fig._remove_fig_handler\n",
       "    );\n",
       "    fig.resizeObserverInstance.unobserve(fig.canvas_div);\n",
       "\n",
       "    // Update the output cell to use the data from the current canvas.\n",
       "    fig.push_to_output();\n",
       "    var dataURL = fig.canvas.toDataURL();\n",
       "    // Re-enable the keyboard manager in IPython - without this line, in FF,\n",
       "    // the notebook keyboard shortcuts fail.\n",
       "    IPython.keyboard_manager.enable();\n",
       "    fig.parent_element.innerHTML =\n",
       "        '<img src=\"' + dataURL + '\" width=\"' + width + '\">';\n",
       "    fig.close_ws(fig, msg);\n",
       "};\n",
       "\n",
       "mpl.figure.prototype.close_ws = function (fig, msg) {\n",
       "    fig.send_message('closing', msg);\n",
       "    // fig.ws.close()\n",
       "};\n",
       "\n",
       "mpl.figure.prototype.push_to_output = function (_remove_interactive) {\n",
       "    // Turn the data on the canvas into data in the output cell.\n",
       "    var width = this.canvas.width / this.ratio;\n",
       "    var dataURL = this.canvas.toDataURL();\n",
       "    this.cell_info[1]['text/html'] =\n",
       "        '<img src=\"' + dataURL + '\" width=\"' + width + '\">';\n",
       "};\n",
       "\n",
       "mpl.figure.prototype.updated_canvas_event = function () {\n",
       "    // Tell IPython that the notebook contents must change.\n",
       "    IPython.notebook.set_dirty(true);\n",
       "    this.send_message('ack', {});\n",
       "    var fig = this;\n",
       "    // Wait a second, then push the new image to the DOM so\n",
       "    // that it is saved nicely (might be nice to debounce this).\n",
       "    setTimeout(function () {\n",
       "        fig.push_to_output();\n",
       "    }, 1000);\n",
       "};\n",
       "\n",
       "mpl.figure.prototype._init_toolbar = function () {\n",
       "    var fig = this;\n",
       "\n",
       "    var toolbar = document.createElement('div');\n",
       "    toolbar.classList = 'btn-toolbar';\n",
       "    this.root.appendChild(toolbar);\n",
       "\n",
       "    function on_click_closure(name) {\n",
       "        return function (_event) {\n",
       "            return fig.toolbar_button_onclick(name);\n",
       "        };\n",
       "    }\n",
       "\n",
       "    function on_mouseover_closure(tooltip) {\n",
       "        return function (event) {\n",
       "            if (!event.currentTarget.disabled) {\n",
       "                return fig.toolbar_button_onmouseover(tooltip);\n",
       "            }\n",
       "        };\n",
       "    }\n",
       "\n",
       "    fig.buttons = {};\n",
       "    var buttonGroup = document.createElement('div');\n",
       "    buttonGroup.classList = 'btn-group';\n",
       "    var button;\n",
       "    for (var toolbar_ind in mpl.toolbar_items) {\n",
       "        var name = mpl.toolbar_items[toolbar_ind][0];\n",
       "        var tooltip = mpl.toolbar_items[toolbar_ind][1];\n",
       "        var image = mpl.toolbar_items[toolbar_ind][2];\n",
       "        var method_name = mpl.toolbar_items[toolbar_ind][3];\n",
       "\n",
       "        if (!name) {\n",
       "            /* Instead of a spacer, we start a new button group. */\n",
       "            if (buttonGroup.hasChildNodes()) {\n",
       "                toolbar.appendChild(buttonGroup);\n",
       "            }\n",
       "            buttonGroup = document.createElement('div');\n",
       "            buttonGroup.classList = 'btn-group';\n",
       "            continue;\n",
       "        }\n",
       "\n",
       "        button = fig.buttons[name] = document.createElement('button');\n",
       "        button.classList = 'btn btn-default';\n",
       "        button.href = '#';\n",
       "        button.title = name;\n",
       "        button.innerHTML = '<i class=\"fa ' + image + ' fa-lg\"></i>';\n",
       "        button.addEventListener('click', on_click_closure(method_name));\n",
       "        button.addEventListener('mouseover', on_mouseover_closure(tooltip));\n",
       "        buttonGroup.appendChild(button);\n",
       "    }\n",
       "\n",
       "    if (buttonGroup.hasChildNodes()) {\n",
       "        toolbar.appendChild(buttonGroup);\n",
       "    }\n",
       "\n",
       "    // Add the status bar.\n",
       "    var status_bar = document.createElement('span');\n",
       "    status_bar.classList = 'mpl-message pull-right';\n",
       "    toolbar.appendChild(status_bar);\n",
       "    this.message = status_bar;\n",
       "\n",
       "    // Add the close button to the window.\n",
       "    var buttongrp = document.createElement('div');\n",
       "    buttongrp.classList = 'btn-group inline pull-right';\n",
       "    button = document.createElement('button');\n",
       "    button.classList = 'btn btn-mini btn-primary';\n",
       "    button.href = '#';\n",
       "    button.title = 'Stop Interaction';\n",
       "    button.innerHTML = '<i class=\"fa fa-power-off icon-remove icon-large\"></i>';\n",
       "    button.addEventListener('click', function (_evt) {\n",
       "        fig.handle_close(fig, {});\n",
       "    });\n",
       "    button.addEventListener(\n",
       "        'mouseover',\n",
       "        on_mouseover_closure('Stop Interaction')\n",
       "    );\n",
       "    buttongrp.appendChild(button);\n",
       "    var titlebar = this.root.querySelector('.ui-dialog-titlebar');\n",
       "    titlebar.insertBefore(buttongrp, titlebar.firstChild);\n",
       "};\n",
       "\n",
       "mpl.figure.prototype._remove_fig_handler = function (event) {\n",
       "    var fig = event.data.fig;\n",
       "    if (event.target !== this) {\n",
       "        // Ignore bubbled events from children.\n",
       "        return;\n",
       "    }\n",
       "    fig.close_ws(fig, {});\n",
       "};\n",
       "\n",
       "mpl.figure.prototype._root_extra_style = function (el) {\n",
       "    el.style.boxSizing = 'content-box'; // override notebook setting of border-box.\n",
       "};\n",
       "\n",
       "mpl.figure.prototype._canvas_extra_style = function (el) {\n",
       "    // this is important to make the div 'focusable\n",
       "    el.setAttribute('tabindex', 0);\n",
       "    // reach out to IPython and tell the keyboard manager to turn it's self\n",
       "    // off when our div gets focus\n",
       "\n",
       "    // location in version 3\n",
       "    if (IPython.notebook.keyboard_manager) {\n",
       "        IPython.notebook.keyboard_manager.register_events(el);\n",
       "    } else {\n",
       "        // location in version 2\n",
       "        IPython.keyboard_manager.register_events(el);\n",
       "    }\n",
       "};\n",
       "\n",
       "mpl.figure.prototype._key_event_extra = function (event, _name) {\n",
       "    var manager = IPython.notebook.keyboard_manager;\n",
       "    if (!manager) {\n",
       "        manager = IPython.keyboard_manager;\n",
       "    }\n",
       "\n",
       "    // Check for shift+enter\n",
       "    if (event.shiftKey && event.which === 13) {\n",
       "        this.canvas_div.blur();\n",
       "        // select the cell after this one\n",
       "        var index = IPython.notebook.find_cell_index(this.cell_info[0]);\n",
       "        IPython.notebook.select(index + 1);\n",
       "    }\n",
       "};\n",
       "\n",
       "mpl.figure.prototype.handle_save = function (fig, _msg) {\n",
       "    fig.ondownload(fig, null);\n",
       "};\n",
       "\n",
       "mpl.find_output_cell = function (html_output) {\n",
       "    // Return the cell and output element which can be found *uniquely* in the notebook.\n",
       "    // Note - this is a bit hacky, but it is done because the \"notebook_saving.Notebook\"\n",
       "    // IPython event is triggered only after the cells have been serialised, which for\n",
       "    // our purposes (turning an active figure into a static one), is too late.\n",
       "    var cells = IPython.notebook.get_cells();\n",
       "    var ncells = cells.length;\n",
       "    for (var i = 0; i < ncells; i++) {\n",
       "        var cell = cells[i];\n",
       "        if (cell.cell_type === 'code') {\n",
       "            for (var j = 0; j < cell.output_area.outputs.length; j++) {\n",
       "                var data = cell.output_area.outputs[j];\n",
       "                if (data.data) {\n",
       "                    // IPython >= 3 moved mimebundle to data attribute of output\n",
       "                    data = data.data;\n",
       "                }\n",
       "                if (data['text/html'] === html_output) {\n",
       "                    return [cell, data, j];\n",
       "                }\n",
       "            }\n",
       "        }\n",
       "    }\n",
       "};\n",
       "\n",
       "// Register the function which deals with the matplotlib target/channel.\n",
       "// The kernel may be null if the page has been refreshed.\n",
       "if (IPython.notebook.kernel !== null) {\n",
       "    IPython.notebook.kernel.comm_manager.register_target(\n",
       "        'matplotlib',\n",
       "        mpl.mpl_figure_comm\n",
       "    );\n",
       "}\n"
      ],
      "text/plain": [
       "<IPython.core.display.Javascript object>"
      ]
     },
     "metadata": {},
     "output_type": "display_data"
    },
    {
     "data": {
      "text/html": [
       "<img src=\"data:image/png;base64,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\" width=\"640\">"
      ],
      "text/plain": [
       "<IPython.core.display.HTML object>"
      ]
     },
     "metadata": {},
     "output_type": "display_data"
    },
    {
     "name": "stdout",
     "output_type": "stream",
     "text": [
      "105.41861987113953\n"
     ]
    }
   ],
   "source": [
    "# create 100 particles on the roads\n",
    "N = 200\n",
    "dt = 0.1\n",
    "\n",
    "P_fa = 0.02\n",
    "P_miss = 0.05\n",
    "pf1 = PF(r, N, dt=dt, v0=10, sigma=4, P_fa=P_fa, P_miss=P_miss)\n",
    "pf2 = PF(r, N, dt=dt, v0=10, sigma=4, P_fa=P_fa, P_miss=P_miss)\n",
    "\n",
    "R = 5*np.eye(2)\n",
    "\n",
    "target1 = Particle(r, v0=10, dt=dt, sigma=2)\n",
    "target2 = Particle(r, v0=10, dt=dt, sigma=2)\n",
    "\n",
    "agent = Agent(center=(100, 50), width=100, height=50, period = 30, dt=dt)\n",
    "\n",
    "\n",
    "fig, ax = plt.subplots()\n",
    "\n",
    "r.visualize(ax)\n",
    "\n",
    "x0 = pf1.X[:,0]\n",
    "y0 = pf1.X[:,1]\n",
    "# for p in pf.X:\n",
    "#     loc = r.get_loc(p.state)\n",
    "#     x0.append(loc[0])\n",
    "#     y0.append(loc[1])\n",
    "\n",
    "sc1 = ax.scatter(x0, y0, s=10, linewidth=0, facecolor='green', label='particles')\n",
    "loc = r.get_loc(target1.state)\n",
    "sc_target1 = ax.scatter([loc[0]], [loc[1]], s=100, marker='*', facecolor='green', label='target')\n",
    "\n",
    "x0 = pf2.X[:,0]\n",
    "y0 = pf2.X[:,1]\n",
    "# for p in pf.X:\n",
    "#     loc = r.get_loc(p.state)\n",
    "#     x0.append(loc[0])\n",
    "#     y0.append(loc[1])\n",
    "    \n",
    "sc2 = ax.scatter(x0, y0, s=10, linewidth=0, facecolor='blue', label='particles')\n",
    "loc = r.get_loc(target2.state)\n",
    "sc_target2 = ax.scatter([loc[0]], [loc[1]], s=100, marker='*', facecolor='blue', label='target')\n",
    "\n",
    "agent.init_plot(ax)\n",
    "ax.legend()\n",
    "#ax.plot([50, 60], [50, 50], marker='o', ls='None')\n",
    "\n",
    "minX,maxX,minY,maxY = r.get_bounds()\n",
    "ax.set_xlim(minX-10, maxX+10)\n",
    "ax.set_ylim(minY-10, maxY+10)\n",
    "ax.set_aspect('equal')\n",
    "# plt.plot([0,1,1,2])\n",
    "# plt.show()\n",
    "fig.canvas.draw()\n",
    "start = time.time()\n",
    "Ts = dt\n",
    "tic = start\n",
    "# update the scenario\n",
    "for i in range(int(200/Ts)):\n",
    "# for i in range(1000):\n",
    "    pf1.predict()\n",
    "    pf2.predict()\n",
    "    target1.predict()\n",
    "    target2.predict()\n",
    "    dist1 = np.linalg.norm(target1.loc - agent.pos)\n",
    "#     print(dist)\n",
    "    if i % int(1/Ts) == 0 and i != 0:\n",
    "        if dist1 < agent.fov:\n",
    "            z = mvn.rvs(target1.loc, R)\n",
    "            pf1.update(z, R)\n",
    "        else:\n",
    "            pf1.neg_update(agent.pos, radius=30)\n",
    "    dist2 = np.linalg.norm(target2.loc - agent.pos)\n",
    "#     print(dist)\n",
    "    if i % int(1/Ts) == 0 and i != 0:\n",
    "        if dist2 < agent.fov:\n",
    "            z = mvn.rvs(target2.loc, R)\n",
    "            pf2.update(z, R)\n",
    "        else:\n",
    "            pf2.neg_update(agent.pos, radius=25)\n",
    "    locs1 = pf1.X[:,:2]\n",
    "    sc1.set_offsets(locs1)\n",
    "    locs2 = pf2.X[:,:2]\n",
    "    sc2.set_offsets(locs2)\n",
    "    sc_target1.set_offsets(target1.loc)\n",
    "    sc_target2.set_offsets(target2.loc)\n",
    "    agent.update()\n",
    "# sc.set_offsets([[50, 50], [130, 30]])\n",
    "    fig.canvas.draw()\n",
    "    toc = time.time()\n",
    "    dur = toc - tic\n",
    "#     if Ts > dur:\n",
    "#         time.sleep(Ts - dur)\n",
    "#     else:\n",
    "#         print(\"No time to sleep! %f\"%dur)\n",
    "    tic = toc\n",
    "dur = time.time() - start\n",
    "print(dur)"
   ]
  },
  {
   "cell_type": "markdown",
   "metadata": {},
   "source": [
    "## Unknown Correspondence ##\n",
    "\n",
    "We will use a RBPF to manage the correspondence. Each particle will contain its own bank of particle filters to track the targets. The history of measurement correspondences will be tracked by the top level RBPF.\n",
    "\n",
    "The propogation step will be largely the same, with each particle propogating its bank of filters.\n",
    "\n",
    "The update step will require that the low-level particle filters be able to report the likelihood of a specific measurement occuring for each target. With these probabilities in hand, we can then sample from the distribution to guess which target was the source of the measurement. In the beginning, with all target location particles being uniformly distributed, the correspondences should be chosen with equal probabilities, with convergence coming after several measurements."
   ]
  },
  {
   "cell_type": "code",
   "execution_count": 21,
   "metadata": {
    "code_folding": [
     0
    ]
   },
   "outputs": [],
   "source": [
    "class RB_PF(object):\n",
    "    def __init__(self, roadmap, num_particles, max_vehicles, pf_args):\n",
    "        self._roadmap = roadmap\n",
    "        self._N = num_particles\n",
    "        self._max_vehicles = max_vehicles\n",
    "        self.X = [[PF(**pf_args) for j in range(self._max_vehicles)] for i in range(self._N)]\n",
    "        self.best = self.X[0]\n",
    "        self.no_measurements = True\n",
    "        \n",
    "    def lowVarSample(self, w):\n",
    "        Xbar = []\n",
    "        M = self._N\n",
    "        r = np.random.uniform(0, 1/M)\n",
    "        c = w[0]\n",
    "        i = 0\n",
    "        last_i = i\n",
    "        unique = 1\n",
    "        for m in range(M):\n",
    "            u = r + m/M\n",
    "            while u > c:\n",
    "                i += 1\n",
    "                c = c + w[i]\n",
    "            new_x = copy.deepcopy(self.X[i])\n",
    "            Xbar.append(new_x)\n",
    "            if i == self.best_idx:\n",
    "                self.best = new_x\n",
    "            if last_i != i:\n",
    "                unique += 1\n",
    "            last_i = i\n",
    "        self.X = Xbar\n",
    "        return unique\n",
    "\n",
    "    def predict(self):\n",
    "        # propagate each bank of particle filters\n",
    "        [[xi.predict() for xi in x] for x in self.X]\n",
    "       \n",
    "        \n",
    "    def update(self, z, R, lone_target, radius=None, p_fa=None):\n",
    "#         print(\"updating\")\n",
    "        w = np.zeros(self._N)\n",
    "        \n",
    "        \n",
    "\n",
    "        for i, x in enumerate(self.X):\n",
    "            if self.no_measurements:\n",
    "                t = 0\n",
    "            else:\n",
    "                # get the likelihood that the measurement came from each target\n",
    "                l = np.array([xi.get_measurement_likelihood(z, R) for xi in x])\n",
    "\n",
    "                # normalize the likelihoods so we can randomly choose a corresponding target\n",
    "                # with some smart probabilites\n",
    "                l = l/np.sum(l)\n",
    "                t = np.where(np.random.multinomial(1, l) == 1)[0][0]\n",
    "    #             print(t)\n",
    "            w[i] = x[t].get_measurement_likelihood(z, R)\n",
    "            x[t].update(z, R)\n",
    "            if lone_target:\n",
    "                for j, xi in enumerate(x):\n",
    "                    if t != j:\n",
    "                        xi.neg_update(z, radius)\n",
    "        self.no_measurements = False\n",
    "            \n",
    "            \n",
    "        # logsumexp\n",
    "        max_w = np.max(w)\n",
    "        w = np.exp(w-max_w)\n",
    "        # for code simplicity, normalize the weights here\n",
    "        w = w/np.sum(w)\n",
    "#         print(\"best: {}={}\".format(np.argmax(w), np.max(w)))\n",
    "        \n",
    "        self.best_idx = np.argmax(w)        \n",
    "        self.best = self.X[self.best_idx]\n",
    "        unique = self.lowVarSample(w)\n",
    "#         print(unique)\n",
    "\n",
    "    \n",
    "    def neg_update(self, z, radius):\n",
    "        [[xi.neg_update(z, radius) for xi in x] for x in self.X]"
   ]
  },
  {
   "cell_type": "code",
   "execution_count": 22,
   "metadata": {
    "code_folding": [
     0
    ]
   },
   "outputs": [],
   "source": [
    "def calc_entropy(r, X, res=5):\n",
    "    \"\"\"Returns the entropy of the estimate in nats\n",
    "        \n",
    "        r -- roadmap graph on which the particles exist\n",
    "        X -- state of each particle, shape=(M, N, 12),\n",
    "             M = number of targets\n",
    "             N = number of particles\n",
    "        \"\"\"\n",
    "    \n",
    "    ## x, y, speed, start_x, start_y, end_x, end_y, direction_x, direction_y, distance, sigma, w\n",
    "    M = X.shape[0]\n",
    "    N = X.shape[1]\n",
    "    # calculate the distance of each particle from the beginning of its road segment\n",
    "    dists = np.linalg.norm(X[:, :, :2] - X[:, :, 3:5], axis=-1)\n",
    "    \n",
    "    h = 0\n",
    "    for start in r.keys():\n",
    "        for end in r[start].keys():\n",
    "            length = r[start][end]\n",
    "            bin_start = 0.0\n",
    "            # find the particles on this road segment\n",
    "            on_edge = np.all(X[:, :, 3:7] == start + end, axis=-1)\n",
    "            while bin_start < length:\n",
    "                in_bin = np.all([dists >= bin_start, dists <= bin_start + res], axis=0)\n",
    "                count = np.sum(np.all([on_edge, in_bin], axis=0))\n",
    "                p = count / (N*M)\n",
    "                if p > 0:\n",
    "                    h -= p*np.log(p)\n",
    "                bin_start += res\n",
    "    return h\n",
    "                "
   ]
  },
  {
   "cell_type": "code",
   "execution_count": 23,
   "metadata": {
    "code_folding": [
     0,
     158
    ]
   },
   "outputs": [],
   "source": [
    "class AgentDynamicLookaheadWithEdgeSeparationVectorized(object):\n",
    "    def __init__(\n",
    "        self, center, width, height, speed, period,\n",
    "        roadmap, dt, fov=30.):\n",
    "        self._c = center\n",
    "        self._w = width\n",
    "        self._h = height\n",
    "        self._period = period\n",
    "        self.pos = np.array(center)\n",
    "        self._roadmap = roadmap\n",
    "        dest = self._roadmap.get_nearest_waypoint(self.pos)\n",
    "        self.psi = atan2(dest[0] - self.pos[0], dest[1] - self.pos[1])\n",
    "        self._dt = dt\n",
    "        self._t = 0\n",
    "        self._sc_agent = None\n",
    "        self._sc_fov = None\n",
    "        self.speed = speed\n",
    "        self.fov = fov\n",
    "        self.path = [dest]\n",
    "        self.current_dest = 0\n",
    "        self.discount = 0.9\n",
    "\n",
    "    def update(self, pfs):\n",
    "#         ##Dummy version of path planning\n",
    "#         self._t += self._dt\n",
    "#         self.pos = np.array((self._w*np.cos(2*np.pi*self._t/self._period) + self._c[0], \n",
    "#                              self._h*np.sin(2*2*np.pi*self._t/self._period) + self._c[1]))\n",
    "#         if self._sc_agent is not None:\n",
    "#             self.update_plot()\n",
    "            \n",
    "        ##inteligent path planning\n",
    "        self._t += self._dt\n",
    "        distance = np.array((\n",
    "            self.path[self.current_dest][0] - self.pos[0],\n",
    "            self.path[self.current_dest][1] - self.pos[1]))\n",
    "        \n",
    "        if abs(distance[0]) > abs(distance[1]):\n",
    "            distance[1] *= 20\n",
    "        elif abs(distance[1]) > abs(distance[0]):\n",
    "            distance[0]*= 20\n",
    "        \n",
    "        vel = self.speed * (distance / np.linalg.norm(distance) )\n",
    "        self.pos = self.pos + np.array(vel * self._dt)\n",
    "\n",
    "        if self._sc_agent is not None:\n",
    "            self.update_plot()\n",
    "        if np.linalg.norm(distance) < 20:\n",
    "            self.update_path(pfs)\n",
    "\n",
    "    def update_path(self, pfs):\n",
    "        edges = {}\n",
    "        edge_vals = {}\n",
    "        \n",
    "        entropies = [calc_entropy(r.graph, np.array([pf.X])) for pf in pfs]\n",
    "        norm = np.sum(entropies)\n",
    "        target_weights = np.array([e/norm for e in entropies])\n",
    "        target_weights = 1 / (1 + np.exp(-10*(target_weights - 0.5)))\n",
    "#         print(target_weights)\n",
    "        \n",
    "        N = [pf.X.shape[0] for pf in pfs]\n",
    "        \n",
    "        for i in range(len(pfs)):\n",
    "            avg_den, min_den = pfs[i].get_max_particle_density()\n",
    "            for j in range(len(pfs[i].X)):\n",
    "                edge = ((pfs[i].X[j][3], pfs[i].X[j][4]),(pfs[i].X[j][5], pfs[i].X[j][6]))\n",
    "                if edge not in edges:\n",
    "                    edges[edge] = []\n",
    "                    edge_vals[edge] = [0,0,0]\n",
    "                particle = copy.deepcopy(pfs[i].X[j,:])\n",
    "                particle = np.append(particle, i)\n",
    "                edges[edge].append(particle)\n",
    "                edge_vals[edge][0] += 1\n",
    "                edge_vals[edge][i+1] += 1\n",
    "\n",
    "        particle_map, best_path, best_value = self.build_particle_map(\n",
    "            self.path[self.current_dest], edges, target_weights, N, 0, 0, 6)\n",
    "\n",
    "        self.path.append(best_path[0])\n",
    "        self.current_dest += 1\n",
    "\n",
    "    def build_particle_map(self, start, edges, target_weights, N, start_value, lookahead, lookahead_max):\n",
    "        if lookahead == lookahead_max:\n",
    "            return start_value, [], start_value\n",
    "        graph = {}\n",
    "\n",
    "        best_path = []\n",
    "        best_value = -1\n",
    "    \n",
    "        for destination in self._roadmap.graph[start]:\n",
    "            edge0 = (start, destination)\n",
    "            edge1 = (destination, start)\n",
    "            value = 0\n",
    "            if edge0 in edges:\n",
    "                for i in range(len(target_weights)):\n",
    "                    idx = np.isin(np.vstack(edges[edge0])[:,12], np.array(i))\n",
    "                    val = np.sum(idx)/N[i]\n",
    "                    value += target_weights[i] * val * (self.discount**lookahead)\n",
    "            if edge1 in edges:\n",
    "                for i in range(len(target_weights)):\n",
    "                    idx = np.isin(np.vstack(edges[edge1])[:,12], np.array(i))\n",
    "                    val = np.sum(idx)/N[i]\n",
    "                    value += target_weights[i] * val * (self.discount**lookahead)\n",
    "            new_edges = {}\n",
    "            for edge in edges:\n",
    "                if edge == edge0 or edge == edge1:\n",
    "#                     value += len(edges[edge][0]) * (self.discount**lookahead)\n",
    "                    pass\n",
    "                else:\n",
    "                    particles = np.array(copy.deepcopy(edges[edge]))\n",
    "                    particles[:,0:2] = particles[:,0:2] + particles[:,7:9] * (particles[:,2:3] * self._dt)\n",
    "                    update_vector = np.linalg.norm(particles[:,0:2] - particles[:,3:5]) > particles[:,9]\n",
    "                    for particle in particles[update_vector]:\n",
    "                            a = tuple(particle[3:5])\n",
    "                            b = tuple(particle[5:7])\n",
    "\n",
    "                            dest_list = list(self._roadmap.graph[b].keys())\n",
    "                            dest_list.remove(a)\n",
    "                            a = particle[5:7]\n",
    "                            b = np.array(random.choice(dest_list))\n",
    "                            vector = b - a\n",
    "                            distance = np.linalg.norm(vector)\n",
    "                            vector = vector/distance\n",
    "                            particle[0:10] = [a[0], a[1], particle[2], a[0], a[1], b[0],\n",
    "                                           b[1], vector[0], vector[1], distance]\n",
    "                            new_edge = ((particle[3], particle[4]), (particle[5], particle[6]))\n",
    "                            if new_edge not in new_edges:\n",
    "                                new_edges[new_edge] = []\n",
    "                            new_edges[new_edge].append(particle)\n",
    "                    \n",
    "                    \n",
    "            graph[edge0], path, path_value = self.build_particle_map(\n",
    "                destination, new_edges, target_weights, N, start_value + value, lookahead+1, lookahead_max)\n",
    "            if path_value > best_value:\n",
    "                path.insert(0, destination)\n",
    "                best_path = path\n",
    "                best_value = path_value\n",
    "        return graph, best_path, best_value\n",
    "    \n",
    "    def display_particle_map(self, particle_map, indent):\n",
    "        output = \"\"\n",
    "        for edge in particle_map:\n",
    "            if type(particle_map[edge]) is int:\n",
    "                output += \"%s%r: %f\\n\" % (\"\\t\"*indent, edge, particle_map[edge])\n",
    "            else:\n",
    "                output += \"%s%s\\n\" % (\"\\t\"*indent, edge)\n",
    "                output += self.displayParticleMap(particle_map[edge], indent+1)\n",
    "        return output\n",
    "\n",
    "    def init_plot(self, ax):\n",
    "        self._sc_agent = ax.scatter([self.pos[0]], [self.pos[1]], s=50, marker='D', facecolor='red', label='agent')\n",
    "        self._sc_fov = plt.Circle((self.pos[0], self.pos[1]), self.fov, facecolor='None', edgecolor='orange')\n",
    "        ax.add_patch(self._sc_fov)\n",
    "    \n",
    "    def update_plot(self):\n",
    "        self._sc_agent.set_offsets([self.pos])\n",
    "        self._sc_fov.center = self.pos[0], self.pos[1]\n",
    "\n",
    "\n",
    "class AgentRandom(object):\n",
    "    def __init__(\n",
    "        self, center, width, height, speed, period,\n",
    "        roadmap, dt, fov=30.):\n",
    "        self._c = center\n",
    "        self._w = width\n",
    "        self._h = height\n",
    "        self._period = period\n",
    "        self.pos = np.array(center)\n",
    "        self._roadmap = roadmap\n",
    "        dest = self._roadmap.get_nearest_waypoint(self.pos)\n",
    "        self.psi = atan2(dest[0] - self.pos[0], dest[1] - self.pos[1])\n",
    "        self._dt = dt\n",
    "        self._t = 0\n",
    "        self._sc_agent = None\n",
    "        self._sc_fov = None\n",
    "        self.speed = speed\n",
    "        self.fov = fov\n",
    "        self.path = [dest]\n",
    "        self.current_dest = 0\n",
    "        self.discount = .8\n",
    "\n",
    "    def update(self, pfs):\n",
    "#         ##Dummy version of path planning\n",
    "#         self._t += self._dt\n",
    "#         self.pos = np.array((self._w*np.cos(2*np.pi*self._t/self._period) + self._c[0], \n",
    "#                              self._h*np.sin(2*2*np.pi*self._t/self._period) + self._c[1]))\n",
    "#         if self._sc_agent is not None:\n",
    "#             self.update_plot()\n",
    "            \n",
    "        ##inteligent path planning\n",
    "        self._t += self._dt\n",
    "        distance = np.array((\n",
    "            self.path[self.current_dest][0] - self.pos[0],\n",
    "            self.path[self.current_dest][1] - self.pos[1]))\n",
    "        \n",
    "        if abs(distance[0]) > abs(distance[1]):\n",
    "            distance[1] *= 20\n",
    "        elif abs(distance[1]) > abs(distance[0]):\n",
    "            distance[0]*= 20\n",
    "        \n",
    "        vel = self.speed * (distance / np.linalg.norm(distance) )\n",
    "        self.pos = self.pos + np.array(vel * self._dt)\n",
    "\n",
    "        if self._sc_agent is not None:\n",
    "            self.update_plot()\n",
    "        if np.linalg.norm(distance) < 20:\n",
    "            self.update_path(pfs)\n",
    "\n",
    "    def update_path(self, pfs):\n",
    "        destinations = list(self._roadmap.graph[self.path[self.current_dest]].keys())\n",
    "        self.path.append(random.choice(destinations))\n",
    "        self.current_dest += 1\n",
    "\n",
    "    def init_plot(self, ax):\n",
    "        self._sc_agent = ax.scatter([self.pos[0]], [self.pos[1]], s=50, marker='D', facecolor='red', label='agent')\n",
    "        self._sc_fov = plt.Circle((self.pos[0], self.pos[1]), self.fov, facecolor='None', edgecolor='orange')\n",
    "        ax.add_patch(self._sc_fov)\n",
    "    \n",
    "    def update_plot(self):\n",
    "        self._sc_agent.set_offsets([self.pos])\n",
    "        self._sc_fov.center = self.pos[0], self.pos[1]\n",
    "\n"
   ]
  },
  {
   "cell_type": "code",
   "execution_count": 31,
   "metadata": {
    "code_folding": [
     0,
     73
    ],
    "scrolled": false
   },
   "outputs": [],
   "source": [
    "def sim(rbpf, targets, agent, R, dt, T_end):\n",
    "    H = []\n",
    "    fig, ax = plt.subplots()\n",
    "    r.visualize(ax)\n",
    "\n",
    "    x0 = rbpf.best[0].X[:,0]\n",
    "    y0 = rbpf.best[0].X[:,1]\n",
    "    sc1 = ax.scatter(x0, y0, s=10, linewidth=0, facecolor='green', label='particles')\n",
    "    loc = r.get_loc(target1.state)\n",
    "    sc_target1 = ax.scatter([loc[0]], [loc[1]], s=100, marker='*', facecolor='green', label='target')\n",
    "\n",
    "    x0 = rbpf.best[1].X[:,0]\n",
    "    y0 = rbpf.best[1].X[:,1]\n",
    "    sc2 = ax.scatter(x0, y0, s=10, linewidth=0, facecolor='blue', label='particles')\n",
    "    loc = r.get_loc(target2.state)\n",
    "    sc_target2 = ax.scatter([loc[0]], [loc[1]], s=100, marker='*', facecolor='blue', label='target')\n",
    "\n",
    "    agent.init_plot(ax)\n",
    "    ax.legend()\n",
    "    #ax.plot([50, 60], [50, 50], marker='o', ls='None')\n",
    "\n",
    "    minX,maxX,minY,maxY = r.get_bounds()\n",
    "    ax.set_xlim(minX-10, maxX+10)\n",
    "    ax.set_ylim(minY-10, maxY+10)\n",
    "    ax.set_aspect('equal')\n",
    "    # plt.plot([0,1,1,2])\n",
    "    # plt.show()\n",
    "    fig.canvas.draw()\n",
    "    start = time.time()\n",
    "    Ts = dt\n",
    "    tic = start\n",
    "    avg_distance = [[] for pf in rbpf.best]\n",
    "    num_in_threshold = [[] for pf in rbpf.best]\n",
    "    \n",
    "    # update the scenario\n",
    "    for i in range(int(100/Ts)):\n",
    "    # for i in range(1000):\n",
    "        rbpf.predict()\n",
    "        target1.predict()\n",
    "        target2.predict()\n",
    "        dist1 = np.linalg.norm(target1.loc - agent.pos)\n",
    "        dist2 = np.linalg.norm(target2.loc - agent.pos)\n",
    "        if i % int(1/Ts) == 0 and i != 0:\n",
    "            if (dist1 < agent.fov) != (dist2 < agent.fov):\n",
    "                if dist1 < agent.fov:\n",
    "                    z = mvn.rvs(target1.loc, R)\n",
    "                    rbpf.update(z, R, lone_target=True, radius=agent.fov*0.75)\n",
    "                if dist2 < agent.fov:\n",
    "                    z = mvn.rvs(target2.loc, R)\n",
    "                    rbpf.update(z, R, lone_target=True, radius=agent.fov*0.75)\n",
    "            elif (dist1 < agent.fov) and (dist2 < agent.fov):\n",
    "                    z = mvn.rvs(target1.loc, R)\n",
    "                    rbpf.update(z, R, lone_target=False)\n",
    "                    z = mvn.rvs(target2.loc, R)\n",
    "                    rbpf.update(z, R, lone_target=False)\n",
    "            else:\n",
    "                rbpf.neg_update(agent.pos, radius=agent.fov*0.75)\n",
    "        \n",
    "        locs1 = rbpf.best[0].X[:,:2]\n",
    "        sc1.set_offsets(locs1)\n",
    "        locs2 = rbpf.best[1].X[:,:2]\n",
    "        sc2.set_offsets(locs2)\n",
    "        sc_target1.set_offsets(target1.loc)\n",
    "        sc_target2.set_offsets(target2.loc)\n",
    "        pfs = rbpf.best\n",
    "        agent.update(pfs)\n",
    "        fig.canvas.draw()\n",
    "        toc = time.time()\n",
    "        dur = toc - tic\n",
    "        tic = toc\n",
    "        X = np.array([rbpf.best[i].X for i in range(len(rbpf.best))])\n",
    "        H += [calc_entropy(r.graph, X)]\n",
    "    return H\n",
    "\n",
    "def sim_without_plotting(rbpf, targets, agent, R, dt, T_end):\n",
    "\n",
    "    H = []\n",
    "    Ts = dt\n",
    "    avg_distance = [[] for pf in rbpf.best]\n",
    "    num_in_threshold = [[] for pf in rbpf.best]\n",
    "    # update the scenario\n",
    "    for i in tqdm(range(int(T_end/Ts)), leave=False):\n",
    "        rbpf.predict()\n",
    "        target1.predict()\n",
    "        target2.predict()\n",
    "        dist1 = np.linalg.norm(target1.loc - agent.pos)\n",
    "        dist2 = np.linalg.norm(target2.loc - agent.pos)\n",
    "        if i % int(1/Ts) == 0 and i != 0:\n",
    "            if (dist1 < agent.fov) != (dist2 < agent.fov):\n",
    "                if dist1 < agent.fov:\n",
    "                    z = mvn.rvs(target1.loc, R)\n",
    "                    rbpf.update(z, R, lone_target=True, radius=agent.fov*0.75)\n",
    "                if dist2 < agent.fov:\n",
    "                    z = mvn.rvs(target2.loc, R)\n",
    "                    rbpf.update(z, R, lone_target=True, radius=agent.fov*0.75)\n",
    "            elif (dist1 < agent.fov) and (dist2 < agent.fov):\n",
    "                    z = mvn.rvs(target1.loc, R)\n",
    "                    rbpf.update(z, R, lone_target=False)\n",
    "                    z = mvn.rvs(target2.loc, R)\n",
    "                    rbpf.update(z, R, lone_target=False)\n",
    "            else:\n",
    "                rbpf.neg_update(agent.pos, radius=agent.fov*0.75)\n",
    "        pfs = rbpf.best\n",
    "        agent.update(pfs)\n",
    "        X = np.array([rbpf.best[i].X for i in range(len(rbpf.best))])\n",
    "        H += [calc_entropy(r.graph, X)]\n",
    "    return H"
   ]
  },
  {
   "cell_type": "code",
   "execution_count": 32,
   "metadata": {
    "scrolled": true
   },
   "outputs": [
    {
     "name": "stderr",
     "output_type": "stream",
     "text": [
      "/tmp/ipykernel_12273/3481836556.py:12: TqdmDeprecationWarning: This function will be removed in tqdm==5.0.0\n",
      "Please use `tqdm.notebook.tqdm` instead of `tqdm.tqdm_notebook`\n",
      "  for i in tqdm(range(num_runs)):\n"
     ]
    },
    {
     "data": {
      "application/vnd.jupyter.widget-view+json": {
       "model_id": "b5ccedd890684f83b5af2307827d4e19",
       "version_major": 2,
       "version_minor": 0
      },
      "text/plain": [
       "  0%|          | 0/200 [00:00<?, ?it/s]"
      ]
     },
     "metadata": {},
     "output_type": "display_data"
    },
    {
     "name": "stderr",
     "output_type": "stream",
     "text": [
      "/tmp/ipykernel_12273/120931602.py:82: TqdmDeprecationWarning: This function will be removed in tqdm==5.0.0\n",
      "Please use `tqdm.notebook.tqdm` instead of `tqdm.tqdm_notebook`\n",
      "  for i in tqdm(range(int(T_end/Ts)), leave=False):\n"
     ]
    },
    {
     "data": {
      "application/vnd.jupyter.widget-view+json": {
       "model_id": "",
       "version_major": 2,
       "version_minor": 0
      },
      "text/plain": [
       "  0%|          | 0/6000 [00:00<?, ?it/s]"
      ]
     },
     "metadata": {},
     "output_type": "display_data"
    },
    {
     "data": {
      "application/vnd.jupyter.widget-view+json": {
       "model_id": "",
       "version_major": 2,
       "version_minor": 0
      },
      "text/plain": [
       "  0%|          | 0/6000 [00:00<?, ?it/s]"
      ]
     },
     "metadata": {},
     "output_type": "display_data"
    },
    {
     "data": {
      "application/vnd.jupyter.widget-view+json": {
       "model_id": "",
       "version_major": 2,
       "version_minor": 0
      },
      "text/plain": [
       "  0%|          | 0/6000 [00:00<?, ?it/s]"
      ]
     },
     "metadata": {},
     "output_type": "display_data"
    },
    {
     "data": {
      "application/vnd.jupyter.widget-view+json": {
       "model_id": "",
       "version_major": 2,
       "version_minor": 0
      },
      "text/plain": [
       "  0%|          | 0/6000 [00:00<?, ?it/s]"
      ]
     },
     "metadata": {},
     "output_type": "display_data"
    },
    {
     "data": {
      "application/vnd.jupyter.widget-view+json": {
       "model_id": "",
       "version_major": 2,
       "version_minor": 0
      },
      "text/plain": [
       "  0%|          | 0/6000 [00:00<?, ?it/s]"
      ]
     },
     "metadata": {},
     "output_type": "display_data"
    },
    {
     "data": {
      "application/vnd.jupyter.widget-view+json": {
       "model_id": "",
       "version_major": 2,
       "version_minor": 0
      },
      "text/plain": [
       "  0%|          | 0/6000 [00:00<?, ?it/s]"
      ]
     },
     "metadata": {},
     "output_type": "display_data"
    },
    {
     "data": {
      "application/vnd.jupyter.widget-view+json": {
       "model_id": "",
       "version_major": 2,
       "version_minor": 0
      },
      "text/plain": [
       "  0%|          | 0/6000 [00:00<?, ?it/s]"
      ]
     },
     "metadata": {},
     "output_type": "display_data"
    },
    {
     "data": {
      "application/vnd.jupyter.widget-view+json": {
       "model_id": "",
       "version_major": 2,
       "version_minor": 0
      },
      "text/plain": [
       "  0%|          | 0/6000 [00:00<?, ?it/s]"
      ]
     },
     "metadata": {},
     "output_type": "display_data"
    },
    {
     "data": {
      "application/vnd.jupyter.widget-view+json": {
       "model_id": "410453c070664bddb412e055fe447a68",
       "version_major": 2,
       "version_minor": 0
      },
      "text/plain": [
       "  0%|          | 0/6000 [00:00<?, ?it/s]"
      ]
     },
     "metadata": {},
     "output_type": "display_data"
    },
    {
     "name": "stderr",
     "output_type": "stream",
     "text": [
      "/tmp/ipykernel_12273/1002144902.py:53: RuntimeWarning: invalid value encountered in true_divide\n",
      "  l = l/np.sum(l)\n"
     ]
    },
    {
     "data": {
      "application/vnd.jupyter.widget-view+json": {
       "model_id": "",
       "version_major": 2,
       "version_minor": 0
      },
      "text/plain": [
       "  0%|          | 0/6000 [00:00<?, ?it/s]"
      ]
     },
     "metadata": {},
     "output_type": "display_data"
    },
    {
     "data": {
      "application/vnd.jupyter.widget-view+json": {
       "model_id": "",
       "version_major": 2,
       "version_minor": 0
      },
      "text/plain": [
       "  0%|          | 0/6000 [00:00<?, ?it/s]"
      ]
     },
     "metadata": {},
     "output_type": "display_data"
    },
    {
     "data": {
      "application/vnd.jupyter.widget-view+json": {
       "model_id": "",
       "version_major": 2,
       "version_minor": 0
      },
      "text/plain": [
       "  0%|          | 0/6000 [00:00<?, ?it/s]"
      ]
     },
     "metadata": {},
     "output_type": "display_data"
    },
    {
     "data": {
      "application/vnd.jupyter.widget-view+json": {
       "model_id": "",
       "version_major": 2,
       "version_minor": 0
      },
      "text/plain": [
       "  0%|          | 0/6000 [00:00<?, ?it/s]"
      ]
     },
     "metadata": {},
     "output_type": "display_data"
    },
    {
     "data": {
      "application/vnd.jupyter.widget-view+json": {
       "model_id": "",
       "version_major": 2,
       "version_minor": 0
      },
      "text/plain": [
       "  0%|          | 0/6000 [00:00<?, ?it/s]"
      ]
     },
     "metadata": {},
     "output_type": "display_data"
    },
    {
     "data": {
      "application/vnd.jupyter.widget-view+json": {
       "model_id": "",
       "version_major": 2,
       "version_minor": 0
      },
      "text/plain": [
       "  0%|          | 0/6000 [00:00<?, ?it/s]"
      ]
     },
     "metadata": {},
     "output_type": "display_data"
    },
    {
     "data": {
      "application/vnd.jupyter.widget-view+json": {
       "model_id": "",
       "version_major": 2,
       "version_minor": 0
      },
      "text/plain": [
       "  0%|          | 0/6000 [00:00<?, ?it/s]"
      ]
     },
     "metadata": {},
     "output_type": "display_data"
    },
    {
     "data": {
      "application/vnd.jupyter.widget-view+json": {
       "model_id": "",
       "version_major": 2,
       "version_minor": 0
      },
      "text/plain": [
       "  0%|          | 0/6000 [00:00<?, ?it/s]"
      ]
     },
     "metadata": {},
     "output_type": "display_data"
    },
    {
     "data": {
      "application/vnd.jupyter.widget-view+json": {
       "model_id": "",
       "version_major": 2,
       "version_minor": 0
      },
      "text/plain": [
       "  0%|          | 0/6000 [00:00<?, ?it/s]"
      ]
     },
     "metadata": {},
     "output_type": "display_data"
    },
    {
     "data": {
      "application/vnd.jupyter.widget-view+json": {
       "model_id": "3693a0c15161460db93ec8c9cb02d225",
       "version_major": 2,
       "version_minor": 0
      },
      "text/plain": [
       "  0%|          | 0/6000 [00:00<?, ?it/s]"
      ]
     },
     "metadata": {},
     "output_type": "display_data"
    },
    {
     "data": {
      "application/vnd.jupyter.widget-view+json": {
       "model_id": "",
       "version_major": 2,
       "version_minor": 0
      },
      "text/plain": [
       "  0%|          | 0/6000 [00:00<?, ?it/s]"
      ]
     },
     "metadata": {},
     "output_type": "display_data"
    },
    {
     "data": {
      "application/vnd.jupyter.widget-view+json": {
       "model_id": "",
       "version_major": 2,
       "version_minor": 0
      },
      "text/plain": [
       "  0%|          | 0/6000 [00:00<?, ?it/s]"
      ]
     },
     "metadata": {},
     "output_type": "display_data"
    },
    {
     "data": {
      "application/vnd.jupyter.widget-view+json": {
       "model_id": "",
       "version_major": 2,
       "version_minor": 0
      },
      "text/plain": [
       "  0%|          | 0/6000 [00:00<?, ?it/s]"
      ]
     },
     "metadata": {},
     "output_type": "display_data"
    },
    {
     "data": {
      "application/vnd.jupyter.widget-view+json": {
       "model_id": "",
       "version_major": 2,
       "version_minor": 0
      },
      "text/plain": [
       "  0%|          | 0/6000 [00:00<?, ?it/s]"
      ]
     },
     "metadata": {},
     "output_type": "display_data"
    },
    {
     "data": {
      "application/vnd.jupyter.widget-view+json": {
       "model_id": "",
       "version_major": 2,
       "version_minor": 0
      },
      "text/plain": [
       "  0%|          | 0/6000 [00:00<?, ?it/s]"
      ]
     },
     "metadata": {},
     "output_type": "display_data"
    },
    {
     "data": {
      "application/vnd.jupyter.widget-view+json": {
       "model_id": "",
       "version_major": 2,
       "version_minor": 0
      },
      "text/plain": [
       "  0%|          | 0/6000 [00:00<?, ?it/s]"
      ]
     },
     "metadata": {},
     "output_type": "display_data"
    },
    {
     "data": {
      "application/vnd.jupyter.widget-view+json": {
       "model_id": "",
       "version_major": 2,
       "version_minor": 0
      },
      "text/plain": [
       "  0%|          | 0/6000 [00:00<?, ?it/s]"
      ]
     },
     "metadata": {},
     "output_type": "display_data"
    },
    {
     "data": {
      "application/vnd.jupyter.widget-view+json": {
       "model_id": "",
       "version_major": 2,
       "version_minor": 0
      },
      "text/plain": [
       "  0%|          | 0/6000 [00:00<?, ?it/s]"
      ]
     },
     "metadata": {},
     "output_type": "display_data"
    },
    {
     "data": {
      "application/vnd.jupyter.widget-view+json": {
       "model_id": "",
       "version_major": 2,
       "version_minor": 0
      },
      "text/plain": [
       "  0%|          | 0/6000 [00:00<?, ?it/s]"
      ]
     },
     "metadata": {},
     "output_type": "display_data"
    },
    {
     "data": {
      "application/vnd.jupyter.widget-view+json": {
       "model_id": "",
       "version_major": 2,
       "version_minor": 0
      },
      "text/plain": [
       "  0%|          | 0/6000 [00:00<?, ?it/s]"
      ]
     },
     "metadata": {},
     "output_type": "display_data"
    },
    {
     "data": {
      "application/vnd.jupyter.widget-view+json": {
       "model_id": "",
       "version_major": 2,
       "version_minor": 0
      },
      "text/plain": [
       "  0%|          | 0/6000 [00:00<?, ?it/s]"
      ]
     },
     "metadata": {},
     "output_type": "display_data"
    },
    {
     "data": {
      "application/vnd.jupyter.widget-view+json": {
       "model_id": "",
       "version_major": 2,
       "version_minor": 0
      },
      "text/plain": [
       "  0%|          | 0/6000 [00:00<?, ?it/s]"
      ]
     },
     "metadata": {},
     "output_type": "display_data"
    },
    {
     "data": {
      "application/vnd.jupyter.widget-view+json": {
       "model_id": "",
       "version_major": 2,
       "version_minor": 0
      },
      "text/plain": [
       "  0%|          | 0/6000 [00:00<?, ?it/s]"
      ]
     },
     "metadata": {},
     "output_type": "display_data"
    },
    {
     "data": {
      "application/vnd.jupyter.widget-view+json": {
       "model_id": "",
       "version_major": 2,
       "version_minor": 0
      },
      "text/plain": [
       "  0%|          | 0/6000 [00:00<?, ?it/s]"
      ]
     },
     "metadata": {},
     "output_type": "display_data"
    },
    {
     "data": {
      "application/vnd.jupyter.widget-view+json": {
       "model_id": "",
       "version_major": 2,
       "version_minor": 0
      },
      "text/plain": [
       "  0%|          | 0/6000 [00:00<?, ?it/s]"
      ]
     },
     "metadata": {},
     "output_type": "display_data"
    },
    {
     "data": {
      "application/vnd.jupyter.widget-view+json": {
       "model_id": "",
       "version_major": 2,
       "version_minor": 0
      },
      "text/plain": [
       "  0%|          | 0/6000 [00:00<?, ?it/s]"
      ]
     },
     "metadata": {},
     "output_type": "display_data"
    },
    {
     "data": {
      "application/vnd.jupyter.widget-view+json": {
       "model_id": "",
       "version_major": 2,
       "version_minor": 0
      },
      "text/plain": [
       "  0%|          | 0/6000 [00:00<?, ?it/s]"
      ]
     },
     "metadata": {},
     "output_type": "display_data"
    },
    {
     "data": {
      "application/vnd.jupyter.widget-view+json": {
       "model_id": "",
       "version_major": 2,
       "version_minor": 0
      },
      "text/plain": [
       "  0%|          | 0/6000 [00:00<?, ?it/s]"
      ]
     },
     "metadata": {},
     "output_type": "display_data"
    },
    {
     "data": {
      "application/vnd.jupyter.widget-view+json": {
       "model_id": "",
       "version_major": 2,
       "version_minor": 0
      },
      "text/plain": [
       "  0%|          | 0/6000 [00:00<?, ?it/s]"
      ]
     },
     "metadata": {},
     "output_type": "display_data"
    },
    {
     "data": {
      "application/vnd.jupyter.widget-view+json": {
       "model_id": "",
       "version_major": 2,
       "version_minor": 0
      },
      "text/plain": [
       "  0%|          | 0/6000 [00:00<?, ?it/s]"
      ]
     },
     "metadata": {},
     "output_type": "display_data"
    },
    {
     "data": {
      "application/vnd.jupyter.widget-view+json": {
       "model_id": "",
       "version_major": 2,
       "version_minor": 0
      },
      "text/plain": [
       "  0%|          | 0/6000 [00:00<?, ?it/s]"
      ]
     },
     "metadata": {},
     "output_type": "display_data"
    },
    {
     "data": {
      "application/vnd.jupyter.widget-view+json": {
       "model_id": "",
       "version_major": 2,
       "version_minor": 0
      },
      "text/plain": [
       "  0%|          | 0/6000 [00:00<?, ?it/s]"
      ]
     },
     "metadata": {},
     "output_type": "display_data"
    },
    {
     "data": {
      "application/vnd.jupyter.widget-view+json": {
       "model_id": "",
       "version_major": 2,
       "version_minor": 0
      },
      "text/plain": [
       "  0%|          | 0/6000 [00:00<?, ?it/s]"
      ]
     },
     "metadata": {},
     "output_type": "display_data"
    },
    {
     "data": {
      "application/vnd.jupyter.widget-view+json": {
       "model_id": "",
       "version_major": 2,
       "version_minor": 0
      },
      "text/plain": [
       "  0%|          | 0/6000 [00:00<?, ?it/s]"
      ]
     },
     "metadata": {},
     "output_type": "display_data"
    },
    {
     "data": {
      "application/vnd.jupyter.widget-view+json": {
       "model_id": "",
       "version_major": 2,
       "version_minor": 0
      },
      "text/plain": [
       "  0%|          | 0/6000 [00:00<?, ?it/s]"
      ]
     },
     "metadata": {},
     "output_type": "display_data"
    },
    {
     "data": {
      "application/vnd.jupyter.widget-view+json": {
       "model_id": "",
       "version_major": 2,
       "version_minor": 0
      },
      "text/plain": [
       "  0%|          | 0/6000 [00:00<?, ?it/s]"
      ]
     },
     "metadata": {},
     "output_type": "display_data"
    },
    {
     "data": {
      "application/vnd.jupyter.widget-view+json": {
       "model_id": "",
       "version_major": 2,
       "version_minor": 0
      },
      "text/plain": [
       "  0%|          | 0/6000 [00:00<?, ?it/s]"
      ]
     },
     "metadata": {},
     "output_type": "display_data"
    },
    {
     "data": {
      "application/vnd.jupyter.widget-view+json": {
       "model_id": "",
       "version_major": 2,
       "version_minor": 0
      },
      "text/plain": [
       "  0%|          | 0/6000 [00:00<?, ?it/s]"
      ]
     },
     "metadata": {},
     "output_type": "display_data"
    },
    {
     "data": {
      "application/vnd.jupyter.widget-view+json": {
       "model_id": "",
       "version_major": 2,
       "version_minor": 0
      },
      "text/plain": [
       "  0%|          | 0/6000 [00:00<?, ?it/s]"
      ]
     },
     "metadata": {},
     "output_type": "display_data"
    },
    {
     "data": {
      "application/vnd.jupyter.widget-view+json": {
       "model_id": "",
       "version_major": 2,
       "version_minor": 0
      },
      "text/plain": [
       "  0%|          | 0/6000 [00:00<?, ?it/s]"
      ]
     },
     "metadata": {},
     "output_type": "display_data"
    },
    {
     "data": {
      "application/vnd.jupyter.widget-view+json": {
       "model_id": "",
       "version_major": 2,
       "version_minor": 0
      },
      "text/plain": [
       "  0%|          | 0/6000 [00:00<?, ?it/s]"
      ]
     },
     "metadata": {},
     "output_type": "display_data"
    },
    {
     "data": {
      "application/vnd.jupyter.widget-view+json": {
       "model_id": "ebad05f3c0314cd2aad37b25df6c7825",
       "version_major": 2,
       "version_minor": 0
      },
      "text/plain": [
       "  0%|          | 0/6000 [00:00<?, ?it/s]"
      ]
     },
     "metadata": {},
     "output_type": "display_data"
    },
    {
     "data": {
      "application/vnd.jupyter.widget-view+json": {
       "model_id": "",
       "version_major": 2,
       "version_minor": 0
      },
      "text/plain": [
       "  0%|          | 0/6000 [00:00<?, ?it/s]"
      ]
     },
     "metadata": {},
     "output_type": "display_data"
    },
    {
     "data": {
      "application/vnd.jupyter.widget-view+json": {
       "model_id": "",
       "version_major": 2,
       "version_minor": 0
      },
      "text/plain": [
       "  0%|          | 0/6000 [00:00<?, ?it/s]"
      ]
     },
     "metadata": {},
     "output_type": "display_data"
    },
    {
     "data": {
      "application/vnd.jupyter.widget-view+json": {
       "model_id": "",
       "version_major": 2,
       "version_minor": 0
      },
      "text/plain": [
       "  0%|          | 0/6000 [00:00<?, ?it/s]"
      ]
     },
     "metadata": {},
     "output_type": "display_data"
    },
    {
     "data": {
      "application/vnd.jupyter.widget-view+json": {
       "model_id": "",
       "version_major": 2,
       "version_minor": 0
      },
      "text/plain": [
       "  0%|          | 0/6000 [00:00<?, ?it/s]"
      ]
     },
     "metadata": {},
     "output_type": "display_data"
    },
    {
     "data": {
      "application/vnd.jupyter.widget-view+json": {
       "model_id": "",
       "version_major": 2,
       "version_minor": 0
      },
      "text/plain": [
       "  0%|          | 0/6000 [00:00<?, ?it/s]"
      ]
     },
     "metadata": {},
     "output_type": "display_data"
    },
    {
     "data": {
      "application/vnd.jupyter.widget-view+json": {
       "model_id": "",
       "version_major": 2,
       "version_minor": 0
      },
      "text/plain": [
       "  0%|          | 0/6000 [00:00<?, ?it/s]"
      ]
     },
     "metadata": {},
     "output_type": "display_data"
    },
    {
     "data": {
      "application/vnd.jupyter.widget-view+json": {
       "model_id": "",
       "version_major": 2,
       "version_minor": 0
      },
      "text/plain": [
       "  0%|          | 0/6000 [00:00<?, ?it/s]"
      ]
     },
     "metadata": {},
     "output_type": "display_data"
    },
    {
     "data": {
      "application/vnd.jupyter.widget-view+json": {
       "model_id": "",
       "version_major": 2,
       "version_minor": 0
      },
      "text/plain": [
       "  0%|          | 0/6000 [00:00<?, ?it/s]"
      ]
     },
     "metadata": {},
     "output_type": "display_data"
    },
    {
     "data": {
      "application/vnd.jupyter.widget-view+json": {
       "model_id": "",
       "version_major": 2,
       "version_minor": 0
      },
      "text/plain": [
       "  0%|          | 0/6000 [00:00<?, ?it/s]"
      ]
     },
     "metadata": {},
     "output_type": "display_data"
    },
    {
     "data": {
      "application/vnd.jupyter.widget-view+json": {
       "model_id": "",
       "version_major": 2,
       "version_minor": 0
      },
      "text/plain": [
       "  0%|          | 0/6000 [00:00<?, ?it/s]"
      ]
     },
     "metadata": {},
     "output_type": "display_data"
    },
    {
     "data": {
      "application/vnd.jupyter.widget-view+json": {
       "model_id": "",
       "version_major": 2,
       "version_minor": 0
      },
      "text/plain": [
       "  0%|          | 0/6000 [00:00<?, ?it/s]"
      ]
     },
     "metadata": {},
     "output_type": "display_data"
    },
    {
     "data": {
      "application/vnd.jupyter.widget-view+json": {
       "model_id": "",
       "version_major": 2,
       "version_minor": 0
      },
      "text/plain": [
       "  0%|          | 0/6000 [00:00<?, ?it/s]"
      ]
     },
     "metadata": {},
     "output_type": "display_data"
    },
    {
     "data": {
      "application/vnd.jupyter.widget-view+json": {
       "model_id": "",
       "version_major": 2,
       "version_minor": 0
      },
      "text/plain": [
       "  0%|          | 0/6000 [00:00<?, ?it/s]"
      ]
     },
     "metadata": {},
     "output_type": "display_data"
    },
    {
     "data": {
      "application/vnd.jupyter.widget-view+json": {
       "model_id": "",
       "version_major": 2,
       "version_minor": 0
      },
      "text/plain": [
       "  0%|          | 0/6000 [00:00<?, ?it/s]"
      ]
     },
     "metadata": {},
     "output_type": "display_data"
    },
    {
     "data": {
      "application/vnd.jupyter.widget-view+json": {
       "model_id": "",
       "version_major": 2,
       "version_minor": 0
      },
      "text/plain": [
       "  0%|          | 0/6000 [00:00<?, ?it/s]"
      ]
     },
     "metadata": {},
     "output_type": "display_data"
    },
    {
     "data": {
      "application/vnd.jupyter.widget-view+json": {
       "model_id": "",
       "version_major": 2,
       "version_minor": 0
      },
      "text/plain": [
       "  0%|          | 0/6000 [00:00<?, ?it/s]"
      ]
     },
     "metadata": {},
     "output_type": "display_data"
    },
    {
     "data": {
      "application/vnd.jupyter.widget-view+json": {
       "model_id": "",
       "version_major": 2,
       "version_minor": 0
      },
      "text/plain": [
       "  0%|          | 0/6000 [00:00<?, ?it/s]"
      ]
     },
     "metadata": {},
     "output_type": "display_data"
    },
    {
     "data": {
      "application/vnd.jupyter.widget-view+json": {
       "model_id": "",
       "version_major": 2,
       "version_minor": 0
      },
      "text/plain": [
       "  0%|          | 0/6000 [00:00<?, ?it/s]"
      ]
     },
     "metadata": {},
     "output_type": "display_data"
    },
    {
     "data": {
      "application/vnd.jupyter.widget-view+json": {
       "model_id": "",
       "version_major": 2,
       "version_minor": 0
      },
      "text/plain": [
       "  0%|          | 0/6000 [00:00<?, ?it/s]"
      ]
     },
     "metadata": {},
     "output_type": "display_data"
    },
    {
     "data": {
      "application/vnd.jupyter.widget-view+json": {
       "model_id": "",
       "version_major": 2,
       "version_minor": 0
      },
      "text/plain": [
       "  0%|          | 0/6000 [00:00<?, ?it/s]"
      ]
     },
     "metadata": {},
     "output_type": "display_data"
    },
    {
     "data": {
      "application/vnd.jupyter.widget-view+json": {
       "model_id": "",
       "version_major": 2,
       "version_minor": 0
      },
      "text/plain": [
       "  0%|          | 0/6000 [00:00<?, ?it/s]"
      ]
     },
     "metadata": {},
     "output_type": "display_data"
    },
    {
     "data": {
      "application/vnd.jupyter.widget-view+json": {
       "model_id": "",
       "version_major": 2,
       "version_minor": 0
      },
      "text/plain": [
       "  0%|          | 0/6000 [00:00<?, ?it/s]"
      ]
     },
     "metadata": {},
     "output_type": "display_data"
    },
    {
     "data": {
      "application/vnd.jupyter.widget-view+json": {
       "model_id": "",
       "version_major": 2,
       "version_minor": 0
      },
      "text/plain": [
       "  0%|          | 0/6000 [00:00<?, ?it/s]"
      ]
     },
     "metadata": {},
     "output_type": "display_data"
    },
    {
     "data": {
      "application/vnd.jupyter.widget-view+json": {
       "model_id": "",
       "version_major": 2,
       "version_minor": 0
      },
      "text/plain": [
       "  0%|          | 0/6000 [00:00<?, ?it/s]"
      ]
     },
     "metadata": {},
     "output_type": "display_data"
    },
    {
     "data": {
      "application/vnd.jupyter.widget-view+json": {
       "model_id": "",
       "version_major": 2,
       "version_minor": 0
      },
      "text/plain": [
       "  0%|          | 0/6000 [00:00<?, ?it/s]"
      ]
     },
     "metadata": {},
     "output_type": "display_data"
    },
    {
     "data": {
      "application/vnd.jupyter.widget-view+json": {
       "model_id": "",
       "version_major": 2,
       "version_minor": 0
      },
      "text/plain": [
       "  0%|          | 0/6000 [00:00<?, ?it/s]"
      ]
     },
     "metadata": {},
     "output_type": "display_data"
    },
    {
     "data": {
      "application/vnd.jupyter.widget-view+json": {
       "model_id": "",
       "version_major": 2,
       "version_minor": 0
      },
      "text/plain": [
       "  0%|          | 0/6000 [00:00<?, ?it/s]"
      ]
     },
     "metadata": {},
     "output_type": "display_data"
    },
    {
     "data": {
      "application/vnd.jupyter.widget-view+json": {
       "model_id": "",
       "version_major": 2,
       "version_minor": 0
      },
      "text/plain": [
       "  0%|          | 0/6000 [00:00<?, ?it/s]"
      ]
     },
     "metadata": {},
     "output_type": "display_data"
    },
    {
     "data": {
      "application/vnd.jupyter.widget-view+json": {
       "model_id": "",
       "version_major": 2,
       "version_minor": 0
      },
      "text/plain": [
       "  0%|          | 0/6000 [00:00<?, ?it/s]"
      ]
     },
     "metadata": {},
     "output_type": "display_data"
    },
    {
     "data": {
      "application/vnd.jupyter.widget-view+json": {
       "model_id": "",
       "version_major": 2,
       "version_minor": 0
      },
      "text/plain": [
       "  0%|          | 0/6000 [00:00<?, ?it/s]"
      ]
     },
     "metadata": {},
     "output_type": "display_data"
    },
    {
     "data": {
      "application/vnd.jupyter.widget-view+json": {
       "model_id": "",
       "version_major": 2,
       "version_minor": 0
      },
      "text/plain": [
       "  0%|          | 0/6000 [00:00<?, ?it/s]"
      ]
     },
     "metadata": {},
     "output_type": "display_data"
    },
    {
     "data": {
      "application/vnd.jupyter.widget-view+json": {
       "model_id": "",
       "version_major": 2,
       "version_minor": 0
      },
      "text/plain": [
       "  0%|          | 0/6000 [00:00<?, ?it/s]"
      ]
     },
     "metadata": {},
     "output_type": "display_data"
    },
    {
     "data": {
      "application/vnd.jupyter.widget-view+json": {
       "model_id": "",
       "version_major": 2,
       "version_minor": 0
      },
      "text/plain": [
       "  0%|          | 0/6000 [00:00<?, ?it/s]"
      ]
     },
     "metadata": {},
     "output_type": "display_data"
    },
    {
     "data": {
      "application/vnd.jupyter.widget-view+json": {
       "model_id": "",
       "version_major": 2,
       "version_minor": 0
      },
      "text/plain": [
       "  0%|          | 0/6000 [00:00<?, ?it/s]"
      ]
     },
     "metadata": {},
     "output_type": "display_data"
    },
    {
     "data": {
      "application/vnd.jupyter.widget-view+json": {
       "model_id": "",
       "version_major": 2,
       "version_minor": 0
      },
      "text/plain": [
       "  0%|          | 0/6000 [00:00<?, ?it/s]"
      ]
     },
     "metadata": {},
     "output_type": "display_data"
    },
    {
     "data": {
      "application/vnd.jupyter.widget-view+json": {
       "model_id": "83bd93853e224595a5eece39439a7efa",
       "version_major": 2,
       "version_minor": 0
      },
      "text/plain": [
       "  0%|          | 0/6000 [00:00<?, ?it/s]"
      ]
     },
     "metadata": {},
     "output_type": "display_data"
    },
    {
     "data": {
      "application/vnd.jupyter.widget-view+json": {
       "model_id": "",
       "version_major": 2,
       "version_minor": 0
      },
      "text/plain": [
       "  0%|          | 0/6000 [00:00<?, ?it/s]"
      ]
     },
     "metadata": {},
     "output_type": "display_data"
    },
    {
     "data": {
      "application/vnd.jupyter.widget-view+json": {
       "model_id": "",
       "version_major": 2,
       "version_minor": 0
      },
      "text/plain": [
       "  0%|          | 0/6000 [00:00<?, ?it/s]"
      ]
     },
     "metadata": {},
     "output_type": "display_data"
    },
    {
     "data": {
      "application/vnd.jupyter.widget-view+json": {
       "model_id": "",
       "version_major": 2,
       "version_minor": 0
      },
      "text/plain": [
       "  0%|          | 0/6000 [00:00<?, ?it/s]"
      ]
     },
     "metadata": {},
     "output_type": "display_data"
    },
    {
     "data": {
      "application/vnd.jupyter.widget-view+json": {
       "model_id": "",
       "version_major": 2,
       "version_minor": 0
      },
      "text/plain": [
       "  0%|          | 0/6000 [00:00<?, ?it/s]"
      ]
     },
     "metadata": {},
     "output_type": "display_data"
    },
    {
     "data": {
      "application/vnd.jupyter.widget-view+json": {
       "model_id": "",
       "version_major": 2,
       "version_minor": 0
      },
      "text/plain": [
       "  0%|          | 0/6000 [00:00<?, ?it/s]"
      ]
     },
     "metadata": {},
     "output_type": "display_data"
    },
    {
     "data": {
      "application/vnd.jupyter.widget-view+json": {
       "model_id": "",
       "version_major": 2,
       "version_minor": 0
      },
      "text/plain": [
       "  0%|          | 0/6000 [00:00<?, ?it/s]"
      ]
     },
     "metadata": {},
     "output_type": "display_data"
    },
    {
     "data": {
      "application/vnd.jupyter.widget-view+json": {
       "model_id": "",
       "version_major": 2,
       "version_minor": 0
      },
      "text/plain": [
       "  0%|          | 0/6000 [00:00<?, ?it/s]"
      ]
     },
     "metadata": {},
     "output_type": "display_data"
    },
    {
     "data": {
      "application/vnd.jupyter.widget-view+json": {
       "model_id": "",
       "version_major": 2,
       "version_minor": 0
      },
      "text/plain": [
       "  0%|          | 0/6000 [00:00<?, ?it/s]"
      ]
     },
     "metadata": {},
     "output_type": "display_data"
    },
    {
     "data": {
      "application/vnd.jupyter.widget-view+json": {
       "model_id": "",
       "version_major": 2,
       "version_minor": 0
      },
      "text/plain": [
       "  0%|          | 0/6000 [00:00<?, ?it/s]"
      ]
     },
     "metadata": {},
     "output_type": "display_data"
    },
    {
     "data": {
      "application/vnd.jupyter.widget-view+json": {
       "model_id": "",
       "version_major": 2,
       "version_minor": 0
      },
      "text/plain": [
       "  0%|          | 0/6000 [00:00<?, ?it/s]"
      ]
     },
     "metadata": {},
     "output_type": "display_data"
    },
    {
     "data": {
      "application/vnd.jupyter.widget-view+json": {
       "model_id": "dbb9252cd27148cdb2cb5f003d3bc65d",
       "version_major": 2,
       "version_minor": 0
      },
      "text/plain": [
       "  0%|          | 0/6000 [00:00<?, ?it/s]"
      ]
     },
     "metadata": {},
     "output_type": "display_data"
    },
    {
     "data": {
      "application/vnd.jupyter.widget-view+json": {
       "model_id": "",
       "version_major": 2,
       "version_minor": 0
      },
      "text/plain": [
       "  0%|          | 0/6000 [00:00<?, ?it/s]"
      ]
     },
     "metadata": {},
     "output_type": "display_data"
    },
    {
     "data": {
      "application/vnd.jupyter.widget-view+json": {
       "model_id": "",
       "version_major": 2,
       "version_minor": 0
      },
      "text/plain": [
       "  0%|          | 0/6000 [00:00<?, ?it/s]"
      ]
     },
     "metadata": {},
     "output_type": "display_data"
    },
    {
     "data": {
      "application/vnd.jupyter.widget-view+json": {
       "model_id": "",
       "version_major": 2,
       "version_minor": 0
      },
      "text/plain": [
       "  0%|          | 0/6000 [00:00<?, ?it/s]"
      ]
     },
     "metadata": {},
     "output_type": "display_data"
    },
    {
     "data": {
      "application/vnd.jupyter.widget-view+json": {
       "model_id": "",
       "version_major": 2,
       "version_minor": 0
      },
      "text/plain": [
       "  0%|          | 0/6000 [00:00<?, ?it/s]"
      ]
     },
     "metadata": {},
     "output_type": "display_data"
    },
    {
     "data": {
      "application/vnd.jupyter.widget-view+json": {
       "model_id": "",
       "version_major": 2,
       "version_minor": 0
      },
      "text/plain": [
       "  0%|          | 0/6000 [00:00<?, ?it/s]"
      ]
     },
     "metadata": {},
     "output_type": "display_data"
    },
    {
     "data": {
      "application/vnd.jupyter.widget-view+json": {
       "model_id": "",
       "version_major": 2,
       "version_minor": 0
      },
      "text/plain": [
       "  0%|          | 0/6000 [00:00<?, ?it/s]"
      ]
     },
     "metadata": {},
     "output_type": "display_data"
    },
    {
     "data": {
      "application/vnd.jupyter.widget-view+json": {
       "model_id": "",
       "version_major": 2,
       "version_minor": 0
      },
      "text/plain": [
       "  0%|          | 0/6000 [00:00<?, ?it/s]"
      ]
     },
     "metadata": {},
     "output_type": "display_data"
    },
    {
     "data": {
      "application/vnd.jupyter.widget-view+json": {
       "model_id": "",
       "version_major": 2,
       "version_minor": 0
      },
      "text/plain": [
       "  0%|          | 0/6000 [00:00<?, ?it/s]"
      ]
     },
     "metadata": {},
     "output_type": "display_data"
    },
    {
     "data": {
      "application/vnd.jupyter.widget-view+json": {
       "model_id": "",
       "version_major": 2,
       "version_minor": 0
      },
      "text/plain": [
       "  0%|          | 0/6000 [00:00<?, ?it/s]"
      ]
     },
     "metadata": {},
     "output_type": "display_data"
    },
    {
     "data": {
      "application/vnd.jupyter.widget-view+json": {
       "model_id": "",
       "version_major": 2,
       "version_minor": 0
      },
      "text/plain": [
       "  0%|          | 0/6000 [00:00<?, ?it/s]"
      ]
     },
     "metadata": {},
     "output_type": "display_data"
    },
    {
     "data": {
      "application/vnd.jupyter.widget-view+json": {
       "model_id": "",
       "version_major": 2,
       "version_minor": 0
      },
      "text/plain": [
       "  0%|          | 0/6000 [00:00<?, ?it/s]"
      ]
     },
     "metadata": {},
     "output_type": "display_data"
    },
    {
     "data": {
      "application/vnd.jupyter.widget-view+json": {
       "model_id": "",
       "version_major": 2,
       "version_minor": 0
      },
      "text/plain": [
       "  0%|          | 0/6000 [00:00<?, ?it/s]"
      ]
     },
     "metadata": {},
     "output_type": "display_data"
    },
    {
     "data": {
      "application/vnd.jupyter.widget-view+json": {
       "model_id": "",
       "version_major": 2,
       "version_minor": 0
      },
      "text/plain": [
       "  0%|          | 0/6000 [00:00<?, ?it/s]"
      ]
     },
     "metadata": {},
     "output_type": "display_data"
    },
    {
     "data": {
      "application/vnd.jupyter.widget-view+json": {
       "model_id": "",
       "version_major": 2,
       "version_minor": 0
      },
      "text/plain": [
       "  0%|          | 0/6000 [00:00<?, ?it/s]"
      ]
     },
     "metadata": {},
     "output_type": "display_data"
    },
    {
     "data": {
      "application/vnd.jupyter.widget-view+json": {
       "model_id": "",
       "version_major": 2,
       "version_minor": 0
      },
      "text/plain": [
       "  0%|          | 0/6000 [00:00<?, ?it/s]"
      ]
     },
     "metadata": {},
     "output_type": "display_data"
    },
    {
     "data": {
      "application/vnd.jupyter.widget-view+json": {
       "model_id": "",
       "version_major": 2,
       "version_minor": 0
      },
      "text/plain": [
       "  0%|          | 0/6000 [00:00<?, ?it/s]"
      ]
     },
     "metadata": {},
     "output_type": "display_data"
    },
    {
     "data": {
      "application/vnd.jupyter.widget-view+json": {
       "model_id": "514fd6656af64933928c14be57c3b5eb",
       "version_major": 2,
       "version_minor": 0
      },
      "text/plain": [
       "  0%|          | 0/6000 [00:00<?, ?it/s]"
      ]
     },
     "metadata": {},
     "output_type": "display_data"
    },
    {
     "data": {
      "application/vnd.jupyter.widget-view+json": {
       "model_id": "",
       "version_major": 2,
       "version_minor": 0
      },
      "text/plain": [
       "  0%|          | 0/6000 [00:00<?, ?it/s]"
      ]
     },
     "metadata": {},
     "output_type": "display_data"
    },
    {
     "data": {
      "application/vnd.jupyter.widget-view+json": {
       "model_id": "",
       "version_major": 2,
       "version_minor": 0
      },
      "text/plain": [
       "  0%|          | 0/6000 [00:00<?, ?it/s]"
      ]
     },
     "metadata": {},
     "output_type": "display_data"
    },
    {
     "data": {
      "application/vnd.jupyter.widget-view+json": {
       "model_id": "",
       "version_major": 2,
       "version_minor": 0
      },
      "text/plain": [
       "  0%|          | 0/6000 [00:00<?, ?it/s]"
      ]
     },
     "metadata": {},
     "output_type": "display_data"
    },
    {
     "data": {
      "application/vnd.jupyter.widget-view+json": {
       "model_id": "",
       "version_major": 2,
       "version_minor": 0
      },
      "text/plain": [
       "  0%|          | 0/6000 [00:00<?, ?it/s]"
      ]
     },
     "metadata": {},
     "output_type": "display_data"
    },
    {
     "data": {
      "application/vnd.jupyter.widget-view+json": {
       "model_id": "",
       "version_major": 2,
       "version_minor": 0
      },
      "text/plain": [
       "  0%|          | 0/6000 [00:00<?, ?it/s]"
      ]
     },
     "metadata": {},
     "output_type": "display_data"
    },
    {
     "data": {
      "application/vnd.jupyter.widget-view+json": {
       "model_id": "",
       "version_major": 2,
       "version_minor": 0
      },
      "text/plain": [
       "  0%|          | 0/6000 [00:00<?, ?it/s]"
      ]
     },
     "metadata": {},
     "output_type": "display_data"
    },
    {
     "data": {
      "application/vnd.jupyter.widget-view+json": {
       "model_id": "3f4b73ef00bb43eeb92eec5b16121287",
       "version_major": 2,
       "version_minor": 0
      },
      "text/plain": [
       "  0%|          | 0/6000 [00:00<?, ?it/s]"
      ]
     },
     "metadata": {},
     "output_type": "display_data"
    },
    {
     "data": {
      "application/vnd.jupyter.widget-view+json": {
       "model_id": "",
       "version_major": 2,
       "version_minor": 0
      },
      "text/plain": [
       "  0%|          | 0/6000 [00:00<?, ?it/s]"
      ]
     },
     "metadata": {},
     "output_type": "display_data"
    },
    {
     "data": {
      "application/vnd.jupyter.widget-view+json": {
       "model_id": "",
       "version_major": 2,
       "version_minor": 0
      },
      "text/plain": [
       "  0%|          | 0/6000 [00:00<?, ?it/s]"
      ]
     },
     "metadata": {},
     "output_type": "display_data"
    },
    {
     "data": {
      "application/vnd.jupyter.widget-view+json": {
       "model_id": "",
       "version_major": 2,
       "version_minor": 0
      },
      "text/plain": [
       "  0%|          | 0/6000 [00:00<?, ?it/s]"
      ]
     },
     "metadata": {},
     "output_type": "display_data"
    },
    {
     "data": {
      "application/vnd.jupyter.widget-view+json": {
       "model_id": "",
       "version_major": 2,
       "version_minor": 0
      },
      "text/plain": [
       "  0%|          | 0/6000 [00:00<?, ?it/s]"
      ]
     },
     "metadata": {},
     "output_type": "display_data"
    },
    {
     "data": {
      "application/vnd.jupyter.widget-view+json": {
       "model_id": "",
       "version_major": 2,
       "version_minor": 0
      },
      "text/plain": [
       "  0%|          | 0/6000 [00:00<?, ?it/s]"
      ]
     },
     "metadata": {},
     "output_type": "display_data"
    },
    {
     "data": {
      "application/vnd.jupyter.widget-view+json": {
       "model_id": "",
       "version_major": 2,
       "version_minor": 0
      },
      "text/plain": [
       "  0%|          | 0/6000 [00:00<?, ?it/s]"
      ]
     },
     "metadata": {},
     "output_type": "display_data"
    },
    {
     "data": {
      "application/vnd.jupyter.widget-view+json": {
       "model_id": "",
       "version_major": 2,
       "version_minor": 0
      },
      "text/plain": [
       "  0%|          | 0/6000 [00:00<?, ?it/s]"
      ]
     },
     "metadata": {},
     "output_type": "display_data"
    },
    {
     "data": {
      "application/vnd.jupyter.widget-view+json": {
       "model_id": "",
       "version_major": 2,
       "version_minor": 0
      },
      "text/plain": [
       "  0%|          | 0/6000 [00:00<?, ?it/s]"
      ]
     },
     "metadata": {},
     "output_type": "display_data"
    },
    {
     "data": {
      "application/vnd.jupyter.widget-view+json": {
       "model_id": "",
       "version_major": 2,
       "version_minor": 0
      },
      "text/plain": [
       "  0%|          | 0/6000 [00:00<?, ?it/s]"
      ]
     },
     "metadata": {},
     "output_type": "display_data"
    },
    {
     "data": {
      "application/vnd.jupyter.widget-view+json": {
       "model_id": "",
       "version_major": 2,
       "version_minor": 0
      },
      "text/plain": [
       "  0%|          | 0/6000 [00:00<?, ?it/s]"
      ]
     },
     "metadata": {},
     "output_type": "display_data"
    },
    {
     "data": {
      "application/vnd.jupyter.widget-view+json": {
       "model_id": "",
       "version_major": 2,
       "version_minor": 0
      },
      "text/plain": [
       "  0%|          | 0/6000 [00:00<?, ?it/s]"
      ]
     },
     "metadata": {},
     "output_type": "display_data"
    },
    {
     "data": {
      "application/vnd.jupyter.widget-view+json": {
       "model_id": "",
       "version_major": 2,
       "version_minor": 0
      },
      "text/plain": [
       "  0%|          | 0/6000 [00:00<?, ?it/s]"
      ]
     },
     "metadata": {},
     "output_type": "display_data"
    },
    {
     "data": {
      "application/vnd.jupyter.widget-view+json": {
       "model_id": "",
       "version_major": 2,
       "version_minor": 0
      },
      "text/plain": [
       "  0%|          | 0/6000 [00:00<?, ?it/s]"
      ]
     },
     "metadata": {},
     "output_type": "display_data"
    },
    {
     "data": {
      "application/vnd.jupyter.widget-view+json": {
       "model_id": "",
       "version_major": 2,
       "version_minor": 0
      },
      "text/plain": [
       "  0%|          | 0/6000 [00:00<?, ?it/s]"
      ]
     },
     "metadata": {},
     "output_type": "display_data"
    },
    {
     "data": {
      "application/vnd.jupyter.widget-view+json": {
       "model_id": "",
       "version_major": 2,
       "version_minor": 0
      },
      "text/plain": [
       "  0%|          | 0/6000 [00:00<?, ?it/s]"
      ]
     },
     "metadata": {},
     "output_type": "display_data"
    },
    {
     "data": {
      "application/vnd.jupyter.widget-view+json": {
       "model_id": "",
       "version_major": 2,
       "version_minor": 0
      },
      "text/plain": [
       "  0%|          | 0/6000 [00:00<?, ?it/s]"
      ]
     },
     "metadata": {},
     "output_type": "display_data"
    },
    {
     "data": {
      "application/vnd.jupyter.widget-view+json": {
       "model_id": "",
       "version_major": 2,
       "version_minor": 0
      },
      "text/plain": [
       "  0%|          | 0/6000 [00:00<?, ?it/s]"
      ]
     },
     "metadata": {},
     "output_type": "display_data"
    },
    {
     "data": {
      "application/vnd.jupyter.widget-view+json": {
       "model_id": "691d52cbb9cc4563918834f6b35569ae",
       "version_major": 2,
       "version_minor": 0
      },
      "text/plain": [
       "  0%|          | 0/6000 [00:00<?, ?it/s]"
      ]
     },
     "metadata": {},
     "output_type": "display_data"
    },
    {
     "data": {
      "application/vnd.jupyter.widget-view+json": {
       "model_id": "",
       "version_major": 2,
       "version_minor": 0
      },
      "text/plain": [
       "  0%|          | 0/6000 [00:00<?, ?it/s]"
      ]
     },
     "metadata": {},
     "output_type": "display_data"
    },
    {
     "data": {
      "application/vnd.jupyter.widget-view+json": {
       "model_id": "",
       "version_major": 2,
       "version_minor": 0
      },
      "text/plain": [
       "  0%|          | 0/6000 [00:00<?, ?it/s]"
      ]
     },
     "metadata": {},
     "output_type": "display_data"
    },
    {
     "data": {
      "application/vnd.jupyter.widget-view+json": {
       "model_id": "",
       "version_major": 2,
       "version_minor": 0
      },
      "text/plain": [
       "  0%|          | 0/6000 [00:00<?, ?it/s]"
      ]
     },
     "metadata": {},
     "output_type": "display_data"
    },
    {
     "data": {
      "application/vnd.jupyter.widget-view+json": {
       "model_id": "",
       "version_major": 2,
       "version_minor": 0
      },
      "text/plain": [
       "  0%|          | 0/6000 [00:00<?, ?it/s]"
      ]
     },
     "metadata": {},
     "output_type": "display_data"
    },
    {
     "data": {
      "application/vnd.jupyter.widget-view+json": {
       "model_id": "82e7ec3884c14140a39125986f18dc8c",
       "version_major": 2,
       "version_minor": 0
      },
      "text/plain": [
       "  0%|          | 0/6000 [00:00<?, ?it/s]"
      ]
     },
     "metadata": {},
     "output_type": "display_data"
    },
    {
     "data": {
      "application/vnd.jupyter.widget-view+json": {
       "model_id": "",
       "version_major": 2,
       "version_minor": 0
      },
      "text/plain": [
       "  0%|          | 0/6000 [00:00<?, ?it/s]"
      ]
     },
     "metadata": {},
     "output_type": "display_data"
    },
    {
     "data": {
      "application/vnd.jupyter.widget-view+json": {
       "model_id": "",
       "version_major": 2,
       "version_minor": 0
      },
      "text/plain": [
       "  0%|          | 0/6000 [00:00<?, ?it/s]"
      ]
     },
     "metadata": {},
     "output_type": "display_data"
    },
    {
     "data": {
      "application/vnd.jupyter.widget-view+json": {
       "model_id": "",
       "version_major": 2,
       "version_minor": 0
      },
      "text/plain": [
       "  0%|          | 0/6000 [00:00<?, ?it/s]"
      ]
     },
     "metadata": {},
     "output_type": "display_data"
    },
    {
     "data": {
      "application/vnd.jupyter.widget-view+json": {
       "model_id": "",
       "version_major": 2,
       "version_minor": 0
      },
      "text/plain": [
       "  0%|          | 0/6000 [00:00<?, ?it/s]"
      ]
     },
     "metadata": {},
     "output_type": "display_data"
    },
    {
     "data": {
      "application/vnd.jupyter.widget-view+json": {
       "model_id": "",
       "version_major": 2,
       "version_minor": 0
      },
      "text/plain": [
       "  0%|          | 0/6000 [00:00<?, ?it/s]"
      ]
     },
     "metadata": {},
     "output_type": "display_data"
    },
    {
     "data": {
      "application/vnd.jupyter.widget-view+json": {
       "model_id": "",
       "version_major": 2,
       "version_minor": 0
      },
      "text/plain": [
       "  0%|          | 0/6000 [00:00<?, ?it/s]"
      ]
     },
     "metadata": {},
     "output_type": "display_data"
    },
    {
     "data": {
      "application/vnd.jupyter.widget-view+json": {
       "model_id": "",
       "version_major": 2,
       "version_minor": 0
      },
      "text/plain": [
       "  0%|          | 0/6000 [00:00<?, ?it/s]"
      ]
     },
     "metadata": {},
     "output_type": "display_data"
    },
    {
     "data": {
      "application/vnd.jupyter.widget-view+json": {
       "model_id": "",
       "version_major": 2,
       "version_minor": 0
      },
      "text/plain": [
       "  0%|          | 0/6000 [00:00<?, ?it/s]"
      ]
     },
     "metadata": {},
     "output_type": "display_data"
    },
    {
     "data": {
      "application/vnd.jupyter.widget-view+json": {
       "model_id": "",
       "version_major": 2,
       "version_minor": 0
      },
      "text/plain": [
       "  0%|          | 0/6000 [00:00<?, ?it/s]"
      ]
     },
     "metadata": {},
     "output_type": "display_data"
    },
    {
     "data": {
      "application/vnd.jupyter.widget-view+json": {
       "model_id": "",
       "version_major": 2,
       "version_minor": 0
      },
      "text/plain": [
       "  0%|          | 0/6000 [00:00<?, ?it/s]"
      ]
     },
     "metadata": {},
     "output_type": "display_data"
    },
    {
     "data": {
      "application/vnd.jupyter.widget-view+json": {
       "model_id": "",
       "version_major": 2,
       "version_minor": 0
      },
      "text/plain": [
       "  0%|          | 0/6000 [00:00<?, ?it/s]"
      ]
     },
     "metadata": {},
     "output_type": "display_data"
    },
    {
     "data": {
      "application/vnd.jupyter.widget-view+json": {
       "model_id": "",
       "version_major": 2,
       "version_minor": 0
      },
      "text/plain": [
       "  0%|          | 0/6000 [00:00<?, ?it/s]"
      ]
     },
     "metadata": {},
     "output_type": "display_data"
    },
    {
     "data": {
      "application/vnd.jupyter.widget-view+json": {
       "model_id": "",
       "version_major": 2,
       "version_minor": 0
      },
      "text/plain": [
       "  0%|          | 0/6000 [00:00<?, ?it/s]"
      ]
     },
     "metadata": {},
     "output_type": "display_data"
    },
    {
     "data": {
      "application/vnd.jupyter.widget-view+json": {
       "model_id": "",
       "version_major": 2,
       "version_minor": 0
      },
      "text/plain": [
       "  0%|          | 0/6000 [00:00<?, ?it/s]"
      ]
     },
     "metadata": {},
     "output_type": "display_data"
    },
    {
     "data": {
      "application/vnd.jupyter.widget-view+json": {
       "model_id": "",
       "version_major": 2,
       "version_minor": 0
      },
      "text/plain": [
       "  0%|          | 0/6000 [00:00<?, ?it/s]"
      ]
     },
     "metadata": {},
     "output_type": "display_data"
    },
    {
     "data": {
      "application/vnd.jupyter.widget-view+json": {
       "model_id": "",
       "version_major": 2,
       "version_minor": 0
      },
      "text/plain": [
       "  0%|          | 0/6000 [00:00<?, ?it/s]"
      ]
     },
     "metadata": {},
     "output_type": "display_data"
    },
    {
     "data": {
      "application/vnd.jupyter.widget-view+json": {
       "model_id": "",
       "version_major": 2,
       "version_minor": 0
      },
      "text/plain": [
       "  0%|          | 0/6000 [00:00<?, ?it/s]"
      ]
     },
     "metadata": {},
     "output_type": "display_data"
    },
    {
     "data": {
      "application/vnd.jupyter.widget-view+json": {
       "model_id": "",
       "version_major": 2,
       "version_minor": 0
      },
      "text/plain": [
       "  0%|          | 0/6000 [00:00<?, ?it/s]"
      ]
     },
     "metadata": {},
     "output_type": "display_data"
    },
    {
     "data": {
      "application/vnd.jupyter.widget-view+json": {
       "model_id": "",
       "version_major": 2,
       "version_minor": 0
      },
      "text/plain": [
       "  0%|          | 0/6000 [00:00<?, ?it/s]"
      ]
     },
     "metadata": {},
     "output_type": "display_data"
    },
    {
     "data": {
      "application/vnd.jupyter.widget-view+json": {
       "model_id": "21769ef83b7242c0ad95d43749133bc7",
       "version_major": 2,
       "version_minor": 0
      },
      "text/plain": [
       "  0%|          | 0/6000 [00:00<?, ?it/s]"
      ]
     },
     "metadata": {},
     "output_type": "display_data"
    },
    {
     "data": {
      "application/vnd.jupyter.widget-view+json": {
       "model_id": "",
       "version_major": 2,
       "version_minor": 0
      },
      "text/plain": [
       "  0%|          | 0/6000 [00:00<?, ?it/s]"
      ]
     },
     "metadata": {},
     "output_type": "display_data"
    },
    {
     "data": {
      "application/vnd.jupyter.widget-view+json": {
       "model_id": "",
       "version_major": 2,
       "version_minor": 0
      },
      "text/plain": [
       "  0%|          | 0/6000 [00:00<?, ?it/s]"
      ]
     },
     "metadata": {},
     "output_type": "display_data"
    },
    {
     "data": {
      "application/vnd.jupyter.widget-view+json": {
       "model_id": "",
       "version_major": 2,
       "version_minor": 0
      },
      "text/plain": [
       "  0%|          | 0/6000 [00:00<?, ?it/s]"
      ]
     },
     "metadata": {},
     "output_type": "display_data"
    },
    {
     "data": {
      "application/vnd.jupyter.widget-view+json": {
       "model_id": "",
       "version_major": 2,
       "version_minor": 0
      },
      "text/plain": [
       "  0%|          | 0/6000 [00:00<?, ?it/s]"
      ]
     },
     "metadata": {},
     "output_type": "display_data"
    },
    {
     "data": {
      "application/vnd.jupyter.widget-view+json": {
       "model_id": "",
       "version_major": 2,
       "version_minor": 0
      },
      "text/plain": [
       "  0%|          | 0/6000 [00:00<?, ?it/s]"
      ]
     },
     "metadata": {},
     "output_type": "display_data"
    },
    {
     "data": {
      "application/vnd.jupyter.widget-view+json": {
       "model_id": "",
       "version_major": 2,
       "version_minor": 0
      },
      "text/plain": [
       "  0%|          | 0/6000 [00:00<?, ?it/s]"
      ]
     },
     "metadata": {},
     "output_type": "display_data"
    },
    {
     "data": {
      "application/vnd.jupyter.widget-view+json": {
       "model_id": "",
       "version_major": 2,
       "version_minor": 0
      },
      "text/plain": [
       "  0%|          | 0/6000 [00:00<?, ?it/s]"
      ]
     },
     "metadata": {},
     "output_type": "display_data"
    },
    {
     "data": {
      "application/vnd.jupyter.widget-view+json": {
       "model_id": "beab410f3a9a4b5aaf02576382f2cadb",
       "version_major": 2,
       "version_minor": 0
      },
      "text/plain": [
       "  0%|          | 0/6000 [00:00<?, ?it/s]"
      ]
     },
     "metadata": {},
     "output_type": "display_data"
    },
    {
     "data": {
      "application/vnd.jupyter.widget-view+json": {
       "model_id": "",
       "version_major": 2,
       "version_minor": 0
      },
      "text/plain": [
       "  0%|          | 0/6000 [00:00<?, ?it/s]"
      ]
     },
     "metadata": {},
     "output_type": "display_data"
    },
    {
     "data": {
      "application/vnd.jupyter.widget-view+json": {
       "model_id": "",
       "version_major": 2,
       "version_minor": 0
      },
      "text/plain": [
       "  0%|          | 0/6000 [00:00<?, ?it/s]"
      ]
     },
     "metadata": {},
     "output_type": "display_data"
    },
    {
     "data": {
      "application/vnd.jupyter.widget-view+json": {
       "model_id": "",
       "version_major": 2,
       "version_minor": 0
      },
      "text/plain": [
       "  0%|          | 0/6000 [00:00<?, ?it/s]"
      ]
     },
     "metadata": {},
     "output_type": "display_data"
    },
    {
     "data": {
      "application/vnd.jupyter.widget-view+json": {
       "model_id": "",
       "version_major": 2,
       "version_minor": 0
      },
      "text/plain": [
       "  0%|          | 0/6000 [00:00<?, ?it/s]"
      ]
     },
     "metadata": {},
     "output_type": "display_data"
    },
    {
     "data": {
      "application/vnd.jupyter.widget-view+json": {
       "model_id": "",
       "version_major": 2,
       "version_minor": 0
      },
      "text/plain": [
       "  0%|          | 0/6000 [00:00<?, ?it/s]"
      ]
     },
     "metadata": {},
     "output_type": "display_data"
    },
    {
     "data": {
      "application/vnd.jupyter.widget-view+json": {
       "model_id": "",
       "version_major": 2,
       "version_minor": 0
      },
      "text/plain": [
       "  0%|          | 0/6000 [00:00<?, ?it/s]"
      ]
     },
     "metadata": {},
     "output_type": "display_data"
    },
    {
     "data": {
      "application/vnd.jupyter.widget-view+json": {
       "model_id": "",
       "version_major": 2,
       "version_minor": 0
      },
      "text/plain": [
       "  0%|          | 0/6000 [00:00<?, ?it/s]"
      ]
     },
     "metadata": {},
     "output_type": "display_data"
    },
    {
     "data": {
      "application/vnd.jupyter.widget-view+json": {
       "model_id": "",
       "version_major": 2,
       "version_minor": 0
      },
      "text/plain": [
       "  0%|          | 0/6000 [00:00<?, ?it/s]"
      ]
     },
     "metadata": {},
     "output_type": "display_data"
    },
    {
     "data": {
      "application/vnd.jupyter.widget-view+json": {
       "model_id": "",
       "version_major": 2,
       "version_minor": 0
      },
      "text/plain": [
       "  0%|          | 0/6000 [00:00<?, ?it/s]"
      ]
     },
     "metadata": {},
     "output_type": "display_data"
    },
    {
     "data": {
      "application/vnd.jupyter.widget-view+json": {
       "model_id": "",
       "version_major": 2,
       "version_minor": 0
      },
      "text/plain": [
       "  0%|          | 0/6000 [00:00<?, ?it/s]"
      ]
     },
     "metadata": {},
     "output_type": "display_data"
    },
    {
     "data": {
      "application/vnd.jupyter.widget-view+json": {
       "model_id": "",
       "version_major": 2,
       "version_minor": 0
      },
      "text/plain": [
       "  0%|          | 0/6000 [00:00<?, ?it/s]"
      ]
     },
     "metadata": {},
     "output_type": "display_data"
    },
    {
     "data": {
      "application/vnd.jupyter.widget-view+json": {
       "model_id": "3660e6ec4e0848f1b5d7b5b91922b679",
       "version_major": 2,
       "version_minor": 0
      },
      "text/plain": [
       "  0%|          | 0/6000 [00:00<?, ?it/s]"
      ]
     },
     "metadata": {},
     "output_type": "display_data"
    },
    {
     "data": {
      "application/vnd.jupyter.widget-view+json": {
       "model_id": "",
       "version_major": 2,
       "version_minor": 0
      },
      "text/plain": [
       "  0%|          | 0/6000 [00:00<?, ?it/s]"
      ]
     },
     "metadata": {},
     "output_type": "display_data"
    },
    {
     "data": {
      "application/vnd.jupyter.widget-view+json": {
       "model_id": "",
       "version_major": 2,
       "version_minor": 0
      },
      "text/plain": [
       "  0%|          | 0/6000 [00:00<?, ?it/s]"
      ]
     },
     "metadata": {},
     "output_type": "display_data"
    },
    {
     "data": {
      "application/vnd.jupyter.widget-view+json": {
       "model_id": "",
       "version_major": 2,
       "version_minor": 0
      },
      "text/plain": [
       "  0%|          | 0/6000 [00:00<?, ?it/s]"
      ]
     },
     "metadata": {},
     "output_type": "display_data"
    },
    {
     "data": {
      "application/vnd.jupyter.widget-view+json": {
       "model_id": "",
       "version_major": 2,
       "version_minor": 0
      },
      "text/plain": [
       "  0%|          | 0/6000 [00:00<?, ?it/s]"
      ]
     },
     "metadata": {},
     "output_type": "display_data"
    },
    {
     "data": {
      "application/vnd.jupyter.widget-view+json": {
       "model_id": "",
       "version_major": 2,
       "version_minor": 0
      },
      "text/plain": [
       "  0%|          | 0/6000 [00:00<?, ?it/s]"
      ]
     },
     "metadata": {},
     "output_type": "display_data"
    },
    {
     "data": {
      "application/vnd.jupyter.widget-view+json": {
       "model_id": "",
       "version_major": 2,
       "version_minor": 0
      },
      "text/plain": [
       "  0%|          | 0/6000 [00:00<?, ?it/s]"
      ]
     },
     "metadata": {},
     "output_type": "display_data"
    },
    {
     "data": {
      "application/vnd.jupyter.widget-view+json": {
       "model_id": "",
       "version_major": 2,
       "version_minor": 0
      },
      "text/plain": [
       "  0%|          | 0/6000 [00:00<?, ?it/s]"
      ]
     },
     "metadata": {},
     "output_type": "display_data"
    },
    {
     "data": {
      "application/vnd.jupyter.widget-view+json": {
       "model_id": "",
       "version_major": 2,
       "version_minor": 0
      },
      "text/plain": [
       "  0%|          | 0/6000 [00:00<?, ?it/s]"
      ]
     },
     "metadata": {},
     "output_type": "display_data"
    },
    {
     "data": {
      "application/vnd.jupyter.widget-view+json": {
       "model_id": "",
       "version_major": 2,
       "version_minor": 0
      },
      "text/plain": [
       "  0%|          | 0/6000 [00:00<?, ?it/s]"
      ]
     },
     "metadata": {},
     "output_type": "display_data"
    },
    {
     "data": {
      "application/vnd.jupyter.widget-view+json": {
       "model_id": "",
       "version_major": 2,
       "version_minor": 0
      },
      "text/plain": [
       "  0%|          | 0/6000 [00:00<?, ?it/s]"
      ]
     },
     "metadata": {},
     "output_type": "display_data"
    },
    {
     "data": {
      "application/vnd.jupyter.widget-view+json": {
       "model_id": "",
       "version_major": 2,
       "version_minor": 0
      },
      "text/plain": [
       "  0%|          | 0/6000 [00:00<?, ?it/s]"
      ]
     },
     "metadata": {},
     "output_type": "display_data"
    },
    {
     "data": {
      "application/vnd.jupyter.widget-view+json": {
       "model_id": "b582ffc3633c4cec837c31d2fcc15bb2",
       "version_major": 2,
       "version_minor": 0
      },
      "text/plain": [
       "  0%|          | 0/6000 [00:00<?, ?it/s]"
      ]
     },
     "metadata": {},
     "output_type": "display_data"
    },
    {
     "data": {
      "application/vnd.jupyter.widget-view+json": {
       "model_id": "",
       "version_major": 2,
       "version_minor": 0
      },
      "text/plain": [
       "  0%|          | 0/6000 [00:00<?, ?it/s]"
      ]
     },
     "metadata": {},
     "output_type": "display_data"
    },
    {
     "data": {
      "application/vnd.jupyter.widget-view+json": {
       "model_id": "",
       "version_major": 2,
       "version_minor": 0
      },
      "text/plain": [
       "  0%|          | 0/6000 [00:00<?, ?it/s]"
      ]
     },
     "metadata": {},
     "output_type": "display_data"
    },
    {
     "data": {
      "application/vnd.jupyter.widget-view+json": {
       "model_id": "",
       "version_major": 2,
       "version_minor": 0
      },
      "text/plain": [
       "  0%|          | 0/6000 [00:00<?, ?it/s]"
      ]
     },
     "metadata": {},
     "output_type": "display_data"
    },
    {
     "data": {
      "application/javascript": [
       "/* Put everything inside the global mpl namespace */\n",
       "/* global mpl */\n",
       "window.mpl = {};\n",
       "\n",
       "mpl.get_websocket_type = function () {\n",
       "    if (typeof WebSocket !== 'undefined') {\n",
       "        return WebSocket;\n",
       "    } else if (typeof MozWebSocket !== 'undefined') {\n",
       "        return MozWebSocket;\n",
       "    } else {\n",
       "        alert(\n",
       "            'Your browser does not have WebSocket support. ' +\n",
       "                'Please try Chrome, Safari or Firefox ≥ 6. ' +\n",
       "                'Firefox 4 and 5 are also supported but you ' +\n",
       "                'have to enable WebSockets in about:config.'\n",
       "        );\n",
       "    }\n",
       "};\n",
       "\n",
       "mpl.figure = function (figure_id, websocket, ondownload, parent_element) {\n",
       "    this.id = figure_id;\n",
       "\n",
       "    this.ws = websocket;\n",
       "\n",
       "    this.supports_binary = this.ws.binaryType !== undefined;\n",
       "\n",
       "    if (!this.supports_binary) {\n",
       "        var warnings = document.getElementById('mpl-warnings');\n",
       "        if (warnings) {\n",
       "            warnings.style.display = 'block';\n",
       "            warnings.textContent =\n",
       "                'This browser does not support binary websocket messages. ' +\n",
       "                'Performance may be slow.';\n",
       "        }\n",
       "    }\n",
       "\n",
       "    this.imageObj = new Image();\n",
       "\n",
       "    this.context = undefined;\n",
       "    this.message = undefined;\n",
       "    this.canvas = undefined;\n",
       "    this.rubberband_canvas = undefined;\n",
       "    this.rubberband_context = undefined;\n",
       "    this.format_dropdown = undefined;\n",
       "\n",
       "    this.image_mode = 'full';\n",
       "\n",
       "    this.root = document.createElement('div');\n",
       "    this.root.setAttribute('style', 'display: inline-block');\n",
       "    this._root_extra_style(this.root);\n",
       "\n",
       "    parent_element.appendChild(this.root);\n",
       "\n",
       "    this._init_header(this);\n",
       "    this._init_canvas(this);\n",
       "    this._init_toolbar(this);\n",
       "\n",
       "    var fig = this;\n",
       "\n",
       "    this.waiting = false;\n",
       "\n",
       "    this.ws.onopen = function () {\n",
       "        fig.send_message('supports_binary', { value: fig.supports_binary });\n",
       "        fig.send_message('send_image_mode', {});\n",
       "        if (fig.ratio !== 1) {\n",
       "            fig.send_message('set_dpi_ratio', { dpi_ratio: fig.ratio });\n",
       "        }\n",
       "        fig.send_message('refresh', {});\n",
       "    };\n",
       "\n",
       "    this.imageObj.onload = function () {\n",
       "        if (fig.image_mode === 'full') {\n",
       "            // Full images could contain transparency (where diff images\n",
       "            // almost always do), so we need to clear the canvas so that\n",
       "            // there is no ghosting.\n",
       "            fig.context.clearRect(0, 0, fig.canvas.width, fig.canvas.height);\n",
       "        }\n",
       "        fig.context.drawImage(fig.imageObj, 0, 0);\n",
       "    };\n",
       "\n",
       "    this.imageObj.onunload = function () {\n",
       "        fig.ws.close();\n",
       "    };\n",
       "\n",
       "    this.ws.onmessage = this._make_on_message_function(this);\n",
       "\n",
       "    this.ondownload = ondownload;\n",
       "};\n",
       "\n",
       "mpl.figure.prototype._init_header = function () {\n",
       "    var titlebar = document.createElement('div');\n",
       "    titlebar.classList =\n",
       "        'ui-dialog-titlebar ui-widget-header ui-corner-all ui-helper-clearfix';\n",
       "    var titletext = document.createElement('div');\n",
       "    titletext.classList = 'ui-dialog-title';\n",
       "    titletext.setAttribute(\n",
       "        'style',\n",
       "        'width: 100%; text-align: center; padding: 3px;'\n",
       "    );\n",
       "    titlebar.appendChild(titletext);\n",
       "    this.root.appendChild(titlebar);\n",
       "    this.header = titletext;\n",
       "};\n",
       "\n",
       "mpl.figure.prototype._canvas_extra_style = function (_canvas_div) {};\n",
       "\n",
       "mpl.figure.prototype._root_extra_style = function (_canvas_div) {};\n",
       "\n",
       "mpl.figure.prototype._init_canvas = function () {\n",
       "    var fig = this;\n",
       "\n",
       "    var canvas_div = (this.canvas_div = document.createElement('div'));\n",
       "    canvas_div.setAttribute(\n",
       "        'style',\n",
       "        'border: 1px solid #ddd;' +\n",
       "            'box-sizing: content-box;' +\n",
       "            'clear: both;' +\n",
       "            'min-height: 1px;' +\n",
       "            'min-width: 1px;' +\n",
       "            'outline: 0;' +\n",
       "            'overflow: hidden;' +\n",
       "            'position: relative;' +\n",
       "            'resize: both;'\n",
       "    );\n",
       "\n",
       "    function on_keyboard_event_closure(name) {\n",
       "        return function (event) {\n",
       "            return fig.key_event(event, name);\n",
       "        };\n",
       "    }\n",
       "\n",
       "    canvas_div.addEventListener(\n",
       "        'keydown',\n",
       "        on_keyboard_event_closure('key_press')\n",
       "    );\n",
       "    canvas_div.addEventListener(\n",
       "        'keyup',\n",
       "        on_keyboard_event_closure('key_release')\n",
       "    );\n",
       "\n",
       "    this._canvas_extra_style(canvas_div);\n",
       "    this.root.appendChild(canvas_div);\n",
       "\n",
       "    var canvas = (this.canvas = document.createElement('canvas'));\n",
       "    canvas.classList.add('mpl-canvas');\n",
       "    canvas.setAttribute('style', 'box-sizing: content-box;');\n",
       "\n",
       "    this.context = canvas.getContext('2d');\n",
       "\n",
       "    var backingStore =\n",
       "        this.context.backingStorePixelRatio ||\n",
       "        this.context.webkitBackingStorePixelRatio ||\n",
       "        this.context.mozBackingStorePixelRatio ||\n",
       "        this.context.msBackingStorePixelRatio ||\n",
       "        this.context.oBackingStorePixelRatio ||\n",
       "        this.context.backingStorePixelRatio ||\n",
       "        1;\n",
       "\n",
       "    this.ratio = (window.devicePixelRatio || 1) / backingStore;\n",
       "\n",
       "    var rubberband_canvas = (this.rubberband_canvas = document.createElement(\n",
       "        'canvas'\n",
       "    ));\n",
       "    rubberband_canvas.setAttribute(\n",
       "        'style',\n",
       "        'box-sizing: content-box; position: absolute; left: 0; top: 0; z-index: 1;'\n",
       "    );\n",
       "\n",
       "    // Apply a ponyfill if ResizeObserver is not implemented by browser.\n",
       "    if (this.ResizeObserver === undefined) {\n",
       "        if (window.ResizeObserver !== undefined) {\n",
       "            this.ResizeObserver = window.ResizeObserver;\n",
       "        } else {\n",
       "            var obs = _JSXTOOLS_RESIZE_OBSERVER({});\n",
       "            this.ResizeObserver = obs.ResizeObserver;\n",
       "        }\n",
       "    }\n",
       "\n",
       "    this.resizeObserverInstance = new this.ResizeObserver(function (entries) {\n",
       "        var nentries = entries.length;\n",
       "        for (var i = 0; i < nentries; i++) {\n",
       "            var entry = entries[i];\n",
       "            var width, height;\n",
       "            if (entry.contentBoxSize) {\n",
       "                if (entry.contentBoxSize instanceof Array) {\n",
       "                    // Chrome 84 implements new version of spec.\n",
       "                    width = entry.contentBoxSize[0].inlineSize;\n",
       "                    height = entry.contentBoxSize[0].blockSize;\n",
       "                } else {\n",
       "                    // Firefox implements old version of spec.\n",
       "                    width = entry.contentBoxSize.inlineSize;\n",
       "                    height = entry.contentBoxSize.blockSize;\n",
       "                }\n",
       "            } else {\n",
       "                // Chrome <84 implements even older version of spec.\n",
       "                width = entry.contentRect.width;\n",
       "                height = entry.contentRect.height;\n",
       "            }\n",
       "\n",
       "            // Keep the size of the canvas and rubber band canvas in sync with\n",
       "            // the canvas container.\n",
       "            if (entry.devicePixelContentBoxSize) {\n",
       "                // Chrome 84 implements new version of spec.\n",
       "                canvas.setAttribute(\n",
       "                    'width',\n",
       "                    entry.devicePixelContentBoxSize[0].inlineSize\n",
       "                );\n",
       "                canvas.setAttribute(\n",
       "                    'height',\n",
       "                    entry.devicePixelContentBoxSize[0].blockSize\n",
       "                );\n",
       "            } else {\n",
       "                canvas.setAttribute('width', width * fig.ratio);\n",
       "                canvas.setAttribute('height', height * fig.ratio);\n",
       "            }\n",
       "            canvas.setAttribute(\n",
       "                'style',\n",
       "                'width: ' + width + 'px; height: ' + height + 'px;'\n",
       "            );\n",
       "\n",
       "            rubberband_canvas.setAttribute('width', width);\n",
       "            rubberband_canvas.setAttribute('height', height);\n",
       "\n",
       "            // And update the size in Python. We ignore the initial 0/0 size\n",
       "            // that occurs as the element is placed into the DOM, which should\n",
       "            // otherwise not happen due to the minimum size styling.\n",
       "            if (fig.ws.readyState == 1 && width != 0 && height != 0) {\n",
       "                fig.request_resize(width, height);\n",
       "            }\n",
       "        }\n",
       "    });\n",
       "    this.resizeObserverInstance.observe(canvas_div);\n",
       "\n",
       "    function on_mouse_event_closure(name) {\n",
       "        return function (event) {\n",
       "            return fig.mouse_event(event, name);\n",
       "        };\n",
       "    }\n",
       "\n",
       "    rubberband_canvas.addEventListener(\n",
       "        'mousedown',\n",
       "        on_mouse_event_closure('button_press')\n",
       "    );\n",
       "    rubberband_canvas.addEventListener(\n",
       "        'mouseup',\n",
       "        on_mouse_event_closure('button_release')\n",
       "    );\n",
       "    rubberband_canvas.addEventListener(\n",
       "        'dblclick',\n",
       "        on_mouse_event_closure('dblclick')\n",
       "    );\n",
       "    // Throttle sequential mouse events to 1 every 20ms.\n",
       "    rubberband_canvas.addEventListener(\n",
       "        'mousemove',\n",
       "        on_mouse_event_closure('motion_notify')\n",
       "    );\n",
       "\n",
       "    rubberband_canvas.addEventListener(\n",
       "        'mouseenter',\n",
       "        on_mouse_event_closure('figure_enter')\n",
       "    );\n",
       "    rubberband_canvas.addEventListener(\n",
       "        'mouseleave',\n",
       "        on_mouse_event_closure('figure_leave')\n",
       "    );\n",
       "\n",
       "    canvas_div.addEventListener('wheel', function (event) {\n",
       "        if (event.deltaY < 0) {\n",
       "            event.step = 1;\n",
       "        } else {\n",
       "            event.step = -1;\n",
       "        }\n",
       "        on_mouse_event_closure('scroll')(event);\n",
       "    });\n",
       "\n",
       "    canvas_div.appendChild(canvas);\n",
       "    canvas_div.appendChild(rubberband_canvas);\n",
       "\n",
       "    this.rubberband_context = rubberband_canvas.getContext('2d');\n",
       "    this.rubberband_context.strokeStyle = '#000000';\n",
       "\n",
       "    this._resize_canvas = function (width, height, forward) {\n",
       "        if (forward) {\n",
       "            canvas_div.style.width = width + 'px';\n",
       "            canvas_div.style.height = height + 'px';\n",
       "        }\n",
       "    };\n",
       "\n",
       "    // Disable right mouse context menu.\n",
       "    this.rubberband_canvas.addEventListener('contextmenu', function (_e) {\n",
       "        event.preventDefault();\n",
       "        return false;\n",
       "    });\n",
       "\n",
       "    function set_focus() {\n",
       "        canvas.focus();\n",
       "        canvas_div.focus();\n",
       "    }\n",
       "\n",
       "    window.setTimeout(set_focus, 100);\n",
       "};\n",
       "\n",
       "mpl.figure.prototype._init_toolbar = function () {\n",
       "    var fig = this;\n",
       "\n",
       "    var toolbar = document.createElement('div');\n",
       "    toolbar.classList = 'mpl-toolbar';\n",
       "    this.root.appendChild(toolbar);\n",
       "\n",
       "    function on_click_closure(name) {\n",
       "        return function (_event) {\n",
       "            return fig.toolbar_button_onclick(name);\n",
       "        };\n",
       "    }\n",
       "\n",
       "    function on_mouseover_closure(tooltip) {\n",
       "        return function (event) {\n",
       "            if (!event.currentTarget.disabled) {\n",
       "                return fig.toolbar_button_onmouseover(tooltip);\n",
       "            }\n",
       "        };\n",
       "    }\n",
       "\n",
       "    fig.buttons = {};\n",
       "    var buttonGroup = document.createElement('div');\n",
       "    buttonGroup.classList = 'mpl-button-group';\n",
       "    for (var toolbar_ind in mpl.toolbar_items) {\n",
       "        var name = mpl.toolbar_items[toolbar_ind][0];\n",
       "        var tooltip = mpl.toolbar_items[toolbar_ind][1];\n",
       "        var image = mpl.toolbar_items[toolbar_ind][2];\n",
       "        var method_name = mpl.toolbar_items[toolbar_ind][3];\n",
       "\n",
       "        if (!name) {\n",
       "            /* Instead of a spacer, we start a new button group. */\n",
       "            if (buttonGroup.hasChildNodes()) {\n",
       "                toolbar.appendChild(buttonGroup);\n",
       "            }\n",
       "            buttonGroup = document.createElement('div');\n",
       "            buttonGroup.classList = 'mpl-button-group';\n",
       "            continue;\n",
       "        }\n",
       "\n",
       "        var button = (fig.buttons[name] = document.createElement('button'));\n",
       "        button.classList = 'mpl-widget';\n",
       "        button.setAttribute('role', 'button');\n",
       "        button.setAttribute('aria-disabled', 'false');\n",
       "        button.addEventListener('click', on_click_closure(method_name));\n",
       "        button.addEventListener('mouseover', on_mouseover_closure(tooltip));\n",
       "\n",
       "        var icon_img = document.createElement('img');\n",
       "        icon_img.src = '_images/' + image + '.png';\n",
       "        icon_img.srcset = '_images/' + image + '_large.png 2x';\n",
       "        icon_img.alt = tooltip;\n",
       "        button.appendChild(icon_img);\n",
       "\n",
       "        buttonGroup.appendChild(button);\n",
       "    }\n",
       "\n",
       "    if (buttonGroup.hasChildNodes()) {\n",
       "        toolbar.appendChild(buttonGroup);\n",
       "    }\n",
       "\n",
       "    var fmt_picker = document.createElement('select');\n",
       "    fmt_picker.classList = 'mpl-widget';\n",
       "    toolbar.appendChild(fmt_picker);\n",
       "    this.format_dropdown = fmt_picker;\n",
       "\n",
       "    for (var ind in mpl.extensions) {\n",
       "        var fmt = mpl.extensions[ind];\n",
       "        var option = document.createElement('option');\n",
       "        option.selected = fmt === mpl.default_extension;\n",
       "        option.innerHTML = fmt;\n",
       "        fmt_picker.appendChild(option);\n",
       "    }\n",
       "\n",
       "    var status_bar = document.createElement('span');\n",
       "    status_bar.classList = 'mpl-message';\n",
       "    toolbar.appendChild(status_bar);\n",
       "    this.message = status_bar;\n",
       "};\n",
       "\n",
       "mpl.figure.prototype.request_resize = function (x_pixels, y_pixels) {\n",
       "    // Request matplotlib to resize the figure. Matplotlib will then trigger a resize in the client,\n",
       "    // which will in turn request a refresh of the image.\n",
       "    this.send_message('resize', { width: x_pixels, height: y_pixels });\n",
       "};\n",
       "\n",
       "mpl.figure.prototype.send_message = function (type, properties) {\n",
       "    properties['type'] = type;\n",
       "    properties['figure_id'] = this.id;\n",
       "    this.ws.send(JSON.stringify(properties));\n",
       "};\n",
       "\n",
       "mpl.figure.prototype.send_draw_message = function () {\n",
       "    if (!this.waiting) {\n",
       "        this.waiting = true;\n",
       "        this.ws.send(JSON.stringify({ type: 'draw', figure_id: this.id }));\n",
       "    }\n",
       "};\n",
       "\n",
       "mpl.figure.prototype.handle_save = function (fig, _msg) {\n",
       "    var format_dropdown = fig.format_dropdown;\n",
       "    var format = format_dropdown.options[format_dropdown.selectedIndex].value;\n",
       "    fig.ondownload(fig, format);\n",
       "};\n",
       "\n",
       "mpl.figure.prototype.handle_resize = function (fig, msg) {\n",
       "    var size = msg['size'];\n",
       "    if (size[0] !== fig.canvas.width || size[1] !== fig.canvas.height) {\n",
       "        fig._resize_canvas(size[0], size[1], msg['forward']);\n",
       "        fig.send_message('refresh', {});\n",
       "    }\n",
       "};\n",
       "\n",
       "mpl.figure.prototype.handle_rubberband = function (fig, msg) {\n",
       "    var x0 = msg['x0'] / fig.ratio;\n",
       "    var y0 = (fig.canvas.height - msg['y0']) / fig.ratio;\n",
       "    var x1 = msg['x1'] / fig.ratio;\n",
       "    var y1 = (fig.canvas.height - msg['y1']) / fig.ratio;\n",
       "    x0 = Math.floor(x0) + 0.5;\n",
       "    y0 = Math.floor(y0) + 0.5;\n",
       "    x1 = Math.floor(x1) + 0.5;\n",
       "    y1 = Math.floor(y1) + 0.5;\n",
       "    var min_x = Math.min(x0, x1);\n",
       "    var min_y = Math.min(y0, y1);\n",
       "    var width = Math.abs(x1 - x0);\n",
       "    var height = Math.abs(y1 - y0);\n",
       "\n",
       "    fig.rubberband_context.clearRect(\n",
       "        0,\n",
       "        0,\n",
       "        fig.canvas.width / fig.ratio,\n",
       "        fig.canvas.height / fig.ratio\n",
       "    );\n",
       "\n",
       "    fig.rubberband_context.strokeRect(min_x, min_y, width, height);\n",
       "};\n",
       "\n",
       "mpl.figure.prototype.handle_figure_label = function (fig, msg) {\n",
       "    // Updates the figure title.\n",
       "    fig.header.textContent = msg['label'];\n",
       "};\n",
       "\n",
       "mpl.figure.prototype.handle_cursor = function (fig, msg) {\n",
       "    var cursor = msg['cursor'];\n",
       "    switch (cursor) {\n",
       "        case 0:\n",
       "            cursor = 'pointer';\n",
       "            break;\n",
       "        case 1:\n",
       "            cursor = 'default';\n",
       "            break;\n",
       "        case 2:\n",
       "            cursor = 'crosshair';\n",
       "            break;\n",
       "        case 3:\n",
       "            cursor = 'move';\n",
       "            break;\n",
       "    }\n",
       "    fig.rubberband_canvas.style.cursor = cursor;\n",
       "};\n",
       "\n",
       "mpl.figure.prototype.handle_message = function (fig, msg) {\n",
       "    fig.message.textContent = msg['message'];\n",
       "};\n",
       "\n",
       "mpl.figure.prototype.handle_draw = function (fig, _msg) {\n",
       "    // Request the server to send over a new figure.\n",
       "    fig.send_draw_message();\n",
       "};\n",
       "\n",
       "mpl.figure.prototype.handle_image_mode = function (fig, msg) {\n",
       "    fig.image_mode = msg['mode'];\n",
       "};\n",
       "\n",
       "mpl.figure.prototype.handle_history_buttons = function (fig, msg) {\n",
       "    for (var key in msg) {\n",
       "        if (!(key in fig.buttons)) {\n",
       "            continue;\n",
       "        }\n",
       "        fig.buttons[key].disabled = !msg[key];\n",
       "        fig.buttons[key].setAttribute('aria-disabled', !msg[key]);\n",
       "    }\n",
       "};\n",
       "\n",
       "mpl.figure.prototype.handle_navigate_mode = function (fig, msg) {\n",
       "    if (msg['mode'] === 'PAN') {\n",
       "        fig.buttons['Pan'].classList.add('active');\n",
       "        fig.buttons['Zoom'].classList.remove('active');\n",
       "    } else if (msg['mode'] === 'ZOOM') {\n",
       "        fig.buttons['Pan'].classList.remove('active');\n",
       "        fig.buttons['Zoom'].classList.add('active');\n",
       "    } else {\n",
       "        fig.buttons['Pan'].classList.remove('active');\n",
       "        fig.buttons['Zoom'].classList.remove('active');\n",
       "    }\n",
       "};\n",
       "\n",
       "mpl.figure.prototype.updated_canvas_event = function () {\n",
       "    // Called whenever the canvas gets updated.\n",
       "    this.send_message('ack', {});\n",
       "};\n",
       "\n",
       "// A function to construct a web socket function for onmessage handling.\n",
       "// Called in the figure constructor.\n",
       "mpl.figure.prototype._make_on_message_function = function (fig) {\n",
       "    return function socket_on_message(evt) {\n",
       "        if (evt.data instanceof Blob) {\n",
       "            var img = evt.data;\n",
       "            if (img.type !== 'image/png') {\n",
       "                /* FIXME: We get \"Resource interpreted as Image but\n",
       "                 * transferred with MIME type text/plain:\" errors on\n",
       "                 * Chrome.  But how to set the MIME type?  It doesn't seem\n",
       "                 * to be part of the websocket stream */\n",
       "                img.type = 'image/png';\n",
       "            }\n",
       "\n",
       "            /* Free the memory for the previous frames */\n",
       "            if (fig.imageObj.src) {\n",
       "                (window.URL || window.webkitURL).revokeObjectURL(\n",
       "                    fig.imageObj.src\n",
       "                );\n",
       "            }\n",
       "\n",
       "            fig.imageObj.src = (window.URL || window.webkitURL).createObjectURL(\n",
       "                img\n",
       "            );\n",
       "            fig.updated_canvas_event();\n",
       "            fig.waiting = false;\n",
       "            return;\n",
       "        } else if (\n",
       "            typeof evt.data === 'string' &&\n",
       "            evt.data.slice(0, 21) === 'data:image/png;base64'\n",
       "        ) {\n",
       "            fig.imageObj.src = evt.data;\n",
       "            fig.updated_canvas_event();\n",
       "            fig.waiting = false;\n",
       "            return;\n",
       "        }\n",
       "\n",
       "        var msg = JSON.parse(evt.data);\n",
       "        var msg_type = msg['type'];\n",
       "\n",
       "        // Call the  \"handle_{type}\" callback, which takes\n",
       "        // the figure and JSON message as its only arguments.\n",
       "        try {\n",
       "            var callback = fig['handle_' + msg_type];\n",
       "        } catch (e) {\n",
       "            console.log(\n",
       "                \"No handler for the '\" + msg_type + \"' message type: \",\n",
       "                msg\n",
       "            );\n",
       "            return;\n",
       "        }\n",
       "\n",
       "        if (callback) {\n",
       "            try {\n",
       "                // console.log(\"Handling '\" + msg_type + \"' message: \", msg);\n",
       "                callback(fig, msg);\n",
       "            } catch (e) {\n",
       "                console.log(\n",
       "                    \"Exception inside the 'handler_\" + msg_type + \"' callback:\",\n",
       "                    e,\n",
       "                    e.stack,\n",
       "                    msg\n",
       "                );\n",
       "            }\n",
       "        }\n",
       "    };\n",
       "};\n",
       "\n",
       "// from http://stackoverflow.com/questions/1114465/getting-mouse-location-in-canvas\n",
       "mpl.findpos = function (e) {\n",
       "    //this section is from http://www.quirksmode.org/js/events_properties.html\n",
       "    var targ;\n",
       "    if (!e) {\n",
       "        e = window.event;\n",
       "    }\n",
       "    if (e.target) {\n",
       "        targ = e.target;\n",
       "    } else if (e.srcElement) {\n",
       "        targ = e.srcElement;\n",
       "    }\n",
       "    if (targ.nodeType === 3) {\n",
       "        // defeat Safari bug\n",
       "        targ = targ.parentNode;\n",
       "    }\n",
       "\n",
       "    // pageX,Y are the mouse positions relative to the document\n",
       "    var boundingRect = targ.getBoundingClientRect();\n",
       "    var x = e.pageX - (boundingRect.left + document.body.scrollLeft);\n",
       "    var y = e.pageY - (boundingRect.top + document.body.scrollTop);\n",
       "\n",
       "    return { x: x, y: y };\n",
       "};\n",
       "\n",
       "/*\n",
       " * return a copy of an object with only non-object keys\n",
       " * we need this to avoid circular references\n",
       " * http://stackoverflow.com/a/24161582/3208463\n",
       " */\n",
       "function simpleKeys(original) {\n",
       "    return Object.keys(original).reduce(function (obj, key) {\n",
       "        if (typeof original[key] !== 'object') {\n",
       "            obj[key] = original[key];\n",
       "        }\n",
       "        return obj;\n",
       "    }, {});\n",
       "}\n",
       "\n",
       "mpl.figure.prototype.mouse_event = function (event, name) {\n",
       "    var canvas_pos = mpl.findpos(event);\n",
       "\n",
       "    if (name === 'button_press') {\n",
       "        this.canvas.focus();\n",
       "        this.canvas_div.focus();\n",
       "    }\n",
       "\n",
       "    var x = canvas_pos.x * this.ratio;\n",
       "    var y = canvas_pos.y * this.ratio;\n",
       "\n",
       "    this.send_message(name, {\n",
       "        x: x,\n",
       "        y: y,\n",
       "        button: event.button,\n",
       "        step: event.step,\n",
       "        guiEvent: simpleKeys(event),\n",
       "    });\n",
       "\n",
       "    /* This prevents the web browser from automatically changing to\n",
       "     * the text insertion cursor when the button is pressed.  We want\n",
       "     * to control all of the cursor setting manually through the\n",
       "     * 'cursor' event from matplotlib */\n",
       "    event.preventDefault();\n",
       "    return false;\n",
       "};\n",
       "\n",
       "mpl.figure.prototype._key_event_extra = function (_event, _name) {\n",
       "    // Handle any extra behaviour associated with a key event\n",
       "};\n",
       "\n",
       "mpl.figure.prototype.key_event = function (event, name) {\n",
       "    // Prevent repeat events\n",
       "    if (name === 'key_press') {\n",
       "        if (event.key === this._key) {\n",
       "            return;\n",
       "        } else {\n",
       "            this._key = event.key;\n",
       "        }\n",
       "    }\n",
       "    if (name === 'key_release') {\n",
       "        this._key = null;\n",
       "    }\n",
       "\n",
       "    var value = '';\n",
       "    if (event.ctrlKey && event.key !== 'Control') {\n",
       "        value += 'ctrl+';\n",
       "    }\n",
       "    else if (event.altKey && event.key !== 'Alt') {\n",
       "        value += 'alt+';\n",
       "    }\n",
       "    else if (event.shiftKey && event.key !== 'Shift') {\n",
       "        value += 'shift+';\n",
       "    }\n",
       "\n",
       "    value += 'k' + event.key;\n",
       "\n",
       "    this._key_event_extra(event, name);\n",
       "\n",
       "    this.send_message(name, { key: value, guiEvent: simpleKeys(event) });\n",
       "    return false;\n",
       "};\n",
       "\n",
       "mpl.figure.prototype.toolbar_button_onclick = function (name) {\n",
       "    if (name === 'download') {\n",
       "        this.handle_save(this, null);\n",
       "    } else {\n",
       "        this.send_message('toolbar_button', { name: name });\n",
       "    }\n",
       "};\n",
       "\n",
       "mpl.figure.prototype.toolbar_button_onmouseover = function (tooltip) {\n",
       "    this.message.textContent = tooltip;\n",
       "};\n",
       "\n",
       "///////////////// REMAINING CONTENT GENERATED BY embed_js.py /////////////////\n",
       "// prettier-ignore\n",
       "var _JSXTOOLS_RESIZE_OBSERVER=function(A){var t,i=new WeakMap,n=new WeakMap,a=new WeakMap,r=new WeakMap,o=new Set;function s(e){if(!(this instanceof s))throw new TypeError(\"Constructor requires 'new' operator\");i.set(this,e)}function h(){throw new TypeError(\"Function is not a constructor\")}function c(e,t,i,n){e=0 in arguments?Number(arguments[0]):0,t=1 in arguments?Number(arguments[1]):0,i=2 in arguments?Number(arguments[2]):0,n=3 in arguments?Number(arguments[3]):0,this.right=(this.x=this.left=e)+(this.width=i),this.bottom=(this.y=this.top=t)+(this.height=n),Object.freeze(this)}function d(){t=requestAnimationFrame(d);var s=new WeakMap,p=new Set;o.forEach((function(t){r.get(t).forEach((function(i){var r=t instanceof window.SVGElement,o=a.get(t),d=r?0:parseFloat(o.paddingTop),f=r?0:parseFloat(o.paddingRight),l=r?0:parseFloat(o.paddingBottom),u=r?0:parseFloat(o.paddingLeft),g=r?0:parseFloat(o.borderTopWidth),m=r?0:parseFloat(o.borderRightWidth),w=r?0:parseFloat(o.borderBottomWidth),b=u+f,F=d+l,v=(r?0:parseFloat(o.borderLeftWidth))+m,W=g+w,y=r?0:t.offsetHeight-W-t.clientHeight,E=r?0:t.offsetWidth-v-t.clientWidth,R=b+v,z=F+W,M=r?t.width:parseFloat(o.width)-R-E,O=r?t.height:parseFloat(o.height)-z-y;if(n.has(t)){var k=n.get(t);if(k[0]===M&&k[1]===O)return}n.set(t,[M,O]);var S=Object.create(h.prototype);S.target=t,S.contentRect=new c(u,d,M,O),s.has(i)||(s.set(i,[]),p.add(i)),s.get(i).push(S)}))})),p.forEach((function(e){i.get(e).call(e,s.get(e),e)}))}return s.prototype.observe=function(i){if(i instanceof window.Element){r.has(i)||(r.set(i,new Set),o.add(i),a.set(i,window.getComputedStyle(i)));var n=r.get(i);n.has(this)||n.add(this),cancelAnimationFrame(t),t=requestAnimationFrame(d)}},s.prototype.unobserve=function(i){if(i instanceof window.Element&&r.has(i)){var n=r.get(i);n.has(this)&&(n.delete(this),n.size||(r.delete(i),o.delete(i))),n.size||r.delete(i),o.size||cancelAnimationFrame(t)}},A.DOMRectReadOnly=c,A.ResizeObserver=s,A.ResizeObserverEntry=h,A}; // eslint-disable-line\n",
       "mpl.toolbar_items = [[\"Home\", \"Reset original view\", \"fa fa-home icon-home\", \"home\"], [\"Back\", \"Back to previous view\", \"fa fa-arrow-left icon-arrow-left\", \"back\"], [\"Forward\", \"Forward to next view\", \"fa fa-arrow-right icon-arrow-right\", \"forward\"], [\"\", \"\", \"\", \"\"], [\"Pan\", \"Left button pans, Right button zooms\\nx/y fixes axis, CTRL fixes aspect\", \"fa fa-arrows icon-move\", \"pan\"], [\"Zoom\", \"Zoom to rectangle\\nx/y fixes axis, CTRL fixes aspect\", \"fa fa-square-o icon-check-empty\", \"zoom\"], [\"\", \"\", \"\", \"\"], [\"Download\", \"Download plot\", \"fa fa-floppy-o icon-save\", \"download\"]];\n",
       "\n",
       "mpl.extensions = [\"eps\", \"jpeg\", \"pgf\", \"pdf\", \"png\", \"ps\", \"raw\", \"svg\", \"tif\"];\n",
       "\n",
       "mpl.default_extension = \"png\";/* global mpl */\n",
       "\n",
       "var comm_websocket_adapter = function (comm) {\n",
       "    // Create a \"websocket\"-like object which calls the given IPython comm\n",
       "    // object with the appropriate methods. Currently this is a non binary\n",
       "    // socket, so there is still some room for performance tuning.\n",
       "    var ws = {};\n",
       "\n",
       "    ws.binaryType = comm.kernel.ws.binaryType;\n",
       "    ws.readyState = comm.kernel.ws.readyState;\n",
       "    function updateReadyState(_event) {\n",
       "        if (comm.kernel.ws) {\n",
       "            ws.readyState = comm.kernel.ws.readyState;\n",
       "        } else {\n",
       "            ws.readyState = 3; // Closed state.\n",
       "        }\n",
       "    }\n",
       "    comm.kernel.ws.addEventListener('open', updateReadyState);\n",
       "    comm.kernel.ws.addEventListener('close', updateReadyState);\n",
       "    comm.kernel.ws.addEventListener('error', updateReadyState);\n",
       "\n",
       "    ws.close = function () {\n",
       "        comm.close();\n",
       "    };\n",
       "    ws.send = function (m) {\n",
       "        //console.log('sending', m);\n",
       "        comm.send(m);\n",
       "    };\n",
       "    // Register the callback with on_msg.\n",
       "    comm.on_msg(function (msg) {\n",
       "        //console.log('receiving', msg['content']['data'], msg);\n",
       "        var data = msg['content']['data'];\n",
       "        if (data['blob'] !== undefined) {\n",
       "            data = {\n",
       "                data: new Blob(msg['buffers'], { type: data['blob'] }),\n",
       "            };\n",
       "        }\n",
       "        // Pass the mpl event to the overridden (by mpl) onmessage function.\n",
       "        ws.onmessage(data);\n",
       "    });\n",
       "    return ws;\n",
       "};\n",
       "\n",
       "mpl.mpl_figure_comm = function (comm, msg) {\n",
       "    // This is the function which gets called when the mpl process\n",
       "    // starts-up an IPython Comm through the \"matplotlib\" channel.\n",
       "\n",
       "    var id = msg.content.data.id;\n",
       "    // Get hold of the div created by the display call when the Comm\n",
       "    // socket was opened in Python.\n",
       "    var element = document.getElementById(id);\n",
       "    var ws_proxy = comm_websocket_adapter(comm);\n",
       "\n",
       "    function ondownload(figure, _format) {\n",
       "        window.open(figure.canvas.toDataURL());\n",
       "    }\n",
       "\n",
       "    var fig = new mpl.figure(id, ws_proxy, ondownload, element);\n",
       "\n",
       "    // Call onopen now - mpl needs it, as it is assuming we've passed it a real\n",
       "    // web socket which is closed, not our websocket->open comm proxy.\n",
       "    ws_proxy.onopen();\n",
       "\n",
       "    fig.parent_element = element;\n",
       "    fig.cell_info = mpl.find_output_cell(\"<div id='\" + id + \"'></div>\");\n",
       "    if (!fig.cell_info) {\n",
       "        console.error('Failed to find cell for figure', id, fig);\n",
       "        return;\n",
       "    }\n",
       "    fig.cell_info[0].output_area.element.on(\n",
       "        'cleared',\n",
       "        { fig: fig },\n",
       "        fig._remove_fig_handler\n",
       "    );\n",
       "};\n",
       "\n",
       "mpl.figure.prototype.handle_close = function (fig, msg) {\n",
       "    var width = fig.canvas.width / fig.ratio;\n",
       "    fig.cell_info[0].output_area.element.off(\n",
       "        'cleared',\n",
       "        fig._remove_fig_handler\n",
       "    );\n",
       "    fig.resizeObserverInstance.unobserve(fig.canvas_div);\n",
       "\n",
       "    // Update the output cell to use the data from the current canvas.\n",
       "    fig.push_to_output();\n",
       "    var dataURL = fig.canvas.toDataURL();\n",
       "    // Re-enable the keyboard manager in IPython - without this line, in FF,\n",
       "    // the notebook keyboard shortcuts fail.\n",
       "    IPython.keyboard_manager.enable();\n",
       "    fig.parent_element.innerHTML =\n",
       "        '<img src=\"' + dataURL + '\" width=\"' + width + '\">';\n",
       "    fig.close_ws(fig, msg);\n",
       "};\n",
       "\n",
       "mpl.figure.prototype.close_ws = function (fig, msg) {\n",
       "    fig.send_message('closing', msg);\n",
       "    // fig.ws.close()\n",
       "};\n",
       "\n",
       "mpl.figure.prototype.push_to_output = function (_remove_interactive) {\n",
       "    // Turn the data on the canvas into data in the output cell.\n",
       "    var width = this.canvas.width / this.ratio;\n",
       "    var dataURL = this.canvas.toDataURL();\n",
       "    this.cell_info[1]['text/html'] =\n",
       "        '<img src=\"' + dataURL + '\" width=\"' + width + '\">';\n",
       "};\n",
       "\n",
       "mpl.figure.prototype.updated_canvas_event = function () {\n",
       "    // Tell IPython that the notebook contents must change.\n",
       "    IPython.notebook.set_dirty(true);\n",
       "    this.send_message('ack', {});\n",
       "    var fig = this;\n",
       "    // Wait a second, then push the new image to the DOM so\n",
       "    // that it is saved nicely (might be nice to debounce this).\n",
       "    setTimeout(function () {\n",
       "        fig.push_to_output();\n",
       "    }, 1000);\n",
       "};\n",
       "\n",
       "mpl.figure.prototype._init_toolbar = function () {\n",
       "    var fig = this;\n",
       "\n",
       "    var toolbar = document.createElement('div');\n",
       "    toolbar.classList = 'btn-toolbar';\n",
       "    this.root.appendChild(toolbar);\n",
       "\n",
       "    function on_click_closure(name) {\n",
       "        return function (_event) {\n",
       "            return fig.toolbar_button_onclick(name);\n",
       "        };\n",
       "    }\n",
       "\n",
       "    function on_mouseover_closure(tooltip) {\n",
       "        return function (event) {\n",
       "            if (!event.currentTarget.disabled) {\n",
       "                return fig.toolbar_button_onmouseover(tooltip);\n",
       "            }\n",
       "        };\n",
       "    }\n",
       "\n",
       "    fig.buttons = {};\n",
       "    var buttonGroup = document.createElement('div');\n",
       "    buttonGroup.classList = 'btn-group';\n",
       "    var button;\n",
       "    for (var toolbar_ind in mpl.toolbar_items) {\n",
       "        var name = mpl.toolbar_items[toolbar_ind][0];\n",
       "        var tooltip = mpl.toolbar_items[toolbar_ind][1];\n",
       "        var image = mpl.toolbar_items[toolbar_ind][2];\n",
       "        var method_name = mpl.toolbar_items[toolbar_ind][3];\n",
       "\n",
       "        if (!name) {\n",
       "            /* Instead of a spacer, we start a new button group. */\n",
       "            if (buttonGroup.hasChildNodes()) {\n",
       "                toolbar.appendChild(buttonGroup);\n",
       "            }\n",
       "            buttonGroup = document.createElement('div');\n",
       "            buttonGroup.classList = 'btn-group';\n",
       "            continue;\n",
       "        }\n",
       "\n",
       "        button = fig.buttons[name] = document.createElement('button');\n",
       "        button.classList = 'btn btn-default';\n",
       "        button.href = '#';\n",
       "        button.title = name;\n",
       "        button.innerHTML = '<i class=\"fa ' + image + ' fa-lg\"></i>';\n",
       "        button.addEventListener('click', on_click_closure(method_name));\n",
       "        button.addEventListener('mouseover', on_mouseover_closure(tooltip));\n",
       "        buttonGroup.appendChild(button);\n",
       "    }\n",
       "\n",
       "    if (buttonGroup.hasChildNodes()) {\n",
       "        toolbar.appendChild(buttonGroup);\n",
       "    }\n",
       "\n",
       "    // Add the status bar.\n",
       "    var status_bar = document.createElement('span');\n",
       "    status_bar.classList = 'mpl-message pull-right';\n",
       "    toolbar.appendChild(status_bar);\n",
       "    this.message = status_bar;\n",
       "\n",
       "    // Add the close button to the window.\n",
       "    var buttongrp = document.createElement('div');\n",
       "    buttongrp.classList = 'btn-group inline pull-right';\n",
       "    button = document.createElement('button');\n",
       "    button.classList = 'btn btn-mini btn-primary';\n",
       "    button.href = '#';\n",
       "    button.title = 'Stop Interaction';\n",
       "    button.innerHTML = '<i class=\"fa fa-power-off icon-remove icon-large\"></i>';\n",
       "    button.addEventListener('click', function (_evt) {\n",
       "        fig.handle_close(fig, {});\n",
       "    });\n",
       "    button.addEventListener(\n",
       "        'mouseover',\n",
       "        on_mouseover_closure('Stop Interaction')\n",
       "    );\n",
       "    buttongrp.appendChild(button);\n",
       "    var titlebar = this.root.querySelector('.ui-dialog-titlebar');\n",
       "    titlebar.insertBefore(buttongrp, titlebar.firstChild);\n",
       "};\n",
       "\n",
       "mpl.figure.prototype._remove_fig_handler = function (event) {\n",
       "    var fig = event.data.fig;\n",
       "    if (event.target !== this) {\n",
       "        // Ignore bubbled events from children.\n",
       "        return;\n",
       "    }\n",
       "    fig.close_ws(fig, {});\n",
       "};\n",
       "\n",
       "mpl.figure.prototype._root_extra_style = function (el) {\n",
       "    el.style.boxSizing = 'content-box'; // override notebook setting of border-box.\n",
       "};\n",
       "\n",
       "mpl.figure.prototype._canvas_extra_style = function (el) {\n",
       "    // this is important to make the div 'focusable\n",
       "    el.setAttribute('tabindex', 0);\n",
       "    // reach out to IPython and tell the keyboard manager to turn it's self\n",
       "    // off when our div gets focus\n",
       "\n",
       "    // location in version 3\n",
       "    if (IPython.notebook.keyboard_manager) {\n",
       "        IPython.notebook.keyboard_manager.register_events(el);\n",
       "    } else {\n",
       "        // location in version 2\n",
       "        IPython.keyboard_manager.register_events(el);\n",
       "    }\n",
       "};\n",
       "\n",
       "mpl.figure.prototype._key_event_extra = function (event, _name) {\n",
       "    var manager = IPython.notebook.keyboard_manager;\n",
       "    if (!manager) {\n",
       "        manager = IPython.keyboard_manager;\n",
       "    }\n",
       "\n",
       "    // Check for shift+enter\n",
       "    if (event.shiftKey && event.which === 13) {\n",
       "        this.canvas_div.blur();\n",
       "        // select the cell after this one\n",
       "        var index = IPython.notebook.find_cell_index(this.cell_info[0]);\n",
       "        IPython.notebook.select(index + 1);\n",
       "    }\n",
       "};\n",
       "\n",
       "mpl.figure.prototype.handle_save = function (fig, _msg) {\n",
       "    fig.ondownload(fig, null);\n",
       "};\n",
       "\n",
       "mpl.find_output_cell = function (html_output) {\n",
       "    // Return the cell and output element which can be found *uniquely* in the notebook.\n",
       "    // Note - this is a bit hacky, but it is done because the \"notebook_saving.Notebook\"\n",
       "    // IPython event is triggered only after the cells have been serialised, which for\n",
       "    // our purposes (turning an active figure into a static one), is too late.\n",
       "    var cells = IPython.notebook.get_cells();\n",
       "    var ncells = cells.length;\n",
       "    for (var i = 0; i < ncells; i++) {\n",
       "        var cell = cells[i];\n",
       "        if (cell.cell_type === 'code') {\n",
       "            for (var j = 0; j < cell.output_area.outputs.length; j++) {\n",
       "                var data = cell.output_area.outputs[j];\n",
       "                if (data.data) {\n",
       "                    // IPython >= 3 moved mimebundle to data attribute of output\n",
       "                    data = data.data;\n",
       "                }\n",
       "                if (data['text/html'] === html_output) {\n",
       "                    return [cell, data, j];\n",
       "                }\n",
       "            }\n",
       "        }\n",
       "    }\n",
       "};\n",
       "\n",
       "// Register the function which deals with the matplotlib target/channel.\n",
       "// The kernel may be null if the page has been refreshed.\n",
       "if (IPython.notebook.kernel !== null) {\n",
       "    IPython.notebook.kernel.comm_manager.register_target(\n",
       "        'matplotlib',\n",
       "        mpl.mpl_figure_comm\n",
       "    );\n",
       "}\n"
      ],
      "text/plain": [
       "<IPython.core.display.Javascript object>"
      ]
     },
     "metadata": {},
     "output_type": "display_data"
    },
    {
     "data": {
      "text/html": [
       "<img src=\"data:image/png;base64,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\" width=\"640\">"
      ],
      "text/plain": [
       "<IPython.core.display.HTML object>"
      ]
     },
     "metadata": {},
     "output_type": "display_data"
    },
    {
     "ename": "FileNotFoundError",
     "evalue": "[Errno 2] No such file or directory: 'data/dynamic_lookahead_N-500_T-600_MC-200__2021-09-07 07:47:27.877860.mat'",
     "output_type": "error",
     "traceback": [
      "\u001b[0;31m---------------------------------------------------------------------------\u001b[0m",
      "\u001b[0;31mFileNotFoundError\u001b[0m                         Traceback (most recent call last)",
      "\u001b[0;32m~/.venv/mass/lib/python3.9/site-packages/scipy/io/matlab/mio.py\u001b[0m in \u001b[0;36m_open_file\u001b[0;34m(file_like, appendmat, mode)\u001b[0m\n\u001b[1;32m     38\u001b[0m     \u001b[0;32mtry\u001b[0m\u001b[0;34m:\u001b[0m\u001b[0;34m\u001b[0m\u001b[0;34m\u001b[0m\u001b[0m\n\u001b[0;32m---> 39\u001b[0;31m         \u001b[0;32mreturn\u001b[0m \u001b[0mopen\u001b[0m\u001b[0;34m(\u001b[0m\u001b[0mfile_like\u001b[0m\u001b[0;34m,\u001b[0m \u001b[0mmode\u001b[0m\u001b[0;34m)\u001b[0m\u001b[0;34m,\u001b[0m \u001b[0;32mTrue\u001b[0m\u001b[0;34m\u001b[0m\u001b[0;34m\u001b[0m\u001b[0m\n\u001b[0m\u001b[1;32m     40\u001b[0m     \u001b[0;32mexcept\u001b[0m \u001b[0mIOError\u001b[0m \u001b[0;32mas\u001b[0m \u001b[0me\u001b[0m\u001b[0;34m:\u001b[0m\u001b[0;34m\u001b[0m\u001b[0;34m\u001b[0m\u001b[0m\n",
      "\u001b[0;31mFileNotFoundError\u001b[0m: [Errno 2] No such file or directory: 'data/dynamic_lookahead_N-500_T-600_MC-200__2021-09-07 07:47:27.877860.mat'",
      "\nDuring handling of the above exception, another exception occurred:\n",
      "\u001b[0;31mFileNotFoundError\u001b[0m                         Traceback (most recent call last)",
      "\u001b[0;32m/tmp/ipykernel_12273/3481836556.py\u001b[0m in \u001b[0;36m<module>\u001b[0;34m\u001b[0m\n\u001b[1;32m     30\u001b[0m \u001b[0max\u001b[0m\u001b[0;34m.\u001b[0m\u001b[0mplot\u001b[0m\u001b[0;34m(\u001b[0m\u001b[0mh\u001b[0m\u001b[0;34m)\u001b[0m\u001b[0;34m\u001b[0m\u001b[0;34m\u001b[0m\u001b[0m\n\u001b[1;32m     31\u001b[0m \u001b[0mf_name\u001b[0m \u001b[0;34m=\u001b[0m \u001b[0;34m'data/dynamic_lookahead_N-{}_T-{}_MC-{}__{}.mat'\u001b[0m\u001b[0;34m.\u001b[0m\u001b[0mformat\u001b[0m\u001b[0;34m(\u001b[0m\u001b[0mN\u001b[0m\u001b[0;34m,\u001b[0m \u001b[0mT_end\u001b[0m\u001b[0;34m,\u001b[0m \u001b[0mnum_runs\u001b[0m\u001b[0;34m,\u001b[0m \u001b[0mstr\u001b[0m\u001b[0;34m(\u001b[0m\u001b[0mdatetime\u001b[0m\u001b[0;34m.\u001b[0m\u001b[0mdatetime\u001b[0m\u001b[0;34m.\u001b[0m\u001b[0mnow\u001b[0m\u001b[0;34m(\u001b[0m\u001b[0;34m)\u001b[0m\u001b[0;34m)\u001b[0m\u001b[0;34m)\u001b[0m\u001b[0;34m\u001b[0m\u001b[0;34m\u001b[0m\u001b[0m\n\u001b[0;32m---> 32\u001b[0;31m \u001b[0msio\u001b[0m\u001b[0;34m.\u001b[0m\u001b[0msavemat\u001b[0m\u001b[0;34m(\u001b[0m\u001b[0mf_name\u001b[0m\u001b[0;34m,\u001b[0m \u001b[0;34m{\u001b[0m\u001b[0;34m'H'\u001b[0m\u001b[0;34m:\u001b[0m\u001b[0mH\u001b[0m\u001b[0;34m}\u001b[0m\u001b[0;34m)\u001b[0m\u001b[0;34m\u001b[0m\u001b[0;34m\u001b[0m\u001b[0m\n\u001b[0m",
      "\u001b[0;32m~/.venv/mass/lib/python3.9/site-packages/scipy/io/matlab/mio.py\u001b[0m in \u001b[0;36msavemat\u001b[0;34m(file_name, mdict, appendmat, format, long_field_names, do_compression, oned_as)\u001b[0m\n\u001b[1;32m    283\u001b[0m     \u001b[0;34m>>\u001b[0m\u001b[0;34m>\u001b[0m \u001b[0msavemat\u001b[0m\u001b[0;34m(\u001b[0m\u001b[0;34m\"matlab_matrix.mat\"\u001b[0m\u001b[0;34m,\u001b[0m \u001b[0mmdic\u001b[0m\u001b[0;34m)\u001b[0m\u001b[0;34m\u001b[0m\u001b[0;34m\u001b[0m\u001b[0m\n\u001b[1;32m    284\u001b[0m     \"\"\"\n\u001b[0;32m--> 285\u001b[0;31m     \u001b[0;32mwith\u001b[0m \u001b[0m_open_file_context\u001b[0m\u001b[0;34m(\u001b[0m\u001b[0mfile_name\u001b[0m\u001b[0;34m,\u001b[0m \u001b[0mappendmat\u001b[0m\u001b[0;34m,\u001b[0m \u001b[0;34m'wb'\u001b[0m\u001b[0;34m)\u001b[0m \u001b[0;32mas\u001b[0m \u001b[0mfile_stream\u001b[0m\u001b[0;34m:\u001b[0m\u001b[0;34m\u001b[0m\u001b[0;34m\u001b[0m\u001b[0m\n\u001b[0m\u001b[1;32m    286\u001b[0m         \u001b[0;32mif\u001b[0m \u001b[0mformat\u001b[0m \u001b[0;34m==\u001b[0m \u001b[0;34m'4'\u001b[0m\u001b[0;34m:\u001b[0m\u001b[0;34m\u001b[0m\u001b[0;34m\u001b[0m\u001b[0m\n\u001b[1;32m    287\u001b[0m             \u001b[0;32mif\u001b[0m \u001b[0mlong_field_names\u001b[0m\u001b[0;34m:\u001b[0m\u001b[0;34m\u001b[0m\u001b[0;34m\u001b[0m\u001b[0m\n",
      "\u001b[0;32m/usr/lib/python3.9/contextlib.py\u001b[0m in \u001b[0;36m__enter__\u001b[0;34m(self)\u001b[0m\n\u001b[1;32m    115\u001b[0m         \u001b[0;32mdel\u001b[0m \u001b[0mself\u001b[0m\u001b[0;34m.\u001b[0m\u001b[0margs\u001b[0m\u001b[0;34m,\u001b[0m \u001b[0mself\u001b[0m\u001b[0;34m.\u001b[0m\u001b[0mkwds\u001b[0m\u001b[0;34m,\u001b[0m \u001b[0mself\u001b[0m\u001b[0;34m.\u001b[0m\u001b[0mfunc\u001b[0m\u001b[0;34m\u001b[0m\u001b[0;34m\u001b[0m\u001b[0m\n\u001b[1;32m    116\u001b[0m         \u001b[0;32mtry\u001b[0m\u001b[0;34m:\u001b[0m\u001b[0;34m\u001b[0m\u001b[0;34m\u001b[0m\u001b[0m\n\u001b[0;32m--> 117\u001b[0;31m             \u001b[0;32mreturn\u001b[0m \u001b[0mnext\u001b[0m\u001b[0;34m(\u001b[0m\u001b[0mself\u001b[0m\u001b[0;34m.\u001b[0m\u001b[0mgen\u001b[0m\u001b[0;34m)\u001b[0m\u001b[0;34m\u001b[0m\u001b[0;34m\u001b[0m\u001b[0m\n\u001b[0m\u001b[1;32m    118\u001b[0m         \u001b[0;32mexcept\u001b[0m \u001b[0mStopIteration\u001b[0m\u001b[0;34m:\u001b[0m\u001b[0;34m\u001b[0m\u001b[0;34m\u001b[0m\u001b[0m\n\u001b[1;32m    119\u001b[0m             \u001b[0;32mraise\u001b[0m \u001b[0mRuntimeError\u001b[0m\u001b[0;34m(\u001b[0m\u001b[0;34m\"generator didn't yield\"\u001b[0m\u001b[0;34m)\u001b[0m \u001b[0;32mfrom\u001b[0m \u001b[0;32mNone\u001b[0m\u001b[0;34m\u001b[0m\u001b[0;34m\u001b[0m\u001b[0m\n",
      "\u001b[0;32m~/.venv/mass/lib/python3.9/site-packages/scipy/io/matlab/mio.py\u001b[0m in \u001b[0;36m_open_file_context\u001b[0;34m(file_like, appendmat, mode)\u001b[0m\n\u001b[1;32m     15\u001b[0m \u001b[0;34m@\u001b[0m\u001b[0mcontextmanager\u001b[0m\u001b[0;34m\u001b[0m\u001b[0;34m\u001b[0m\u001b[0m\n\u001b[1;32m     16\u001b[0m \u001b[0;32mdef\u001b[0m \u001b[0m_open_file_context\u001b[0m\u001b[0;34m(\u001b[0m\u001b[0mfile_like\u001b[0m\u001b[0;34m,\u001b[0m \u001b[0mappendmat\u001b[0m\u001b[0;34m,\u001b[0m \u001b[0mmode\u001b[0m\u001b[0;34m=\u001b[0m\u001b[0;34m'rb'\u001b[0m\u001b[0;34m)\u001b[0m\u001b[0;34m:\u001b[0m\u001b[0;34m\u001b[0m\u001b[0;34m\u001b[0m\u001b[0m\n\u001b[0;32m---> 17\u001b[0;31m     \u001b[0mf\u001b[0m\u001b[0;34m,\u001b[0m \u001b[0mopened\u001b[0m \u001b[0;34m=\u001b[0m \u001b[0m_open_file\u001b[0m\u001b[0;34m(\u001b[0m\u001b[0mfile_like\u001b[0m\u001b[0;34m,\u001b[0m \u001b[0mappendmat\u001b[0m\u001b[0;34m,\u001b[0m \u001b[0mmode\u001b[0m\u001b[0;34m)\u001b[0m\u001b[0;34m\u001b[0m\u001b[0;34m\u001b[0m\u001b[0m\n\u001b[0m\u001b[1;32m     18\u001b[0m     \u001b[0;32mtry\u001b[0m\u001b[0;34m:\u001b[0m\u001b[0;34m\u001b[0m\u001b[0;34m\u001b[0m\u001b[0m\n\u001b[1;32m     19\u001b[0m         \u001b[0;32myield\u001b[0m \u001b[0mf\u001b[0m\u001b[0;34m\u001b[0m\u001b[0;34m\u001b[0m\u001b[0m\n",
      "\u001b[0;32m~/.venv/mass/lib/python3.9/site-packages/scipy/io/matlab/mio.py\u001b[0m in \u001b[0;36m_open_file\u001b[0;34m(file_like, appendmat, mode)\u001b[0m\n\u001b[1;32m     43\u001b[0m             \u001b[0;32mif\u001b[0m \u001b[0mappendmat\u001b[0m \u001b[0;32mand\u001b[0m \u001b[0;32mnot\u001b[0m \u001b[0mfile_like\u001b[0m\u001b[0;34m.\u001b[0m\u001b[0mendswith\u001b[0m\u001b[0;34m(\u001b[0m\u001b[0;34m'.mat'\u001b[0m\u001b[0;34m)\u001b[0m\u001b[0;34m:\u001b[0m\u001b[0;34m\u001b[0m\u001b[0;34m\u001b[0m\u001b[0m\n\u001b[1;32m     44\u001b[0m                 \u001b[0mfile_like\u001b[0m \u001b[0;34m+=\u001b[0m \u001b[0;34m'.mat'\u001b[0m\u001b[0;34m\u001b[0m\u001b[0;34m\u001b[0m\u001b[0m\n\u001b[0;32m---> 45\u001b[0;31m             \u001b[0;32mreturn\u001b[0m \u001b[0mopen\u001b[0m\u001b[0;34m(\u001b[0m\u001b[0mfile_like\u001b[0m\u001b[0;34m,\u001b[0m \u001b[0mmode\u001b[0m\u001b[0;34m)\u001b[0m\u001b[0;34m,\u001b[0m \u001b[0;32mTrue\u001b[0m\u001b[0;34m\u001b[0m\u001b[0;34m\u001b[0m\u001b[0m\n\u001b[0m\u001b[1;32m     46\u001b[0m         \u001b[0;32melse\u001b[0m\u001b[0;34m:\u001b[0m\u001b[0;34m\u001b[0m\u001b[0;34m\u001b[0m\u001b[0m\n\u001b[1;32m     47\u001b[0m             raise IOError(\n",
      "\u001b[0;31mFileNotFoundError\u001b[0m: [Errno 2] No such file or directory: 'data/dynamic_lookahead_N-500_T-600_MC-200__2021-09-07 07:47:27.877860.mat'"
     ]
    }
   ],
   "source": [
    "N = 500\n",
    "dt = 0.1\n",
    "T_end = 600\n",
    "num_runs = 200\n",
    "\n",
    "P_fa = 0.02\n",
    "P_miss = 0.05\n",
    "pf_args = {'roadmap':r, 'num_particles':N, 'dt':dt, 'v0':10, 'sigma':4, 'P_fa':P_fa, 'P_miss':P_miss}\n",
    "R = 5*np.eye(2)\n",
    "H = []\n",
    "\n",
    "for i in tqdm(range(num_runs)):\n",
    "    try:\n",
    "        rbpf = RB_PF(r, 10, 2, pf_args)\n",
    "\n",
    "        target1 = Particle(r, v0=10, dt=dt, sigma=2)\n",
    "        target2 = Particle(r, v0=10, dt=dt, sigma=2)\n",
    "        targets = [target1, target2]\n",
    "\n",
    "        agent = AgentDynamicLookaheadWithEdgeSeparationVectorized((100, 60), 100, 50, 40, 30, r, dt=dt)\n",
    "#         agent = AgentRandom((100, 60), 100, 50, 40, 30, r, dt=dt)\n",
    "\n",
    "        H += [sim_without_plotting(rbpf, targets, agent, R, dt, T_end)]\n",
    "#         H += [sim(rbpf, targets, agent, R, dt, T_end)]\n",
    "    except:\n",
    "        pass\n",
    "\n",
    "h = np.mean(H, axis=0)\n",
    "fig, ax = plt.subplots()\n",
    "ax.plot(h)\n",
    "f_name = 'data/dynamic_lookahead_N-{}_T-{}_MC-{}__{}.mat'.format(N, T_end, num_runs, str(datetime.datetime.now()))\n",
    "sio.savemat(f_name, {'H':H})"
   ]
  },
  {
   "cell_type": "code",
   "execution_count": 26,
   "metadata": {
    "scrolled": true
   },
   "outputs": [
    {
     "ename": "FileNotFoundError",
     "evalue": "[Errno 2] No such file or directory: 'data/dynamic_lookahead_N-500_T-600_MC-200__2021-09-06 23:26:41.179264.mat'",
     "output_type": "error",
     "traceback": [
      "\u001b[0;31m---------------------------------------------------------------------------\u001b[0m",
      "\u001b[0;31mFileNotFoundError\u001b[0m                         Traceback (most recent call last)",
      "\u001b[0;32m~/.venv/mass/lib/python3.9/site-packages/scipy/io/matlab/mio.py\u001b[0m in \u001b[0;36m_open_file\u001b[0;34m(file_like, appendmat, mode)\u001b[0m\n\u001b[1;32m     38\u001b[0m     \u001b[0;32mtry\u001b[0m\u001b[0;34m:\u001b[0m\u001b[0;34m\u001b[0m\u001b[0;34m\u001b[0m\u001b[0m\n\u001b[0;32m---> 39\u001b[0;31m         \u001b[0;32mreturn\u001b[0m \u001b[0mopen\u001b[0m\u001b[0;34m(\u001b[0m\u001b[0mfile_like\u001b[0m\u001b[0;34m,\u001b[0m \u001b[0mmode\u001b[0m\u001b[0;34m)\u001b[0m\u001b[0;34m,\u001b[0m \u001b[0;32mTrue\u001b[0m\u001b[0;34m\u001b[0m\u001b[0;34m\u001b[0m\u001b[0m\n\u001b[0m\u001b[1;32m     40\u001b[0m     \u001b[0;32mexcept\u001b[0m \u001b[0mIOError\u001b[0m \u001b[0;32mas\u001b[0m \u001b[0me\u001b[0m\u001b[0;34m:\u001b[0m\u001b[0;34m\u001b[0m\u001b[0;34m\u001b[0m\u001b[0m\n",
      "\u001b[0;31mFileNotFoundError\u001b[0m: [Errno 2] No such file or directory: 'data/dynamic_lookahead_N-500_T-600_MC-200__2021-09-06 23:26:41.179264.mat'",
      "\nDuring handling of the above exception, another exception occurred:\n",
      "\u001b[0;31mFileNotFoundError\u001b[0m                         Traceback (most recent call last)",
      "\u001b[0;32m/tmp/ipykernel_12273/3405710740.py\u001b[0m in \u001b[0;36m<module>\u001b[0;34m\u001b[0m\n\u001b[1;32m      1\u001b[0m \u001b[0;32mimport\u001b[0m \u001b[0mdatetime\u001b[0m\u001b[0;34m\u001b[0m\u001b[0;34m\u001b[0m\u001b[0m\n\u001b[1;32m      2\u001b[0m \u001b[0mf_name\u001b[0m \u001b[0;34m=\u001b[0m \u001b[0;34m'data/dynamic_lookahead_N-{}_T-{}_MC-{}__{}.mat'\u001b[0m\u001b[0;34m.\u001b[0m\u001b[0mformat\u001b[0m\u001b[0;34m(\u001b[0m\u001b[0mN\u001b[0m\u001b[0;34m,\u001b[0m \u001b[0mT_end\u001b[0m\u001b[0;34m,\u001b[0m \u001b[0mnum_runs\u001b[0m\u001b[0;34m,\u001b[0m \u001b[0mstr\u001b[0m\u001b[0;34m(\u001b[0m\u001b[0mdatetime\u001b[0m\u001b[0;34m.\u001b[0m\u001b[0mdatetime\u001b[0m\u001b[0;34m.\u001b[0m\u001b[0mnow\u001b[0m\u001b[0;34m(\u001b[0m\u001b[0;34m)\u001b[0m\u001b[0;34m)\u001b[0m\u001b[0;34m)\u001b[0m\u001b[0;34m\u001b[0m\u001b[0;34m\u001b[0m\u001b[0m\n\u001b[0;32m----> 3\u001b[0;31m \u001b[0msio\u001b[0m\u001b[0;34m.\u001b[0m\u001b[0msavemat\u001b[0m\u001b[0;34m(\u001b[0m\u001b[0mf_name\u001b[0m\u001b[0;34m,\u001b[0m \u001b[0;34m{\u001b[0m\u001b[0;34m'H'\u001b[0m\u001b[0;34m:\u001b[0m\u001b[0mH\u001b[0m\u001b[0;34m}\u001b[0m\u001b[0;34m)\u001b[0m\u001b[0;34m\u001b[0m\u001b[0;34m\u001b[0m\u001b[0m\n\u001b[0m\u001b[1;32m      4\u001b[0m \u001b[0mh\u001b[0m \u001b[0;34m=\u001b[0m \u001b[0mnp\u001b[0m\u001b[0;34m.\u001b[0m\u001b[0mmean\u001b[0m\u001b[0;34m(\u001b[0m\u001b[0mH\u001b[0m\u001b[0;34m,\u001b[0m \u001b[0maxis\u001b[0m\u001b[0;34m=\u001b[0m\u001b[0;36m0\u001b[0m\u001b[0;34m)\u001b[0m\u001b[0;34m\u001b[0m\u001b[0;34m\u001b[0m\u001b[0m\n\u001b[1;32m      5\u001b[0m \u001b[0mfig\u001b[0m\u001b[0;34m,\u001b[0m \u001b[0max\u001b[0m \u001b[0;34m=\u001b[0m \u001b[0mplt\u001b[0m\u001b[0;34m.\u001b[0m\u001b[0msubplots\u001b[0m\u001b[0;34m(\u001b[0m\u001b[0;34m)\u001b[0m\u001b[0;34m\u001b[0m\u001b[0;34m\u001b[0m\u001b[0m\n",
      "\u001b[0;32m~/.venv/mass/lib/python3.9/site-packages/scipy/io/matlab/mio.py\u001b[0m in \u001b[0;36msavemat\u001b[0;34m(file_name, mdict, appendmat, format, long_field_names, do_compression, oned_as)\u001b[0m\n\u001b[1;32m    283\u001b[0m     \u001b[0;34m>>\u001b[0m\u001b[0;34m>\u001b[0m \u001b[0msavemat\u001b[0m\u001b[0;34m(\u001b[0m\u001b[0;34m\"matlab_matrix.mat\"\u001b[0m\u001b[0;34m,\u001b[0m \u001b[0mmdic\u001b[0m\u001b[0;34m)\u001b[0m\u001b[0;34m\u001b[0m\u001b[0;34m\u001b[0m\u001b[0m\n\u001b[1;32m    284\u001b[0m     \"\"\"\n\u001b[0;32m--> 285\u001b[0;31m     \u001b[0;32mwith\u001b[0m \u001b[0m_open_file_context\u001b[0m\u001b[0;34m(\u001b[0m\u001b[0mfile_name\u001b[0m\u001b[0;34m,\u001b[0m \u001b[0mappendmat\u001b[0m\u001b[0;34m,\u001b[0m \u001b[0;34m'wb'\u001b[0m\u001b[0;34m)\u001b[0m \u001b[0;32mas\u001b[0m \u001b[0mfile_stream\u001b[0m\u001b[0;34m:\u001b[0m\u001b[0;34m\u001b[0m\u001b[0;34m\u001b[0m\u001b[0m\n\u001b[0m\u001b[1;32m    286\u001b[0m         \u001b[0;32mif\u001b[0m \u001b[0mformat\u001b[0m \u001b[0;34m==\u001b[0m \u001b[0;34m'4'\u001b[0m\u001b[0;34m:\u001b[0m\u001b[0;34m\u001b[0m\u001b[0;34m\u001b[0m\u001b[0m\n\u001b[1;32m    287\u001b[0m             \u001b[0;32mif\u001b[0m \u001b[0mlong_field_names\u001b[0m\u001b[0;34m:\u001b[0m\u001b[0;34m\u001b[0m\u001b[0;34m\u001b[0m\u001b[0m\n",
      "\u001b[0;32m/usr/lib/python3.9/contextlib.py\u001b[0m in \u001b[0;36m__enter__\u001b[0;34m(self)\u001b[0m\n\u001b[1;32m    115\u001b[0m         \u001b[0;32mdel\u001b[0m \u001b[0mself\u001b[0m\u001b[0;34m.\u001b[0m\u001b[0margs\u001b[0m\u001b[0;34m,\u001b[0m \u001b[0mself\u001b[0m\u001b[0;34m.\u001b[0m\u001b[0mkwds\u001b[0m\u001b[0;34m,\u001b[0m \u001b[0mself\u001b[0m\u001b[0;34m.\u001b[0m\u001b[0mfunc\u001b[0m\u001b[0;34m\u001b[0m\u001b[0;34m\u001b[0m\u001b[0m\n\u001b[1;32m    116\u001b[0m         \u001b[0;32mtry\u001b[0m\u001b[0;34m:\u001b[0m\u001b[0;34m\u001b[0m\u001b[0;34m\u001b[0m\u001b[0m\n\u001b[0;32m--> 117\u001b[0;31m             \u001b[0;32mreturn\u001b[0m \u001b[0mnext\u001b[0m\u001b[0;34m(\u001b[0m\u001b[0mself\u001b[0m\u001b[0;34m.\u001b[0m\u001b[0mgen\u001b[0m\u001b[0;34m)\u001b[0m\u001b[0;34m\u001b[0m\u001b[0;34m\u001b[0m\u001b[0m\n\u001b[0m\u001b[1;32m    118\u001b[0m         \u001b[0;32mexcept\u001b[0m \u001b[0mStopIteration\u001b[0m\u001b[0;34m:\u001b[0m\u001b[0;34m\u001b[0m\u001b[0;34m\u001b[0m\u001b[0m\n\u001b[1;32m    119\u001b[0m             \u001b[0;32mraise\u001b[0m \u001b[0mRuntimeError\u001b[0m\u001b[0;34m(\u001b[0m\u001b[0;34m\"generator didn't yield\"\u001b[0m\u001b[0;34m)\u001b[0m \u001b[0;32mfrom\u001b[0m \u001b[0;32mNone\u001b[0m\u001b[0;34m\u001b[0m\u001b[0;34m\u001b[0m\u001b[0m\n",
      "\u001b[0;32m~/.venv/mass/lib/python3.9/site-packages/scipy/io/matlab/mio.py\u001b[0m in \u001b[0;36m_open_file_context\u001b[0;34m(file_like, appendmat, mode)\u001b[0m\n\u001b[1;32m     15\u001b[0m \u001b[0;34m@\u001b[0m\u001b[0mcontextmanager\u001b[0m\u001b[0;34m\u001b[0m\u001b[0;34m\u001b[0m\u001b[0m\n\u001b[1;32m     16\u001b[0m \u001b[0;32mdef\u001b[0m \u001b[0m_open_file_context\u001b[0m\u001b[0;34m(\u001b[0m\u001b[0mfile_like\u001b[0m\u001b[0;34m,\u001b[0m \u001b[0mappendmat\u001b[0m\u001b[0;34m,\u001b[0m \u001b[0mmode\u001b[0m\u001b[0;34m=\u001b[0m\u001b[0;34m'rb'\u001b[0m\u001b[0;34m)\u001b[0m\u001b[0;34m:\u001b[0m\u001b[0;34m\u001b[0m\u001b[0;34m\u001b[0m\u001b[0m\n\u001b[0;32m---> 17\u001b[0;31m     \u001b[0mf\u001b[0m\u001b[0;34m,\u001b[0m \u001b[0mopened\u001b[0m \u001b[0;34m=\u001b[0m \u001b[0m_open_file\u001b[0m\u001b[0;34m(\u001b[0m\u001b[0mfile_like\u001b[0m\u001b[0;34m,\u001b[0m \u001b[0mappendmat\u001b[0m\u001b[0;34m,\u001b[0m \u001b[0mmode\u001b[0m\u001b[0;34m)\u001b[0m\u001b[0;34m\u001b[0m\u001b[0;34m\u001b[0m\u001b[0m\n\u001b[0m\u001b[1;32m     18\u001b[0m     \u001b[0;32mtry\u001b[0m\u001b[0;34m:\u001b[0m\u001b[0;34m\u001b[0m\u001b[0;34m\u001b[0m\u001b[0m\n\u001b[1;32m     19\u001b[0m         \u001b[0;32myield\u001b[0m \u001b[0mf\u001b[0m\u001b[0;34m\u001b[0m\u001b[0;34m\u001b[0m\u001b[0m\n",
      "\u001b[0;32m~/.venv/mass/lib/python3.9/site-packages/scipy/io/matlab/mio.py\u001b[0m in \u001b[0;36m_open_file\u001b[0;34m(file_like, appendmat, mode)\u001b[0m\n\u001b[1;32m     43\u001b[0m             \u001b[0;32mif\u001b[0m \u001b[0mappendmat\u001b[0m \u001b[0;32mand\u001b[0m \u001b[0;32mnot\u001b[0m \u001b[0mfile_like\u001b[0m\u001b[0;34m.\u001b[0m\u001b[0mendswith\u001b[0m\u001b[0;34m(\u001b[0m\u001b[0;34m'.mat'\u001b[0m\u001b[0;34m)\u001b[0m\u001b[0;34m:\u001b[0m\u001b[0;34m\u001b[0m\u001b[0;34m\u001b[0m\u001b[0m\n\u001b[1;32m     44\u001b[0m                 \u001b[0mfile_like\u001b[0m \u001b[0;34m+=\u001b[0m \u001b[0;34m'.mat'\u001b[0m\u001b[0;34m\u001b[0m\u001b[0;34m\u001b[0m\u001b[0m\n\u001b[0;32m---> 45\u001b[0;31m             \u001b[0;32mreturn\u001b[0m \u001b[0mopen\u001b[0m\u001b[0;34m(\u001b[0m\u001b[0mfile_like\u001b[0m\u001b[0;34m,\u001b[0m \u001b[0mmode\u001b[0m\u001b[0;34m)\u001b[0m\u001b[0;34m,\u001b[0m \u001b[0;32mTrue\u001b[0m\u001b[0;34m\u001b[0m\u001b[0;34m\u001b[0m\u001b[0m\n\u001b[0m\u001b[1;32m     46\u001b[0m         \u001b[0;32melse\u001b[0m\u001b[0;34m:\u001b[0m\u001b[0;34m\u001b[0m\u001b[0;34m\u001b[0m\u001b[0m\n\u001b[1;32m     47\u001b[0m             raise IOError(\n",
      "\u001b[0;31mFileNotFoundError\u001b[0m: [Errno 2] No such file or directory: 'data/dynamic_lookahead_N-500_T-600_MC-200__2021-09-06 23:26:41.179264.mat'"
     ]
    }
   ],
   "source": [
    "import datetime\n",
    "f_name = 'data/dynamic_lookahead_N-{}_T-{}_MC-{}__{}.mat'.format(N, T_end, num_runs, str(datetime.datetime.now()))\n",
    "sio.savemat(f_name, {'H':H})\n",
    "h = np.mean(H, axis=0)\n",
    "fig, ax = plt.subplots()\n",
    "ax.plot(h)"
   ]
  },
  {
   "cell_type": "code",
   "execution_count": 27,
   "metadata": {},
   "outputs": [],
   "source": [
    "import scipy.io as sio\n",
    "\n",
    "\n",
    "sio.savemat('Dynamic_Lookahead_L_N-500_T-600_MC-1.mat', {'H':H})"
   ]
  },
  {
   "cell_type": "code",
   "execution_count": 28,
   "metadata": {
    "scrolled": false
   },
   "outputs": [
    {
     "data": {
      "application/javascript": [
       "/* Put everything inside the global mpl namespace */\n",
       "/* global mpl */\n",
       "window.mpl = {};\n",
       "\n",
       "mpl.get_websocket_type = function () {\n",
       "    if (typeof WebSocket !== 'undefined') {\n",
       "        return WebSocket;\n",
       "    } else if (typeof MozWebSocket !== 'undefined') {\n",
       "        return MozWebSocket;\n",
       "    } else {\n",
       "        alert(\n",
       "            'Your browser does not have WebSocket support. ' +\n",
       "                'Please try Chrome, Safari or Firefox ≥ 6. ' +\n",
       "                'Firefox 4 and 5 are also supported but you ' +\n",
       "                'have to enable WebSockets in about:config.'\n",
       "        );\n",
       "    }\n",
       "};\n",
       "\n",
       "mpl.figure = function (figure_id, websocket, ondownload, parent_element) {\n",
       "    this.id = figure_id;\n",
       "\n",
       "    this.ws = websocket;\n",
       "\n",
       "    this.supports_binary = this.ws.binaryType !== undefined;\n",
       "\n",
       "    if (!this.supports_binary) {\n",
       "        var warnings = document.getElementById('mpl-warnings');\n",
       "        if (warnings) {\n",
       "            warnings.style.display = 'block';\n",
       "            warnings.textContent =\n",
       "                'This browser does not support binary websocket messages. ' +\n",
       "                'Performance may be slow.';\n",
       "        }\n",
       "    }\n",
       "\n",
       "    this.imageObj = new Image();\n",
       "\n",
       "    this.context = undefined;\n",
       "    this.message = undefined;\n",
       "    this.canvas = undefined;\n",
       "    this.rubberband_canvas = undefined;\n",
       "    this.rubberband_context = undefined;\n",
       "    this.format_dropdown = undefined;\n",
       "\n",
       "    this.image_mode = 'full';\n",
       "\n",
       "    this.root = document.createElement('div');\n",
       "    this.root.setAttribute('style', 'display: inline-block');\n",
       "    this._root_extra_style(this.root);\n",
       "\n",
       "    parent_element.appendChild(this.root);\n",
       "\n",
       "    this._init_header(this);\n",
       "    this._init_canvas(this);\n",
       "    this._init_toolbar(this);\n",
       "\n",
       "    var fig = this;\n",
       "\n",
       "    this.waiting = false;\n",
       "\n",
       "    this.ws.onopen = function () {\n",
       "        fig.send_message('supports_binary', { value: fig.supports_binary });\n",
       "        fig.send_message('send_image_mode', {});\n",
       "        if (fig.ratio !== 1) {\n",
       "            fig.send_message('set_dpi_ratio', { dpi_ratio: fig.ratio });\n",
       "        }\n",
       "        fig.send_message('refresh', {});\n",
       "    };\n",
       "\n",
       "    this.imageObj.onload = function () {\n",
       "        if (fig.image_mode === 'full') {\n",
       "            // Full images could contain transparency (where diff images\n",
       "            // almost always do), so we need to clear the canvas so that\n",
       "            // there is no ghosting.\n",
       "            fig.context.clearRect(0, 0, fig.canvas.width, fig.canvas.height);\n",
       "        }\n",
       "        fig.context.drawImage(fig.imageObj, 0, 0);\n",
       "    };\n",
       "\n",
       "    this.imageObj.onunload = function () {\n",
       "        fig.ws.close();\n",
       "    };\n",
       "\n",
       "    this.ws.onmessage = this._make_on_message_function(this);\n",
       "\n",
       "    this.ondownload = ondownload;\n",
       "};\n",
       "\n",
       "mpl.figure.prototype._init_header = function () {\n",
       "    var titlebar = document.createElement('div');\n",
       "    titlebar.classList =\n",
       "        'ui-dialog-titlebar ui-widget-header ui-corner-all ui-helper-clearfix';\n",
       "    var titletext = document.createElement('div');\n",
       "    titletext.classList = 'ui-dialog-title';\n",
       "    titletext.setAttribute(\n",
       "        'style',\n",
       "        'width: 100%; text-align: center; padding: 3px;'\n",
       "    );\n",
       "    titlebar.appendChild(titletext);\n",
       "    this.root.appendChild(titlebar);\n",
       "    this.header = titletext;\n",
       "};\n",
       "\n",
       "mpl.figure.prototype._canvas_extra_style = function (_canvas_div) {};\n",
       "\n",
       "mpl.figure.prototype._root_extra_style = function (_canvas_div) {};\n",
       "\n",
       "mpl.figure.prototype._init_canvas = function () {\n",
       "    var fig = this;\n",
       "\n",
       "    var canvas_div = (this.canvas_div = document.createElement('div'));\n",
       "    canvas_div.setAttribute(\n",
       "        'style',\n",
       "        'border: 1px solid #ddd;' +\n",
       "            'box-sizing: content-box;' +\n",
       "            'clear: both;' +\n",
       "            'min-height: 1px;' +\n",
       "            'min-width: 1px;' +\n",
       "            'outline: 0;' +\n",
       "            'overflow: hidden;' +\n",
       "            'position: relative;' +\n",
       "            'resize: both;'\n",
       "    );\n",
       "\n",
       "    function on_keyboard_event_closure(name) {\n",
       "        return function (event) {\n",
       "            return fig.key_event(event, name);\n",
       "        };\n",
       "    }\n",
       "\n",
       "    canvas_div.addEventListener(\n",
       "        'keydown',\n",
       "        on_keyboard_event_closure('key_press')\n",
       "    );\n",
       "    canvas_div.addEventListener(\n",
       "        'keyup',\n",
       "        on_keyboard_event_closure('key_release')\n",
       "    );\n",
       "\n",
       "    this._canvas_extra_style(canvas_div);\n",
       "    this.root.appendChild(canvas_div);\n",
       "\n",
       "    var canvas = (this.canvas = document.createElement('canvas'));\n",
       "    canvas.classList.add('mpl-canvas');\n",
       "    canvas.setAttribute('style', 'box-sizing: content-box;');\n",
       "\n",
       "    this.context = canvas.getContext('2d');\n",
       "\n",
       "    var backingStore =\n",
       "        this.context.backingStorePixelRatio ||\n",
       "        this.context.webkitBackingStorePixelRatio ||\n",
       "        this.context.mozBackingStorePixelRatio ||\n",
       "        this.context.msBackingStorePixelRatio ||\n",
       "        this.context.oBackingStorePixelRatio ||\n",
       "        this.context.backingStorePixelRatio ||\n",
       "        1;\n",
       "\n",
       "    this.ratio = (window.devicePixelRatio || 1) / backingStore;\n",
       "\n",
       "    var rubberband_canvas = (this.rubberband_canvas = document.createElement(\n",
       "        'canvas'\n",
       "    ));\n",
       "    rubberband_canvas.setAttribute(\n",
       "        'style',\n",
       "        'box-sizing: content-box; position: absolute; left: 0; top: 0; z-index: 1;'\n",
       "    );\n",
       "\n",
       "    // Apply a ponyfill if ResizeObserver is not implemented by browser.\n",
       "    if (this.ResizeObserver === undefined) {\n",
       "        if (window.ResizeObserver !== undefined) {\n",
       "            this.ResizeObserver = window.ResizeObserver;\n",
       "        } else {\n",
       "            var obs = _JSXTOOLS_RESIZE_OBSERVER({});\n",
       "            this.ResizeObserver = obs.ResizeObserver;\n",
       "        }\n",
       "    }\n",
       "\n",
       "    this.resizeObserverInstance = new this.ResizeObserver(function (entries) {\n",
       "        var nentries = entries.length;\n",
       "        for (var i = 0; i < nentries; i++) {\n",
       "            var entry = entries[i];\n",
       "            var width, height;\n",
       "            if (entry.contentBoxSize) {\n",
       "                if (entry.contentBoxSize instanceof Array) {\n",
       "                    // Chrome 84 implements new version of spec.\n",
       "                    width = entry.contentBoxSize[0].inlineSize;\n",
       "                    height = entry.contentBoxSize[0].blockSize;\n",
       "                } else {\n",
       "                    // Firefox implements old version of spec.\n",
       "                    width = entry.contentBoxSize.inlineSize;\n",
       "                    height = entry.contentBoxSize.blockSize;\n",
       "                }\n",
       "            } else {\n",
       "                // Chrome <84 implements even older version of spec.\n",
       "                width = entry.contentRect.width;\n",
       "                height = entry.contentRect.height;\n",
       "            }\n",
       "\n",
       "            // Keep the size of the canvas and rubber band canvas in sync with\n",
       "            // the canvas container.\n",
       "            if (entry.devicePixelContentBoxSize) {\n",
       "                // Chrome 84 implements new version of spec.\n",
       "                canvas.setAttribute(\n",
       "                    'width',\n",
       "                    entry.devicePixelContentBoxSize[0].inlineSize\n",
       "                );\n",
       "                canvas.setAttribute(\n",
       "                    'height',\n",
       "                    entry.devicePixelContentBoxSize[0].blockSize\n",
       "                );\n",
       "            } else {\n",
       "                canvas.setAttribute('width', width * fig.ratio);\n",
       "                canvas.setAttribute('height', height * fig.ratio);\n",
       "            }\n",
       "            canvas.setAttribute(\n",
       "                'style',\n",
       "                'width: ' + width + 'px; height: ' + height + 'px;'\n",
       "            );\n",
       "\n",
       "            rubberband_canvas.setAttribute('width', width);\n",
       "            rubberband_canvas.setAttribute('height', height);\n",
       "\n",
       "            // And update the size in Python. We ignore the initial 0/0 size\n",
       "            // that occurs as the element is placed into the DOM, which should\n",
       "            // otherwise not happen due to the minimum size styling.\n",
       "            if (fig.ws.readyState == 1 && width != 0 && height != 0) {\n",
       "                fig.request_resize(width, height);\n",
       "            }\n",
       "        }\n",
       "    });\n",
       "    this.resizeObserverInstance.observe(canvas_div);\n",
       "\n",
       "    function on_mouse_event_closure(name) {\n",
       "        return function (event) {\n",
       "            return fig.mouse_event(event, name);\n",
       "        };\n",
       "    }\n",
       "\n",
       "    rubberband_canvas.addEventListener(\n",
       "        'mousedown',\n",
       "        on_mouse_event_closure('button_press')\n",
       "    );\n",
       "    rubberband_canvas.addEventListener(\n",
       "        'mouseup',\n",
       "        on_mouse_event_closure('button_release')\n",
       "    );\n",
       "    rubberband_canvas.addEventListener(\n",
       "        'dblclick',\n",
       "        on_mouse_event_closure('dblclick')\n",
       "    );\n",
       "    // Throttle sequential mouse events to 1 every 20ms.\n",
       "    rubberband_canvas.addEventListener(\n",
       "        'mousemove',\n",
       "        on_mouse_event_closure('motion_notify')\n",
       "    );\n",
       "\n",
       "    rubberband_canvas.addEventListener(\n",
       "        'mouseenter',\n",
       "        on_mouse_event_closure('figure_enter')\n",
       "    );\n",
       "    rubberband_canvas.addEventListener(\n",
       "        'mouseleave',\n",
       "        on_mouse_event_closure('figure_leave')\n",
       "    );\n",
       "\n",
       "    canvas_div.addEventListener('wheel', function (event) {\n",
       "        if (event.deltaY < 0) {\n",
       "            event.step = 1;\n",
       "        } else {\n",
       "            event.step = -1;\n",
       "        }\n",
       "        on_mouse_event_closure('scroll')(event);\n",
       "    });\n",
       "\n",
       "    canvas_div.appendChild(canvas);\n",
       "    canvas_div.appendChild(rubberband_canvas);\n",
       "\n",
       "    this.rubberband_context = rubberband_canvas.getContext('2d');\n",
       "    this.rubberband_context.strokeStyle = '#000000';\n",
       "\n",
       "    this._resize_canvas = function (width, height, forward) {\n",
       "        if (forward) {\n",
       "            canvas_div.style.width = width + 'px';\n",
       "            canvas_div.style.height = height + 'px';\n",
       "        }\n",
       "    };\n",
       "\n",
       "    // Disable right mouse context menu.\n",
       "    this.rubberband_canvas.addEventListener('contextmenu', function (_e) {\n",
       "        event.preventDefault();\n",
       "        return false;\n",
       "    });\n",
       "\n",
       "    function set_focus() {\n",
       "        canvas.focus();\n",
       "        canvas_div.focus();\n",
       "    }\n",
       "\n",
       "    window.setTimeout(set_focus, 100);\n",
       "};\n",
       "\n",
       "mpl.figure.prototype._init_toolbar = function () {\n",
       "    var fig = this;\n",
       "\n",
       "    var toolbar = document.createElement('div');\n",
       "    toolbar.classList = 'mpl-toolbar';\n",
       "    this.root.appendChild(toolbar);\n",
       "\n",
       "    function on_click_closure(name) {\n",
       "        return function (_event) {\n",
       "            return fig.toolbar_button_onclick(name);\n",
       "        };\n",
       "    }\n",
       "\n",
       "    function on_mouseover_closure(tooltip) {\n",
       "        return function (event) {\n",
       "            if (!event.currentTarget.disabled) {\n",
       "                return fig.toolbar_button_onmouseover(tooltip);\n",
       "            }\n",
       "        };\n",
       "    }\n",
       "\n",
       "    fig.buttons = {};\n",
       "    var buttonGroup = document.createElement('div');\n",
       "    buttonGroup.classList = 'mpl-button-group';\n",
       "    for (var toolbar_ind in mpl.toolbar_items) {\n",
       "        var name = mpl.toolbar_items[toolbar_ind][0];\n",
       "        var tooltip = mpl.toolbar_items[toolbar_ind][1];\n",
       "        var image = mpl.toolbar_items[toolbar_ind][2];\n",
       "        var method_name = mpl.toolbar_items[toolbar_ind][3];\n",
       "\n",
       "        if (!name) {\n",
       "            /* Instead of a spacer, we start a new button group. */\n",
       "            if (buttonGroup.hasChildNodes()) {\n",
       "                toolbar.appendChild(buttonGroup);\n",
       "            }\n",
       "            buttonGroup = document.createElement('div');\n",
       "            buttonGroup.classList = 'mpl-button-group';\n",
       "            continue;\n",
       "        }\n",
       "\n",
       "        var button = (fig.buttons[name] = document.createElement('button'));\n",
       "        button.classList = 'mpl-widget';\n",
       "        button.setAttribute('role', 'button');\n",
       "        button.setAttribute('aria-disabled', 'false');\n",
       "        button.addEventListener('click', on_click_closure(method_name));\n",
       "        button.addEventListener('mouseover', on_mouseover_closure(tooltip));\n",
       "\n",
       "        var icon_img = document.createElement('img');\n",
       "        icon_img.src = '_images/' + image + '.png';\n",
       "        icon_img.srcset = '_images/' + image + '_large.png 2x';\n",
       "        icon_img.alt = tooltip;\n",
       "        button.appendChild(icon_img);\n",
       "\n",
       "        buttonGroup.appendChild(button);\n",
       "    }\n",
       "\n",
       "    if (buttonGroup.hasChildNodes()) {\n",
       "        toolbar.appendChild(buttonGroup);\n",
       "    }\n",
       "\n",
       "    var fmt_picker = document.createElement('select');\n",
       "    fmt_picker.classList = 'mpl-widget';\n",
       "    toolbar.appendChild(fmt_picker);\n",
       "    this.format_dropdown = fmt_picker;\n",
       "\n",
       "    for (var ind in mpl.extensions) {\n",
       "        var fmt = mpl.extensions[ind];\n",
       "        var option = document.createElement('option');\n",
       "        option.selected = fmt === mpl.default_extension;\n",
       "        option.innerHTML = fmt;\n",
       "        fmt_picker.appendChild(option);\n",
       "    }\n",
       "\n",
       "    var status_bar = document.createElement('span');\n",
       "    status_bar.classList = 'mpl-message';\n",
       "    toolbar.appendChild(status_bar);\n",
       "    this.message = status_bar;\n",
       "};\n",
       "\n",
       "mpl.figure.prototype.request_resize = function (x_pixels, y_pixels) {\n",
       "    // Request matplotlib to resize the figure. Matplotlib will then trigger a resize in the client,\n",
       "    // which will in turn request a refresh of the image.\n",
       "    this.send_message('resize', { width: x_pixels, height: y_pixels });\n",
       "};\n",
       "\n",
       "mpl.figure.prototype.send_message = function (type, properties) {\n",
       "    properties['type'] = type;\n",
       "    properties['figure_id'] = this.id;\n",
       "    this.ws.send(JSON.stringify(properties));\n",
       "};\n",
       "\n",
       "mpl.figure.prototype.send_draw_message = function () {\n",
       "    if (!this.waiting) {\n",
       "        this.waiting = true;\n",
       "        this.ws.send(JSON.stringify({ type: 'draw', figure_id: this.id }));\n",
       "    }\n",
       "};\n",
       "\n",
       "mpl.figure.prototype.handle_save = function (fig, _msg) {\n",
       "    var format_dropdown = fig.format_dropdown;\n",
       "    var format = format_dropdown.options[format_dropdown.selectedIndex].value;\n",
       "    fig.ondownload(fig, format);\n",
       "};\n",
       "\n",
       "mpl.figure.prototype.handle_resize = function (fig, msg) {\n",
       "    var size = msg['size'];\n",
       "    if (size[0] !== fig.canvas.width || size[1] !== fig.canvas.height) {\n",
       "        fig._resize_canvas(size[0], size[1], msg['forward']);\n",
       "        fig.send_message('refresh', {});\n",
       "    }\n",
       "};\n",
       "\n",
       "mpl.figure.prototype.handle_rubberband = function (fig, msg) {\n",
       "    var x0 = msg['x0'] / fig.ratio;\n",
       "    var y0 = (fig.canvas.height - msg['y0']) / fig.ratio;\n",
       "    var x1 = msg['x1'] / fig.ratio;\n",
       "    var y1 = (fig.canvas.height - msg['y1']) / fig.ratio;\n",
       "    x0 = Math.floor(x0) + 0.5;\n",
       "    y0 = Math.floor(y0) + 0.5;\n",
       "    x1 = Math.floor(x1) + 0.5;\n",
       "    y1 = Math.floor(y1) + 0.5;\n",
       "    var min_x = Math.min(x0, x1);\n",
       "    var min_y = Math.min(y0, y1);\n",
       "    var width = Math.abs(x1 - x0);\n",
       "    var height = Math.abs(y1 - y0);\n",
       "\n",
       "    fig.rubberband_context.clearRect(\n",
       "        0,\n",
       "        0,\n",
       "        fig.canvas.width / fig.ratio,\n",
       "        fig.canvas.height / fig.ratio\n",
       "    );\n",
       "\n",
       "    fig.rubberband_context.strokeRect(min_x, min_y, width, height);\n",
       "};\n",
       "\n",
       "mpl.figure.prototype.handle_figure_label = function (fig, msg) {\n",
       "    // Updates the figure title.\n",
       "    fig.header.textContent = msg['label'];\n",
       "};\n",
       "\n",
       "mpl.figure.prototype.handle_cursor = function (fig, msg) {\n",
       "    var cursor = msg['cursor'];\n",
       "    switch (cursor) {\n",
       "        case 0:\n",
       "            cursor = 'pointer';\n",
       "            break;\n",
       "        case 1:\n",
       "            cursor = 'default';\n",
       "            break;\n",
       "        case 2:\n",
       "            cursor = 'crosshair';\n",
       "            break;\n",
       "        case 3:\n",
       "            cursor = 'move';\n",
       "            break;\n",
       "    }\n",
       "    fig.rubberband_canvas.style.cursor = cursor;\n",
       "};\n",
       "\n",
       "mpl.figure.prototype.handle_message = function (fig, msg) {\n",
       "    fig.message.textContent = msg['message'];\n",
       "};\n",
       "\n",
       "mpl.figure.prototype.handle_draw = function (fig, _msg) {\n",
       "    // Request the server to send over a new figure.\n",
       "    fig.send_draw_message();\n",
       "};\n",
       "\n",
       "mpl.figure.prototype.handle_image_mode = function (fig, msg) {\n",
       "    fig.image_mode = msg['mode'];\n",
       "};\n",
       "\n",
       "mpl.figure.prototype.handle_history_buttons = function (fig, msg) {\n",
       "    for (var key in msg) {\n",
       "        if (!(key in fig.buttons)) {\n",
       "            continue;\n",
       "        }\n",
       "        fig.buttons[key].disabled = !msg[key];\n",
       "        fig.buttons[key].setAttribute('aria-disabled', !msg[key]);\n",
       "    }\n",
       "};\n",
       "\n",
       "mpl.figure.prototype.handle_navigate_mode = function (fig, msg) {\n",
       "    if (msg['mode'] === 'PAN') {\n",
       "        fig.buttons['Pan'].classList.add('active');\n",
       "        fig.buttons['Zoom'].classList.remove('active');\n",
       "    } else if (msg['mode'] === 'ZOOM') {\n",
       "        fig.buttons['Pan'].classList.remove('active');\n",
       "        fig.buttons['Zoom'].classList.add('active');\n",
       "    } else {\n",
       "        fig.buttons['Pan'].classList.remove('active');\n",
       "        fig.buttons['Zoom'].classList.remove('active');\n",
       "    }\n",
       "};\n",
       "\n",
       "mpl.figure.prototype.updated_canvas_event = function () {\n",
       "    // Called whenever the canvas gets updated.\n",
       "    this.send_message('ack', {});\n",
       "};\n",
       "\n",
       "// A function to construct a web socket function for onmessage handling.\n",
       "// Called in the figure constructor.\n",
       "mpl.figure.prototype._make_on_message_function = function (fig) {\n",
       "    return function socket_on_message(evt) {\n",
       "        if (evt.data instanceof Blob) {\n",
       "            var img = evt.data;\n",
       "            if (img.type !== 'image/png') {\n",
       "                /* FIXME: We get \"Resource interpreted as Image but\n",
       "                 * transferred with MIME type text/plain:\" errors on\n",
       "                 * Chrome.  But how to set the MIME type?  It doesn't seem\n",
       "                 * to be part of the websocket stream */\n",
       "                img.type = 'image/png';\n",
       "            }\n",
       "\n",
       "            /* Free the memory for the previous frames */\n",
       "            if (fig.imageObj.src) {\n",
       "                (window.URL || window.webkitURL).revokeObjectURL(\n",
       "                    fig.imageObj.src\n",
       "                );\n",
       "            }\n",
       "\n",
       "            fig.imageObj.src = (window.URL || window.webkitURL).createObjectURL(\n",
       "                img\n",
       "            );\n",
       "            fig.updated_canvas_event();\n",
       "            fig.waiting = false;\n",
       "            return;\n",
       "        } else if (\n",
       "            typeof evt.data === 'string' &&\n",
       "            evt.data.slice(0, 21) === 'data:image/png;base64'\n",
       "        ) {\n",
       "            fig.imageObj.src = evt.data;\n",
       "            fig.updated_canvas_event();\n",
       "            fig.waiting = false;\n",
       "            return;\n",
       "        }\n",
       "\n",
       "        var msg = JSON.parse(evt.data);\n",
       "        var msg_type = msg['type'];\n",
       "\n",
       "        // Call the  \"handle_{type}\" callback, which takes\n",
       "        // the figure and JSON message as its only arguments.\n",
       "        try {\n",
       "            var callback = fig['handle_' + msg_type];\n",
       "        } catch (e) {\n",
       "            console.log(\n",
       "                \"No handler for the '\" + msg_type + \"' message type: \",\n",
       "                msg\n",
       "            );\n",
       "            return;\n",
       "        }\n",
       "\n",
       "        if (callback) {\n",
       "            try {\n",
       "                // console.log(\"Handling '\" + msg_type + \"' message: \", msg);\n",
       "                callback(fig, msg);\n",
       "            } catch (e) {\n",
       "                console.log(\n",
       "                    \"Exception inside the 'handler_\" + msg_type + \"' callback:\",\n",
       "                    e,\n",
       "                    e.stack,\n",
       "                    msg\n",
       "                );\n",
       "            }\n",
       "        }\n",
       "    };\n",
       "};\n",
       "\n",
       "// from http://stackoverflow.com/questions/1114465/getting-mouse-location-in-canvas\n",
       "mpl.findpos = function (e) {\n",
       "    //this section is from http://www.quirksmode.org/js/events_properties.html\n",
       "    var targ;\n",
       "    if (!e) {\n",
       "        e = window.event;\n",
       "    }\n",
       "    if (e.target) {\n",
       "        targ = e.target;\n",
       "    } else if (e.srcElement) {\n",
       "        targ = e.srcElement;\n",
       "    }\n",
       "    if (targ.nodeType === 3) {\n",
       "        // defeat Safari bug\n",
       "        targ = targ.parentNode;\n",
       "    }\n",
       "\n",
       "    // pageX,Y are the mouse positions relative to the document\n",
       "    var boundingRect = targ.getBoundingClientRect();\n",
       "    var x = e.pageX - (boundingRect.left + document.body.scrollLeft);\n",
       "    var y = e.pageY - (boundingRect.top + document.body.scrollTop);\n",
       "\n",
       "    return { x: x, y: y };\n",
       "};\n",
       "\n",
       "/*\n",
       " * return a copy of an object with only non-object keys\n",
       " * we need this to avoid circular references\n",
       " * http://stackoverflow.com/a/24161582/3208463\n",
       " */\n",
       "function simpleKeys(original) {\n",
       "    return Object.keys(original).reduce(function (obj, key) {\n",
       "        if (typeof original[key] !== 'object') {\n",
       "            obj[key] = original[key];\n",
       "        }\n",
       "        return obj;\n",
       "    }, {});\n",
       "}\n",
       "\n",
       "mpl.figure.prototype.mouse_event = function (event, name) {\n",
       "    var canvas_pos = mpl.findpos(event);\n",
       "\n",
       "    if (name === 'button_press') {\n",
       "        this.canvas.focus();\n",
       "        this.canvas_div.focus();\n",
       "    }\n",
       "\n",
       "    var x = canvas_pos.x * this.ratio;\n",
       "    var y = canvas_pos.y * this.ratio;\n",
       "\n",
       "    this.send_message(name, {\n",
       "        x: x,\n",
       "        y: y,\n",
       "        button: event.button,\n",
       "        step: event.step,\n",
       "        guiEvent: simpleKeys(event),\n",
       "    });\n",
       "\n",
       "    /* This prevents the web browser from automatically changing to\n",
       "     * the text insertion cursor when the button is pressed.  We want\n",
       "     * to control all of the cursor setting manually through the\n",
       "     * 'cursor' event from matplotlib */\n",
       "    event.preventDefault();\n",
       "    return false;\n",
       "};\n",
       "\n",
       "mpl.figure.prototype._key_event_extra = function (_event, _name) {\n",
       "    // Handle any extra behaviour associated with a key event\n",
       "};\n",
       "\n",
       "mpl.figure.prototype.key_event = function (event, name) {\n",
       "    // Prevent repeat events\n",
       "    if (name === 'key_press') {\n",
       "        if (event.key === this._key) {\n",
       "            return;\n",
       "        } else {\n",
       "            this._key = event.key;\n",
       "        }\n",
       "    }\n",
       "    if (name === 'key_release') {\n",
       "        this._key = null;\n",
       "    }\n",
       "\n",
       "    var value = '';\n",
       "    if (event.ctrlKey && event.key !== 'Control') {\n",
       "        value += 'ctrl+';\n",
       "    }\n",
       "    else if (event.altKey && event.key !== 'Alt') {\n",
       "        value += 'alt+';\n",
       "    }\n",
       "    else if (event.shiftKey && event.key !== 'Shift') {\n",
       "        value += 'shift+';\n",
       "    }\n",
       "\n",
       "    value += 'k' + event.key;\n",
       "\n",
       "    this._key_event_extra(event, name);\n",
       "\n",
       "    this.send_message(name, { key: value, guiEvent: simpleKeys(event) });\n",
       "    return false;\n",
       "};\n",
       "\n",
       "mpl.figure.prototype.toolbar_button_onclick = function (name) {\n",
       "    if (name === 'download') {\n",
       "        this.handle_save(this, null);\n",
       "    } else {\n",
       "        this.send_message('toolbar_button', { name: name });\n",
       "    }\n",
       "};\n",
       "\n",
       "mpl.figure.prototype.toolbar_button_onmouseover = function (tooltip) {\n",
       "    this.message.textContent = tooltip;\n",
       "};\n",
       "\n",
       "///////////////// REMAINING CONTENT GENERATED BY embed_js.py /////////////////\n",
       "// prettier-ignore\n",
       "var _JSXTOOLS_RESIZE_OBSERVER=function(A){var t,i=new WeakMap,n=new WeakMap,a=new WeakMap,r=new WeakMap,o=new Set;function s(e){if(!(this instanceof s))throw new TypeError(\"Constructor requires 'new' operator\");i.set(this,e)}function h(){throw new TypeError(\"Function is not a constructor\")}function c(e,t,i,n){e=0 in arguments?Number(arguments[0]):0,t=1 in arguments?Number(arguments[1]):0,i=2 in arguments?Number(arguments[2]):0,n=3 in arguments?Number(arguments[3]):0,this.right=(this.x=this.left=e)+(this.width=i),this.bottom=(this.y=this.top=t)+(this.height=n),Object.freeze(this)}function d(){t=requestAnimationFrame(d);var s=new WeakMap,p=new Set;o.forEach((function(t){r.get(t).forEach((function(i){var r=t instanceof window.SVGElement,o=a.get(t),d=r?0:parseFloat(o.paddingTop),f=r?0:parseFloat(o.paddingRight),l=r?0:parseFloat(o.paddingBottom),u=r?0:parseFloat(o.paddingLeft),g=r?0:parseFloat(o.borderTopWidth),m=r?0:parseFloat(o.borderRightWidth),w=r?0:parseFloat(o.borderBottomWidth),b=u+f,F=d+l,v=(r?0:parseFloat(o.borderLeftWidth))+m,W=g+w,y=r?0:t.offsetHeight-W-t.clientHeight,E=r?0:t.offsetWidth-v-t.clientWidth,R=b+v,z=F+W,M=r?t.width:parseFloat(o.width)-R-E,O=r?t.height:parseFloat(o.height)-z-y;if(n.has(t)){var k=n.get(t);if(k[0]===M&&k[1]===O)return}n.set(t,[M,O]);var S=Object.create(h.prototype);S.target=t,S.contentRect=new c(u,d,M,O),s.has(i)||(s.set(i,[]),p.add(i)),s.get(i).push(S)}))})),p.forEach((function(e){i.get(e).call(e,s.get(e),e)}))}return s.prototype.observe=function(i){if(i instanceof window.Element){r.has(i)||(r.set(i,new Set),o.add(i),a.set(i,window.getComputedStyle(i)));var n=r.get(i);n.has(this)||n.add(this),cancelAnimationFrame(t),t=requestAnimationFrame(d)}},s.prototype.unobserve=function(i){if(i instanceof window.Element&&r.has(i)){var n=r.get(i);n.has(this)&&(n.delete(this),n.size||(r.delete(i),o.delete(i))),n.size||r.delete(i),o.size||cancelAnimationFrame(t)}},A.DOMRectReadOnly=c,A.ResizeObserver=s,A.ResizeObserverEntry=h,A}; // eslint-disable-line\n",
       "mpl.toolbar_items = [[\"Home\", \"Reset original view\", \"fa fa-home icon-home\", \"home\"], [\"Back\", \"Back to previous view\", \"fa fa-arrow-left icon-arrow-left\", \"back\"], [\"Forward\", \"Forward to next view\", \"fa fa-arrow-right icon-arrow-right\", \"forward\"], [\"\", \"\", \"\", \"\"], [\"Pan\", \"Left button pans, Right button zooms\\nx/y fixes axis, CTRL fixes aspect\", \"fa fa-arrows icon-move\", \"pan\"], [\"Zoom\", \"Zoom to rectangle\\nx/y fixes axis, CTRL fixes aspect\", \"fa fa-square-o icon-check-empty\", \"zoom\"], [\"\", \"\", \"\", \"\"], [\"Download\", \"Download plot\", \"fa fa-floppy-o icon-save\", \"download\"]];\n",
       "\n",
       "mpl.extensions = [\"eps\", \"jpeg\", \"pgf\", \"pdf\", \"png\", \"ps\", \"raw\", \"svg\", \"tif\"];\n",
       "\n",
       "mpl.default_extension = \"png\";/* global mpl */\n",
       "\n",
       "var comm_websocket_adapter = function (comm) {\n",
       "    // Create a \"websocket\"-like object which calls the given IPython comm\n",
       "    // object with the appropriate methods. Currently this is a non binary\n",
       "    // socket, so there is still some room for performance tuning.\n",
       "    var ws = {};\n",
       "\n",
       "    ws.binaryType = comm.kernel.ws.binaryType;\n",
       "    ws.readyState = comm.kernel.ws.readyState;\n",
       "    function updateReadyState(_event) {\n",
       "        if (comm.kernel.ws) {\n",
       "            ws.readyState = comm.kernel.ws.readyState;\n",
       "        } else {\n",
       "            ws.readyState = 3; // Closed state.\n",
       "        }\n",
       "    }\n",
       "    comm.kernel.ws.addEventListener('open', updateReadyState);\n",
       "    comm.kernel.ws.addEventListener('close', updateReadyState);\n",
       "    comm.kernel.ws.addEventListener('error', updateReadyState);\n",
       "\n",
       "    ws.close = function () {\n",
       "        comm.close();\n",
       "    };\n",
       "    ws.send = function (m) {\n",
       "        //console.log('sending', m);\n",
       "        comm.send(m);\n",
       "    };\n",
       "    // Register the callback with on_msg.\n",
       "    comm.on_msg(function (msg) {\n",
       "        //console.log('receiving', msg['content']['data'], msg);\n",
       "        var data = msg['content']['data'];\n",
       "        if (data['blob'] !== undefined) {\n",
       "            data = {\n",
       "                data: new Blob(msg['buffers'], { type: data['blob'] }),\n",
       "            };\n",
       "        }\n",
       "        // Pass the mpl event to the overridden (by mpl) onmessage function.\n",
       "        ws.onmessage(data);\n",
       "    });\n",
       "    return ws;\n",
       "};\n",
       "\n",
       "mpl.mpl_figure_comm = function (comm, msg) {\n",
       "    // This is the function which gets called when the mpl process\n",
       "    // starts-up an IPython Comm through the \"matplotlib\" channel.\n",
       "\n",
       "    var id = msg.content.data.id;\n",
       "    // Get hold of the div created by the display call when the Comm\n",
       "    // socket was opened in Python.\n",
       "    var element = document.getElementById(id);\n",
       "    var ws_proxy = comm_websocket_adapter(comm);\n",
       "\n",
       "    function ondownload(figure, _format) {\n",
       "        window.open(figure.canvas.toDataURL());\n",
       "    }\n",
       "\n",
       "    var fig = new mpl.figure(id, ws_proxy, ondownload, element);\n",
       "\n",
       "    // Call onopen now - mpl needs it, as it is assuming we've passed it a real\n",
       "    // web socket which is closed, not our websocket->open comm proxy.\n",
       "    ws_proxy.onopen();\n",
       "\n",
       "    fig.parent_element = element;\n",
       "    fig.cell_info = mpl.find_output_cell(\"<div id='\" + id + \"'></div>\");\n",
       "    if (!fig.cell_info) {\n",
       "        console.error('Failed to find cell for figure', id, fig);\n",
       "        return;\n",
       "    }\n",
       "    fig.cell_info[0].output_area.element.on(\n",
       "        'cleared',\n",
       "        { fig: fig },\n",
       "        fig._remove_fig_handler\n",
       "    );\n",
       "};\n",
       "\n",
       "mpl.figure.prototype.handle_close = function (fig, msg) {\n",
       "    var width = fig.canvas.width / fig.ratio;\n",
       "    fig.cell_info[0].output_area.element.off(\n",
       "        'cleared',\n",
       "        fig._remove_fig_handler\n",
       "    );\n",
       "    fig.resizeObserverInstance.unobserve(fig.canvas_div);\n",
       "\n",
       "    // Update the output cell to use the data from the current canvas.\n",
       "    fig.push_to_output();\n",
       "    var dataURL = fig.canvas.toDataURL();\n",
       "    // Re-enable the keyboard manager in IPython - without this line, in FF,\n",
       "    // the notebook keyboard shortcuts fail.\n",
       "    IPython.keyboard_manager.enable();\n",
       "    fig.parent_element.innerHTML =\n",
       "        '<img src=\"' + dataURL + '\" width=\"' + width + '\">';\n",
       "    fig.close_ws(fig, msg);\n",
       "};\n",
       "\n",
       "mpl.figure.prototype.close_ws = function (fig, msg) {\n",
       "    fig.send_message('closing', msg);\n",
       "    // fig.ws.close()\n",
       "};\n",
       "\n",
       "mpl.figure.prototype.push_to_output = function (_remove_interactive) {\n",
       "    // Turn the data on the canvas into data in the output cell.\n",
       "    var width = this.canvas.width / this.ratio;\n",
       "    var dataURL = this.canvas.toDataURL();\n",
       "    this.cell_info[1]['text/html'] =\n",
       "        '<img src=\"' + dataURL + '\" width=\"' + width + '\">';\n",
       "};\n",
       "\n",
       "mpl.figure.prototype.updated_canvas_event = function () {\n",
       "    // Tell IPython that the notebook contents must change.\n",
       "    IPython.notebook.set_dirty(true);\n",
       "    this.send_message('ack', {});\n",
       "    var fig = this;\n",
       "    // Wait a second, then push the new image to the DOM so\n",
       "    // that it is saved nicely (might be nice to debounce this).\n",
       "    setTimeout(function () {\n",
       "        fig.push_to_output();\n",
       "    }, 1000);\n",
       "};\n",
       "\n",
       "mpl.figure.prototype._init_toolbar = function () {\n",
       "    var fig = this;\n",
       "\n",
       "    var toolbar = document.createElement('div');\n",
       "    toolbar.classList = 'btn-toolbar';\n",
       "    this.root.appendChild(toolbar);\n",
       "\n",
       "    function on_click_closure(name) {\n",
       "        return function (_event) {\n",
       "            return fig.toolbar_button_onclick(name);\n",
       "        };\n",
       "    }\n",
       "\n",
       "    function on_mouseover_closure(tooltip) {\n",
       "        return function (event) {\n",
       "            if (!event.currentTarget.disabled) {\n",
       "                return fig.toolbar_button_onmouseover(tooltip);\n",
       "            }\n",
       "        };\n",
       "    }\n",
       "\n",
       "    fig.buttons = {};\n",
       "    var buttonGroup = document.createElement('div');\n",
       "    buttonGroup.classList = 'btn-group';\n",
       "    var button;\n",
       "    for (var toolbar_ind in mpl.toolbar_items) {\n",
       "        var name = mpl.toolbar_items[toolbar_ind][0];\n",
       "        var tooltip = mpl.toolbar_items[toolbar_ind][1];\n",
       "        var image = mpl.toolbar_items[toolbar_ind][2];\n",
       "        var method_name = mpl.toolbar_items[toolbar_ind][3];\n",
       "\n",
       "        if (!name) {\n",
       "            /* Instead of a spacer, we start a new button group. */\n",
       "            if (buttonGroup.hasChildNodes()) {\n",
       "                toolbar.appendChild(buttonGroup);\n",
       "            }\n",
       "            buttonGroup = document.createElement('div');\n",
       "            buttonGroup.classList = 'btn-group';\n",
       "            continue;\n",
       "        }\n",
       "\n",
       "        button = fig.buttons[name] = document.createElement('button');\n",
       "        button.classList = 'btn btn-default';\n",
       "        button.href = '#';\n",
       "        button.title = name;\n",
       "        button.innerHTML = '<i class=\"fa ' + image + ' fa-lg\"></i>';\n",
       "        button.addEventListener('click', on_click_closure(method_name));\n",
       "        button.addEventListener('mouseover', on_mouseover_closure(tooltip));\n",
       "        buttonGroup.appendChild(button);\n",
       "    }\n",
       "\n",
       "    if (buttonGroup.hasChildNodes()) {\n",
       "        toolbar.appendChild(buttonGroup);\n",
       "    }\n",
       "\n",
       "    // Add the status bar.\n",
       "    var status_bar = document.createElement('span');\n",
       "    status_bar.classList = 'mpl-message pull-right';\n",
       "    toolbar.appendChild(status_bar);\n",
       "    this.message = status_bar;\n",
       "\n",
       "    // Add the close button to the window.\n",
       "    var buttongrp = document.createElement('div');\n",
       "    buttongrp.classList = 'btn-group inline pull-right';\n",
       "    button = document.createElement('button');\n",
       "    button.classList = 'btn btn-mini btn-primary';\n",
       "    button.href = '#';\n",
       "    button.title = 'Stop Interaction';\n",
       "    button.innerHTML = '<i class=\"fa fa-power-off icon-remove icon-large\"></i>';\n",
       "    button.addEventListener('click', function (_evt) {\n",
       "        fig.handle_close(fig, {});\n",
       "    });\n",
       "    button.addEventListener(\n",
       "        'mouseover',\n",
       "        on_mouseover_closure('Stop Interaction')\n",
       "    );\n",
       "    buttongrp.appendChild(button);\n",
       "    var titlebar = this.root.querySelector('.ui-dialog-titlebar');\n",
       "    titlebar.insertBefore(buttongrp, titlebar.firstChild);\n",
       "};\n",
       "\n",
       "mpl.figure.prototype._remove_fig_handler = function (event) {\n",
       "    var fig = event.data.fig;\n",
       "    if (event.target !== this) {\n",
       "        // Ignore bubbled events from children.\n",
       "        return;\n",
       "    }\n",
       "    fig.close_ws(fig, {});\n",
       "};\n",
       "\n",
       "mpl.figure.prototype._root_extra_style = function (el) {\n",
       "    el.style.boxSizing = 'content-box'; // override notebook setting of border-box.\n",
       "};\n",
       "\n",
       "mpl.figure.prototype._canvas_extra_style = function (el) {\n",
       "    // this is important to make the div 'focusable\n",
       "    el.setAttribute('tabindex', 0);\n",
       "    // reach out to IPython and tell the keyboard manager to turn it's self\n",
       "    // off when our div gets focus\n",
       "\n",
       "    // location in version 3\n",
       "    if (IPython.notebook.keyboard_manager) {\n",
       "        IPython.notebook.keyboard_manager.register_events(el);\n",
       "    } else {\n",
       "        // location in version 2\n",
       "        IPython.keyboard_manager.register_events(el);\n",
       "    }\n",
       "};\n",
       "\n",
       "mpl.figure.prototype._key_event_extra = function (event, _name) {\n",
       "    var manager = IPython.notebook.keyboard_manager;\n",
       "    if (!manager) {\n",
       "        manager = IPython.keyboard_manager;\n",
       "    }\n",
       "\n",
       "    // Check for shift+enter\n",
       "    if (event.shiftKey && event.which === 13) {\n",
       "        this.canvas_div.blur();\n",
       "        // select the cell after this one\n",
       "        var index = IPython.notebook.find_cell_index(this.cell_info[0]);\n",
       "        IPython.notebook.select(index + 1);\n",
       "    }\n",
       "};\n",
       "\n",
       "mpl.figure.prototype.handle_save = function (fig, _msg) {\n",
       "    fig.ondownload(fig, null);\n",
       "};\n",
       "\n",
       "mpl.find_output_cell = function (html_output) {\n",
       "    // Return the cell and output element which can be found *uniquely* in the notebook.\n",
       "    // Note - this is a bit hacky, but it is done because the \"notebook_saving.Notebook\"\n",
       "    // IPython event is triggered only after the cells have been serialised, which for\n",
       "    // our purposes (turning an active figure into a static one), is too late.\n",
       "    var cells = IPython.notebook.get_cells();\n",
       "    var ncells = cells.length;\n",
       "    for (var i = 0; i < ncells; i++) {\n",
       "        var cell = cells[i];\n",
       "        if (cell.cell_type === 'code') {\n",
       "            for (var j = 0; j < cell.output_area.outputs.length; j++) {\n",
       "                var data = cell.output_area.outputs[j];\n",
       "                if (data.data) {\n",
       "                    // IPython >= 3 moved mimebundle to data attribute of output\n",
       "                    data = data.data;\n",
       "                }\n",
       "                if (data['text/html'] === html_output) {\n",
       "                    return [cell, data, j];\n",
       "                }\n",
       "            }\n",
       "        }\n",
       "    }\n",
       "};\n",
       "\n",
       "// Register the function which deals with the matplotlib target/channel.\n",
       "// The kernel may be null if the page has been refreshed.\n",
       "if (IPython.notebook.kernel !== null) {\n",
       "    IPython.notebook.kernel.comm_manager.register_target(\n",
       "        'matplotlib',\n",
       "        mpl.mpl_figure_comm\n",
       "    );\n",
       "}\n"
      ],
      "text/plain": [
       "<IPython.core.display.Javascript object>"
      ]
     },
     "metadata": {},
     "output_type": "display_data"
    },
    {
     "data": {
      "text/html": [
       "<img src=\"data:image/png;base64,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\" width=\"640\">"
      ],
      "text/plain": [
       "<IPython.core.display.HTML object>"
      ]
     },
     "metadata": {},
     "output_type": "display_data"
    }
   ],
   "source": [
    "# s = 4\n",
    "# np.random.seed(s)\n",
    "# random.seed(s)\n",
    "\n",
    "N = 500\n",
    "dt = 0.1\n",
    "T_end = 600\n",
    "num_runs = 20\n",
    "\n",
    "P_fa = 0.02\n",
    "P_miss = 0.05\n",
    "pf_args = {'roadmap':r, 'num_particles':N, 'dt':dt, 'v0':10, 'sigma':4, 'P_fa':P_fa, 'P_miss':P_miss}\n",
    "R = 5*np.eye(2)\n",
    "H = []\n",
    "\n",
    "rbpf = RB_PF(r, 10, 2, pf_args)\n",
    "\n",
    "target1 = Particle(r, v0=10, dt=dt, sigma=2)\n",
    "target2 = Particle(r, v0=10, dt=dt, sigma=2)\n",
    "targets = [target1, target2]\n",
    "\n",
    "agent = AgentDynamicLookaheadWithEdgeSeparationVectorized((100, 60), 100, 50, 40, 30, r, dt=dt)\n",
    "# agent = AgentRandom((100, 60), 100, 50, 40, 30, r, dt=dt)\n",
    "\n",
    "H += [sim(rbpf, targets, agent, R, dt, T_end)]"
   ]
  },
  {
   "cell_type": "code",
   "execution_count": 29,
   "metadata": {},
   "outputs": [
    {
     "data": {
      "application/javascript": [
       "/* Put everything inside the global mpl namespace */\n",
       "/* global mpl */\n",
       "window.mpl = {};\n",
       "\n",
       "mpl.get_websocket_type = function () {\n",
       "    if (typeof WebSocket !== 'undefined') {\n",
       "        return WebSocket;\n",
       "    } else if (typeof MozWebSocket !== 'undefined') {\n",
       "        return MozWebSocket;\n",
       "    } else {\n",
       "        alert(\n",
       "            'Your browser does not have WebSocket support. ' +\n",
       "                'Please try Chrome, Safari or Firefox ≥ 6. ' +\n",
       "                'Firefox 4 and 5 are also supported but you ' +\n",
       "                'have to enable WebSockets in about:config.'\n",
       "        );\n",
       "    }\n",
       "};\n",
       "\n",
       "mpl.figure = function (figure_id, websocket, ondownload, parent_element) {\n",
       "    this.id = figure_id;\n",
       "\n",
       "    this.ws = websocket;\n",
       "\n",
       "    this.supports_binary = this.ws.binaryType !== undefined;\n",
       "\n",
       "    if (!this.supports_binary) {\n",
       "        var warnings = document.getElementById('mpl-warnings');\n",
       "        if (warnings) {\n",
       "            warnings.style.display = 'block';\n",
       "            warnings.textContent =\n",
       "                'This browser does not support binary websocket messages. ' +\n",
       "                'Performance may be slow.';\n",
       "        }\n",
       "    }\n",
       "\n",
       "    this.imageObj = new Image();\n",
       "\n",
       "    this.context = undefined;\n",
       "    this.message = undefined;\n",
       "    this.canvas = undefined;\n",
       "    this.rubberband_canvas = undefined;\n",
       "    this.rubberband_context = undefined;\n",
       "    this.format_dropdown = undefined;\n",
       "\n",
       "    this.image_mode = 'full';\n",
       "\n",
       "    this.root = document.createElement('div');\n",
       "    this.root.setAttribute('style', 'display: inline-block');\n",
       "    this._root_extra_style(this.root);\n",
       "\n",
       "    parent_element.appendChild(this.root);\n",
       "\n",
       "    this._init_header(this);\n",
       "    this._init_canvas(this);\n",
       "    this._init_toolbar(this);\n",
       "\n",
       "    var fig = this;\n",
       "\n",
       "    this.waiting = false;\n",
       "\n",
       "    this.ws.onopen = function () {\n",
       "        fig.send_message('supports_binary', { value: fig.supports_binary });\n",
       "        fig.send_message('send_image_mode', {});\n",
       "        if (fig.ratio !== 1) {\n",
       "            fig.send_message('set_dpi_ratio', { dpi_ratio: fig.ratio });\n",
       "        }\n",
       "        fig.send_message('refresh', {});\n",
       "    };\n",
       "\n",
       "    this.imageObj.onload = function () {\n",
       "        if (fig.image_mode === 'full') {\n",
       "            // Full images could contain transparency (where diff images\n",
       "            // almost always do), so we need to clear the canvas so that\n",
       "            // there is no ghosting.\n",
       "            fig.context.clearRect(0, 0, fig.canvas.width, fig.canvas.height);\n",
       "        }\n",
       "        fig.context.drawImage(fig.imageObj, 0, 0);\n",
       "    };\n",
       "\n",
       "    this.imageObj.onunload = function () {\n",
       "        fig.ws.close();\n",
       "    };\n",
       "\n",
       "    this.ws.onmessage = this._make_on_message_function(this);\n",
       "\n",
       "    this.ondownload = ondownload;\n",
       "};\n",
       "\n",
       "mpl.figure.prototype._init_header = function () {\n",
       "    var titlebar = document.createElement('div');\n",
       "    titlebar.classList =\n",
       "        'ui-dialog-titlebar ui-widget-header ui-corner-all ui-helper-clearfix';\n",
       "    var titletext = document.createElement('div');\n",
       "    titletext.classList = 'ui-dialog-title';\n",
       "    titletext.setAttribute(\n",
       "        'style',\n",
       "        'width: 100%; text-align: center; padding: 3px;'\n",
       "    );\n",
       "    titlebar.appendChild(titletext);\n",
       "    this.root.appendChild(titlebar);\n",
       "    this.header = titletext;\n",
       "};\n",
       "\n",
       "mpl.figure.prototype._canvas_extra_style = function (_canvas_div) {};\n",
       "\n",
       "mpl.figure.prototype._root_extra_style = function (_canvas_div) {};\n",
       "\n",
       "mpl.figure.prototype._init_canvas = function () {\n",
       "    var fig = this;\n",
       "\n",
       "    var canvas_div = (this.canvas_div = document.createElement('div'));\n",
       "    canvas_div.setAttribute(\n",
       "        'style',\n",
       "        'border: 1px solid #ddd;' +\n",
       "            'box-sizing: content-box;' +\n",
       "            'clear: both;' +\n",
       "            'min-height: 1px;' +\n",
       "            'min-width: 1px;' +\n",
       "            'outline: 0;' +\n",
       "            'overflow: hidden;' +\n",
       "            'position: relative;' +\n",
       "            'resize: both;'\n",
       "    );\n",
       "\n",
       "    function on_keyboard_event_closure(name) {\n",
       "        return function (event) {\n",
       "            return fig.key_event(event, name);\n",
       "        };\n",
       "    }\n",
       "\n",
       "    canvas_div.addEventListener(\n",
       "        'keydown',\n",
       "        on_keyboard_event_closure('key_press')\n",
       "    );\n",
       "    canvas_div.addEventListener(\n",
       "        'keyup',\n",
       "        on_keyboard_event_closure('key_release')\n",
       "    );\n",
       "\n",
       "    this._canvas_extra_style(canvas_div);\n",
       "    this.root.appendChild(canvas_div);\n",
       "\n",
       "    var canvas = (this.canvas = document.createElement('canvas'));\n",
       "    canvas.classList.add('mpl-canvas');\n",
       "    canvas.setAttribute('style', 'box-sizing: content-box;');\n",
       "\n",
       "    this.context = canvas.getContext('2d');\n",
       "\n",
       "    var backingStore =\n",
       "        this.context.backingStorePixelRatio ||\n",
       "        this.context.webkitBackingStorePixelRatio ||\n",
       "        this.context.mozBackingStorePixelRatio ||\n",
       "        this.context.msBackingStorePixelRatio ||\n",
       "        this.context.oBackingStorePixelRatio ||\n",
       "        this.context.backingStorePixelRatio ||\n",
       "        1;\n",
       "\n",
       "    this.ratio = (window.devicePixelRatio || 1) / backingStore;\n",
       "\n",
       "    var rubberband_canvas = (this.rubberband_canvas = document.createElement(\n",
       "        'canvas'\n",
       "    ));\n",
       "    rubberband_canvas.setAttribute(\n",
       "        'style',\n",
       "        'box-sizing: content-box; position: absolute; left: 0; top: 0; z-index: 1;'\n",
       "    );\n",
       "\n",
       "    // Apply a ponyfill if ResizeObserver is not implemented by browser.\n",
       "    if (this.ResizeObserver === undefined) {\n",
       "        if (window.ResizeObserver !== undefined) {\n",
       "            this.ResizeObserver = window.ResizeObserver;\n",
       "        } else {\n",
       "            var obs = _JSXTOOLS_RESIZE_OBSERVER({});\n",
       "            this.ResizeObserver = obs.ResizeObserver;\n",
       "        }\n",
       "    }\n",
       "\n",
       "    this.resizeObserverInstance = new this.ResizeObserver(function (entries) {\n",
       "        var nentries = entries.length;\n",
       "        for (var i = 0; i < nentries; i++) {\n",
       "            var entry = entries[i];\n",
       "            var width, height;\n",
       "            if (entry.contentBoxSize) {\n",
       "                if (entry.contentBoxSize instanceof Array) {\n",
       "                    // Chrome 84 implements new version of spec.\n",
       "                    width = entry.contentBoxSize[0].inlineSize;\n",
       "                    height = entry.contentBoxSize[0].blockSize;\n",
       "                } else {\n",
       "                    // Firefox implements old version of spec.\n",
       "                    width = entry.contentBoxSize.inlineSize;\n",
       "                    height = entry.contentBoxSize.blockSize;\n",
       "                }\n",
       "            } else {\n",
       "                // Chrome <84 implements even older version of spec.\n",
       "                width = entry.contentRect.width;\n",
       "                height = entry.contentRect.height;\n",
       "            }\n",
       "\n",
       "            // Keep the size of the canvas and rubber band canvas in sync with\n",
       "            // the canvas container.\n",
       "            if (entry.devicePixelContentBoxSize) {\n",
       "                // Chrome 84 implements new version of spec.\n",
       "                canvas.setAttribute(\n",
       "                    'width',\n",
       "                    entry.devicePixelContentBoxSize[0].inlineSize\n",
       "                );\n",
       "                canvas.setAttribute(\n",
       "                    'height',\n",
       "                    entry.devicePixelContentBoxSize[0].blockSize\n",
       "                );\n",
       "            } else {\n",
       "                canvas.setAttribute('width', width * fig.ratio);\n",
       "                canvas.setAttribute('height', height * fig.ratio);\n",
       "            }\n",
       "            canvas.setAttribute(\n",
       "                'style',\n",
       "                'width: ' + width + 'px; height: ' + height + 'px;'\n",
       "            );\n",
       "\n",
       "            rubberband_canvas.setAttribute('width', width);\n",
       "            rubberband_canvas.setAttribute('height', height);\n",
       "\n",
       "            // And update the size in Python. We ignore the initial 0/0 size\n",
       "            // that occurs as the element is placed into the DOM, which should\n",
       "            // otherwise not happen due to the minimum size styling.\n",
       "            if (fig.ws.readyState == 1 && width != 0 && height != 0) {\n",
       "                fig.request_resize(width, height);\n",
       "            }\n",
       "        }\n",
       "    });\n",
       "    this.resizeObserverInstance.observe(canvas_div);\n",
       "\n",
       "    function on_mouse_event_closure(name) {\n",
       "        return function (event) {\n",
       "            return fig.mouse_event(event, name);\n",
       "        };\n",
       "    }\n",
       "\n",
       "    rubberband_canvas.addEventListener(\n",
       "        'mousedown',\n",
       "        on_mouse_event_closure('button_press')\n",
       "    );\n",
       "    rubberband_canvas.addEventListener(\n",
       "        'mouseup',\n",
       "        on_mouse_event_closure('button_release')\n",
       "    );\n",
       "    rubberband_canvas.addEventListener(\n",
       "        'dblclick',\n",
       "        on_mouse_event_closure('dblclick')\n",
       "    );\n",
       "    // Throttle sequential mouse events to 1 every 20ms.\n",
       "    rubberband_canvas.addEventListener(\n",
       "        'mousemove',\n",
       "        on_mouse_event_closure('motion_notify')\n",
       "    );\n",
       "\n",
       "    rubberband_canvas.addEventListener(\n",
       "        'mouseenter',\n",
       "        on_mouse_event_closure('figure_enter')\n",
       "    );\n",
       "    rubberband_canvas.addEventListener(\n",
       "        'mouseleave',\n",
       "        on_mouse_event_closure('figure_leave')\n",
       "    );\n",
       "\n",
       "    canvas_div.addEventListener('wheel', function (event) {\n",
       "        if (event.deltaY < 0) {\n",
       "            event.step = 1;\n",
       "        } else {\n",
       "            event.step = -1;\n",
       "        }\n",
       "        on_mouse_event_closure('scroll')(event);\n",
       "    });\n",
       "\n",
       "    canvas_div.appendChild(canvas);\n",
       "    canvas_div.appendChild(rubberband_canvas);\n",
       "\n",
       "    this.rubberband_context = rubberband_canvas.getContext('2d');\n",
       "    this.rubberband_context.strokeStyle = '#000000';\n",
       "\n",
       "    this._resize_canvas = function (width, height, forward) {\n",
       "        if (forward) {\n",
       "            canvas_div.style.width = width + 'px';\n",
       "            canvas_div.style.height = height + 'px';\n",
       "        }\n",
       "    };\n",
       "\n",
       "    // Disable right mouse context menu.\n",
       "    this.rubberband_canvas.addEventListener('contextmenu', function (_e) {\n",
       "        event.preventDefault();\n",
       "        return false;\n",
       "    });\n",
       "\n",
       "    function set_focus() {\n",
       "        canvas.focus();\n",
       "        canvas_div.focus();\n",
       "    }\n",
       "\n",
       "    window.setTimeout(set_focus, 100);\n",
       "};\n",
       "\n",
       "mpl.figure.prototype._init_toolbar = function () {\n",
       "    var fig = this;\n",
       "\n",
       "    var toolbar = document.createElement('div');\n",
       "    toolbar.classList = 'mpl-toolbar';\n",
       "    this.root.appendChild(toolbar);\n",
       "\n",
       "    function on_click_closure(name) {\n",
       "        return function (_event) {\n",
       "            return fig.toolbar_button_onclick(name);\n",
       "        };\n",
       "    }\n",
       "\n",
       "    function on_mouseover_closure(tooltip) {\n",
       "        return function (event) {\n",
       "            if (!event.currentTarget.disabled) {\n",
       "                return fig.toolbar_button_onmouseover(tooltip);\n",
       "            }\n",
       "        };\n",
       "    }\n",
       "\n",
       "    fig.buttons = {};\n",
       "    var buttonGroup = document.createElement('div');\n",
       "    buttonGroup.classList = 'mpl-button-group';\n",
       "    for (var toolbar_ind in mpl.toolbar_items) {\n",
       "        var name = mpl.toolbar_items[toolbar_ind][0];\n",
       "        var tooltip = mpl.toolbar_items[toolbar_ind][1];\n",
       "        var image = mpl.toolbar_items[toolbar_ind][2];\n",
       "        var method_name = mpl.toolbar_items[toolbar_ind][3];\n",
       "\n",
       "        if (!name) {\n",
       "            /* Instead of a spacer, we start a new button group. */\n",
       "            if (buttonGroup.hasChildNodes()) {\n",
       "                toolbar.appendChild(buttonGroup);\n",
       "            }\n",
       "            buttonGroup = document.createElement('div');\n",
       "            buttonGroup.classList = 'mpl-button-group';\n",
       "            continue;\n",
       "        }\n",
       "\n",
       "        var button = (fig.buttons[name] = document.createElement('button'));\n",
       "        button.classList = 'mpl-widget';\n",
       "        button.setAttribute('role', 'button');\n",
       "        button.setAttribute('aria-disabled', 'false');\n",
       "        button.addEventListener('click', on_click_closure(method_name));\n",
       "        button.addEventListener('mouseover', on_mouseover_closure(tooltip));\n",
       "\n",
       "        var icon_img = document.createElement('img');\n",
       "        icon_img.src = '_images/' + image + '.png';\n",
       "        icon_img.srcset = '_images/' + image + '_large.png 2x';\n",
       "        icon_img.alt = tooltip;\n",
       "        button.appendChild(icon_img);\n",
       "\n",
       "        buttonGroup.appendChild(button);\n",
       "    }\n",
       "\n",
       "    if (buttonGroup.hasChildNodes()) {\n",
       "        toolbar.appendChild(buttonGroup);\n",
       "    }\n",
       "\n",
       "    var fmt_picker = document.createElement('select');\n",
       "    fmt_picker.classList = 'mpl-widget';\n",
       "    toolbar.appendChild(fmt_picker);\n",
       "    this.format_dropdown = fmt_picker;\n",
       "\n",
       "    for (var ind in mpl.extensions) {\n",
       "        var fmt = mpl.extensions[ind];\n",
       "        var option = document.createElement('option');\n",
       "        option.selected = fmt === mpl.default_extension;\n",
       "        option.innerHTML = fmt;\n",
       "        fmt_picker.appendChild(option);\n",
       "    }\n",
       "\n",
       "    var status_bar = document.createElement('span');\n",
       "    status_bar.classList = 'mpl-message';\n",
       "    toolbar.appendChild(status_bar);\n",
       "    this.message = status_bar;\n",
       "};\n",
       "\n",
       "mpl.figure.prototype.request_resize = function (x_pixels, y_pixels) {\n",
       "    // Request matplotlib to resize the figure. Matplotlib will then trigger a resize in the client,\n",
       "    // which will in turn request a refresh of the image.\n",
       "    this.send_message('resize', { width: x_pixels, height: y_pixels });\n",
       "};\n",
       "\n",
       "mpl.figure.prototype.send_message = function (type, properties) {\n",
       "    properties['type'] = type;\n",
       "    properties['figure_id'] = this.id;\n",
       "    this.ws.send(JSON.stringify(properties));\n",
       "};\n",
       "\n",
       "mpl.figure.prototype.send_draw_message = function () {\n",
       "    if (!this.waiting) {\n",
       "        this.waiting = true;\n",
       "        this.ws.send(JSON.stringify({ type: 'draw', figure_id: this.id }));\n",
       "    }\n",
       "};\n",
       "\n",
       "mpl.figure.prototype.handle_save = function (fig, _msg) {\n",
       "    var format_dropdown = fig.format_dropdown;\n",
       "    var format = format_dropdown.options[format_dropdown.selectedIndex].value;\n",
       "    fig.ondownload(fig, format);\n",
       "};\n",
       "\n",
       "mpl.figure.prototype.handle_resize = function (fig, msg) {\n",
       "    var size = msg['size'];\n",
       "    if (size[0] !== fig.canvas.width || size[1] !== fig.canvas.height) {\n",
       "        fig._resize_canvas(size[0], size[1], msg['forward']);\n",
       "        fig.send_message('refresh', {});\n",
       "    }\n",
       "};\n",
       "\n",
       "mpl.figure.prototype.handle_rubberband = function (fig, msg) {\n",
       "    var x0 = msg['x0'] / fig.ratio;\n",
       "    var y0 = (fig.canvas.height - msg['y0']) / fig.ratio;\n",
       "    var x1 = msg['x1'] / fig.ratio;\n",
       "    var y1 = (fig.canvas.height - msg['y1']) / fig.ratio;\n",
       "    x0 = Math.floor(x0) + 0.5;\n",
       "    y0 = Math.floor(y0) + 0.5;\n",
       "    x1 = Math.floor(x1) + 0.5;\n",
       "    y1 = Math.floor(y1) + 0.5;\n",
       "    var min_x = Math.min(x0, x1);\n",
       "    var min_y = Math.min(y0, y1);\n",
       "    var width = Math.abs(x1 - x0);\n",
       "    var height = Math.abs(y1 - y0);\n",
       "\n",
       "    fig.rubberband_context.clearRect(\n",
       "        0,\n",
       "        0,\n",
       "        fig.canvas.width / fig.ratio,\n",
       "        fig.canvas.height / fig.ratio\n",
       "    );\n",
       "\n",
       "    fig.rubberband_context.strokeRect(min_x, min_y, width, height);\n",
       "};\n",
       "\n",
       "mpl.figure.prototype.handle_figure_label = function (fig, msg) {\n",
       "    // Updates the figure title.\n",
       "    fig.header.textContent = msg['label'];\n",
       "};\n",
       "\n",
       "mpl.figure.prototype.handle_cursor = function (fig, msg) {\n",
       "    var cursor = msg['cursor'];\n",
       "    switch (cursor) {\n",
       "        case 0:\n",
       "            cursor = 'pointer';\n",
       "            break;\n",
       "        case 1:\n",
       "            cursor = 'default';\n",
       "            break;\n",
       "        case 2:\n",
       "            cursor = 'crosshair';\n",
       "            break;\n",
       "        case 3:\n",
       "            cursor = 'move';\n",
       "            break;\n",
       "    }\n",
       "    fig.rubberband_canvas.style.cursor = cursor;\n",
       "};\n",
       "\n",
       "mpl.figure.prototype.handle_message = function (fig, msg) {\n",
       "    fig.message.textContent = msg['message'];\n",
       "};\n",
       "\n",
       "mpl.figure.prototype.handle_draw = function (fig, _msg) {\n",
       "    // Request the server to send over a new figure.\n",
       "    fig.send_draw_message();\n",
       "};\n",
       "\n",
       "mpl.figure.prototype.handle_image_mode = function (fig, msg) {\n",
       "    fig.image_mode = msg['mode'];\n",
       "};\n",
       "\n",
       "mpl.figure.prototype.handle_history_buttons = function (fig, msg) {\n",
       "    for (var key in msg) {\n",
       "        if (!(key in fig.buttons)) {\n",
       "            continue;\n",
       "        }\n",
       "        fig.buttons[key].disabled = !msg[key];\n",
       "        fig.buttons[key].setAttribute('aria-disabled', !msg[key]);\n",
       "    }\n",
       "};\n",
       "\n",
       "mpl.figure.prototype.handle_navigate_mode = function (fig, msg) {\n",
       "    if (msg['mode'] === 'PAN') {\n",
       "        fig.buttons['Pan'].classList.add('active');\n",
       "        fig.buttons['Zoom'].classList.remove('active');\n",
       "    } else if (msg['mode'] === 'ZOOM') {\n",
       "        fig.buttons['Pan'].classList.remove('active');\n",
       "        fig.buttons['Zoom'].classList.add('active');\n",
       "    } else {\n",
       "        fig.buttons['Pan'].classList.remove('active');\n",
       "        fig.buttons['Zoom'].classList.remove('active');\n",
       "    }\n",
       "};\n",
       "\n",
       "mpl.figure.prototype.updated_canvas_event = function () {\n",
       "    // Called whenever the canvas gets updated.\n",
       "    this.send_message('ack', {});\n",
       "};\n",
       "\n",
       "// A function to construct a web socket function for onmessage handling.\n",
       "// Called in the figure constructor.\n",
       "mpl.figure.prototype._make_on_message_function = function (fig) {\n",
       "    return function socket_on_message(evt) {\n",
       "        if (evt.data instanceof Blob) {\n",
       "            var img = evt.data;\n",
       "            if (img.type !== 'image/png') {\n",
       "                /* FIXME: We get \"Resource interpreted as Image but\n",
       "                 * transferred with MIME type text/plain:\" errors on\n",
       "                 * Chrome.  But how to set the MIME type?  It doesn't seem\n",
       "                 * to be part of the websocket stream */\n",
       "                img.type = 'image/png';\n",
       "            }\n",
       "\n",
       "            /* Free the memory for the previous frames */\n",
       "            if (fig.imageObj.src) {\n",
       "                (window.URL || window.webkitURL).revokeObjectURL(\n",
       "                    fig.imageObj.src\n",
       "                );\n",
       "            }\n",
       "\n",
       "            fig.imageObj.src = (window.URL || window.webkitURL).createObjectURL(\n",
       "                img\n",
       "            );\n",
       "            fig.updated_canvas_event();\n",
       "            fig.waiting = false;\n",
       "            return;\n",
       "        } else if (\n",
       "            typeof evt.data === 'string' &&\n",
       "            evt.data.slice(0, 21) === 'data:image/png;base64'\n",
       "        ) {\n",
       "            fig.imageObj.src = evt.data;\n",
       "            fig.updated_canvas_event();\n",
       "            fig.waiting = false;\n",
       "            return;\n",
       "        }\n",
       "\n",
       "        var msg = JSON.parse(evt.data);\n",
       "        var msg_type = msg['type'];\n",
       "\n",
       "        // Call the  \"handle_{type}\" callback, which takes\n",
       "        // the figure and JSON message as its only arguments.\n",
       "        try {\n",
       "            var callback = fig['handle_' + msg_type];\n",
       "        } catch (e) {\n",
       "            console.log(\n",
       "                \"No handler for the '\" + msg_type + \"' message type: \",\n",
       "                msg\n",
       "            );\n",
       "            return;\n",
       "        }\n",
       "\n",
       "        if (callback) {\n",
       "            try {\n",
       "                // console.log(\"Handling '\" + msg_type + \"' message: \", msg);\n",
       "                callback(fig, msg);\n",
       "            } catch (e) {\n",
       "                console.log(\n",
       "                    \"Exception inside the 'handler_\" + msg_type + \"' callback:\",\n",
       "                    e,\n",
       "                    e.stack,\n",
       "                    msg\n",
       "                );\n",
       "            }\n",
       "        }\n",
       "    };\n",
       "};\n",
       "\n",
       "// from http://stackoverflow.com/questions/1114465/getting-mouse-location-in-canvas\n",
       "mpl.findpos = function (e) {\n",
       "    //this section is from http://www.quirksmode.org/js/events_properties.html\n",
       "    var targ;\n",
       "    if (!e) {\n",
       "        e = window.event;\n",
       "    }\n",
       "    if (e.target) {\n",
       "        targ = e.target;\n",
       "    } else if (e.srcElement) {\n",
       "        targ = e.srcElement;\n",
       "    }\n",
       "    if (targ.nodeType === 3) {\n",
       "        // defeat Safari bug\n",
       "        targ = targ.parentNode;\n",
       "    }\n",
       "\n",
       "    // pageX,Y are the mouse positions relative to the document\n",
       "    var boundingRect = targ.getBoundingClientRect();\n",
       "    var x = e.pageX - (boundingRect.left + document.body.scrollLeft);\n",
       "    var y = e.pageY - (boundingRect.top + document.body.scrollTop);\n",
       "\n",
       "    return { x: x, y: y };\n",
       "};\n",
       "\n",
       "/*\n",
       " * return a copy of an object with only non-object keys\n",
       " * we need this to avoid circular references\n",
       " * http://stackoverflow.com/a/24161582/3208463\n",
       " */\n",
       "function simpleKeys(original) {\n",
       "    return Object.keys(original).reduce(function (obj, key) {\n",
       "        if (typeof original[key] !== 'object') {\n",
       "            obj[key] = original[key];\n",
       "        }\n",
       "        return obj;\n",
       "    }, {});\n",
       "}\n",
       "\n",
       "mpl.figure.prototype.mouse_event = function (event, name) {\n",
       "    var canvas_pos = mpl.findpos(event);\n",
       "\n",
       "    if (name === 'button_press') {\n",
       "        this.canvas.focus();\n",
       "        this.canvas_div.focus();\n",
       "    }\n",
       "\n",
       "    var x = canvas_pos.x * this.ratio;\n",
       "    var y = canvas_pos.y * this.ratio;\n",
       "\n",
       "    this.send_message(name, {\n",
       "        x: x,\n",
       "        y: y,\n",
       "        button: event.button,\n",
       "        step: event.step,\n",
       "        guiEvent: simpleKeys(event),\n",
       "    });\n",
       "\n",
       "    /* This prevents the web browser from automatically changing to\n",
       "     * the text insertion cursor when the button is pressed.  We want\n",
       "     * to control all of the cursor setting manually through the\n",
       "     * 'cursor' event from matplotlib */\n",
       "    event.preventDefault();\n",
       "    return false;\n",
       "};\n",
       "\n",
       "mpl.figure.prototype._key_event_extra = function (_event, _name) {\n",
       "    // Handle any extra behaviour associated with a key event\n",
       "};\n",
       "\n",
       "mpl.figure.prototype.key_event = function (event, name) {\n",
       "    // Prevent repeat events\n",
       "    if (name === 'key_press') {\n",
       "        if (event.key === this._key) {\n",
       "            return;\n",
       "        } else {\n",
       "            this._key = event.key;\n",
       "        }\n",
       "    }\n",
       "    if (name === 'key_release') {\n",
       "        this._key = null;\n",
       "    }\n",
       "\n",
       "    var value = '';\n",
       "    if (event.ctrlKey && event.key !== 'Control') {\n",
       "        value += 'ctrl+';\n",
       "    }\n",
       "    else if (event.altKey && event.key !== 'Alt') {\n",
       "        value += 'alt+';\n",
       "    }\n",
       "    else if (event.shiftKey && event.key !== 'Shift') {\n",
       "        value += 'shift+';\n",
       "    }\n",
       "\n",
       "    value += 'k' + event.key;\n",
       "\n",
       "    this._key_event_extra(event, name);\n",
       "\n",
       "    this.send_message(name, { key: value, guiEvent: simpleKeys(event) });\n",
       "    return false;\n",
       "};\n",
       "\n",
       "mpl.figure.prototype.toolbar_button_onclick = function (name) {\n",
       "    if (name === 'download') {\n",
       "        this.handle_save(this, null);\n",
       "    } else {\n",
       "        this.send_message('toolbar_button', { name: name });\n",
       "    }\n",
       "};\n",
       "\n",
       "mpl.figure.prototype.toolbar_button_onmouseover = function (tooltip) {\n",
       "    this.message.textContent = tooltip;\n",
       "};\n",
       "\n",
       "///////////////// REMAINING CONTENT GENERATED BY embed_js.py /////////////////\n",
       "// prettier-ignore\n",
       "var _JSXTOOLS_RESIZE_OBSERVER=function(A){var t,i=new WeakMap,n=new WeakMap,a=new WeakMap,r=new WeakMap,o=new Set;function s(e){if(!(this instanceof s))throw new TypeError(\"Constructor requires 'new' operator\");i.set(this,e)}function h(){throw new TypeError(\"Function is not a constructor\")}function c(e,t,i,n){e=0 in arguments?Number(arguments[0]):0,t=1 in arguments?Number(arguments[1]):0,i=2 in arguments?Number(arguments[2]):0,n=3 in arguments?Number(arguments[3]):0,this.right=(this.x=this.left=e)+(this.width=i),this.bottom=(this.y=this.top=t)+(this.height=n),Object.freeze(this)}function d(){t=requestAnimationFrame(d);var s=new WeakMap,p=new Set;o.forEach((function(t){r.get(t).forEach((function(i){var r=t instanceof window.SVGElement,o=a.get(t),d=r?0:parseFloat(o.paddingTop),f=r?0:parseFloat(o.paddingRight),l=r?0:parseFloat(o.paddingBottom),u=r?0:parseFloat(o.paddingLeft),g=r?0:parseFloat(o.borderTopWidth),m=r?0:parseFloat(o.borderRightWidth),w=r?0:parseFloat(o.borderBottomWidth),b=u+f,F=d+l,v=(r?0:parseFloat(o.borderLeftWidth))+m,W=g+w,y=r?0:t.offsetHeight-W-t.clientHeight,E=r?0:t.offsetWidth-v-t.clientWidth,R=b+v,z=F+W,M=r?t.width:parseFloat(o.width)-R-E,O=r?t.height:parseFloat(o.height)-z-y;if(n.has(t)){var k=n.get(t);if(k[0]===M&&k[1]===O)return}n.set(t,[M,O]);var S=Object.create(h.prototype);S.target=t,S.contentRect=new c(u,d,M,O),s.has(i)||(s.set(i,[]),p.add(i)),s.get(i).push(S)}))})),p.forEach((function(e){i.get(e).call(e,s.get(e),e)}))}return s.prototype.observe=function(i){if(i instanceof window.Element){r.has(i)||(r.set(i,new Set),o.add(i),a.set(i,window.getComputedStyle(i)));var n=r.get(i);n.has(this)||n.add(this),cancelAnimationFrame(t),t=requestAnimationFrame(d)}},s.prototype.unobserve=function(i){if(i instanceof window.Element&&r.has(i)){var n=r.get(i);n.has(this)&&(n.delete(this),n.size||(r.delete(i),o.delete(i))),n.size||r.delete(i),o.size||cancelAnimationFrame(t)}},A.DOMRectReadOnly=c,A.ResizeObserver=s,A.ResizeObserverEntry=h,A}; // eslint-disable-line\n",
       "mpl.toolbar_items = [[\"Home\", \"Reset original view\", \"fa fa-home icon-home\", \"home\"], [\"Back\", \"Back to previous view\", \"fa fa-arrow-left icon-arrow-left\", \"back\"], [\"Forward\", \"Forward to next view\", \"fa fa-arrow-right icon-arrow-right\", \"forward\"], [\"\", \"\", \"\", \"\"], [\"Pan\", \"Left button pans, Right button zooms\\nx/y fixes axis, CTRL fixes aspect\", \"fa fa-arrows icon-move\", \"pan\"], [\"Zoom\", \"Zoom to rectangle\\nx/y fixes axis, CTRL fixes aspect\", \"fa fa-square-o icon-check-empty\", \"zoom\"], [\"\", \"\", \"\", \"\"], [\"Download\", \"Download plot\", \"fa fa-floppy-o icon-save\", \"download\"]];\n",
       "\n",
       "mpl.extensions = [\"eps\", \"jpeg\", \"pgf\", \"pdf\", \"png\", \"ps\", \"raw\", \"svg\", \"tif\"];\n",
       "\n",
       "mpl.default_extension = \"png\";/* global mpl */\n",
       "\n",
       "var comm_websocket_adapter = function (comm) {\n",
       "    // Create a \"websocket\"-like object which calls the given IPython comm\n",
       "    // object with the appropriate methods. Currently this is a non binary\n",
       "    // socket, so there is still some room for performance tuning.\n",
       "    var ws = {};\n",
       "\n",
       "    ws.binaryType = comm.kernel.ws.binaryType;\n",
       "    ws.readyState = comm.kernel.ws.readyState;\n",
       "    function updateReadyState(_event) {\n",
       "        if (comm.kernel.ws) {\n",
       "            ws.readyState = comm.kernel.ws.readyState;\n",
       "        } else {\n",
       "            ws.readyState = 3; // Closed state.\n",
       "        }\n",
       "    }\n",
       "    comm.kernel.ws.addEventListener('open', updateReadyState);\n",
       "    comm.kernel.ws.addEventListener('close', updateReadyState);\n",
       "    comm.kernel.ws.addEventListener('error', updateReadyState);\n",
       "\n",
       "    ws.close = function () {\n",
       "        comm.close();\n",
       "    };\n",
       "    ws.send = function (m) {\n",
       "        //console.log('sending', m);\n",
       "        comm.send(m);\n",
       "    };\n",
       "    // Register the callback with on_msg.\n",
       "    comm.on_msg(function (msg) {\n",
       "        //console.log('receiving', msg['content']['data'], msg);\n",
       "        var data = msg['content']['data'];\n",
       "        if (data['blob'] !== undefined) {\n",
       "            data = {\n",
       "                data: new Blob(msg['buffers'], { type: data['blob'] }),\n",
       "            };\n",
       "        }\n",
       "        // Pass the mpl event to the overridden (by mpl) onmessage function.\n",
       "        ws.onmessage(data);\n",
       "    });\n",
       "    return ws;\n",
       "};\n",
       "\n",
       "mpl.mpl_figure_comm = function (comm, msg) {\n",
       "    // This is the function which gets called when the mpl process\n",
       "    // starts-up an IPython Comm through the \"matplotlib\" channel.\n",
       "\n",
       "    var id = msg.content.data.id;\n",
       "    // Get hold of the div created by the display call when the Comm\n",
       "    // socket was opened in Python.\n",
       "    var element = document.getElementById(id);\n",
       "    var ws_proxy = comm_websocket_adapter(comm);\n",
       "\n",
       "    function ondownload(figure, _format) {\n",
       "        window.open(figure.canvas.toDataURL());\n",
       "    }\n",
       "\n",
       "    var fig = new mpl.figure(id, ws_proxy, ondownload, element);\n",
       "\n",
       "    // Call onopen now - mpl needs it, as it is assuming we've passed it a real\n",
       "    // web socket which is closed, not our websocket->open comm proxy.\n",
       "    ws_proxy.onopen();\n",
       "\n",
       "    fig.parent_element = element;\n",
       "    fig.cell_info = mpl.find_output_cell(\"<div id='\" + id + \"'></div>\");\n",
       "    if (!fig.cell_info) {\n",
       "        console.error('Failed to find cell for figure', id, fig);\n",
       "        return;\n",
       "    }\n",
       "    fig.cell_info[0].output_area.element.on(\n",
       "        'cleared',\n",
       "        { fig: fig },\n",
       "        fig._remove_fig_handler\n",
       "    );\n",
       "};\n",
       "\n",
       "mpl.figure.prototype.handle_close = function (fig, msg) {\n",
       "    var width = fig.canvas.width / fig.ratio;\n",
       "    fig.cell_info[0].output_area.element.off(\n",
       "        'cleared',\n",
       "        fig._remove_fig_handler\n",
       "    );\n",
       "    fig.resizeObserverInstance.unobserve(fig.canvas_div);\n",
       "\n",
       "    // Update the output cell to use the data from the current canvas.\n",
       "    fig.push_to_output();\n",
       "    var dataURL = fig.canvas.toDataURL();\n",
       "    // Re-enable the keyboard manager in IPython - without this line, in FF,\n",
       "    // the notebook keyboard shortcuts fail.\n",
       "    IPython.keyboard_manager.enable();\n",
       "    fig.parent_element.innerHTML =\n",
       "        '<img src=\"' + dataURL + '\" width=\"' + width + '\">';\n",
       "    fig.close_ws(fig, msg);\n",
       "};\n",
       "\n",
       "mpl.figure.prototype.close_ws = function (fig, msg) {\n",
       "    fig.send_message('closing', msg);\n",
       "    // fig.ws.close()\n",
       "};\n",
       "\n",
       "mpl.figure.prototype.push_to_output = function (_remove_interactive) {\n",
       "    // Turn the data on the canvas into data in the output cell.\n",
       "    var width = this.canvas.width / this.ratio;\n",
       "    var dataURL = this.canvas.toDataURL();\n",
       "    this.cell_info[1]['text/html'] =\n",
       "        '<img src=\"' + dataURL + '\" width=\"' + width + '\">';\n",
       "};\n",
       "\n",
       "mpl.figure.prototype.updated_canvas_event = function () {\n",
       "    // Tell IPython that the notebook contents must change.\n",
       "    IPython.notebook.set_dirty(true);\n",
       "    this.send_message('ack', {});\n",
       "    var fig = this;\n",
       "    // Wait a second, then push the new image to the DOM so\n",
       "    // that it is saved nicely (might be nice to debounce this).\n",
       "    setTimeout(function () {\n",
       "        fig.push_to_output();\n",
       "    }, 1000);\n",
       "};\n",
       "\n",
       "mpl.figure.prototype._init_toolbar = function () {\n",
       "    var fig = this;\n",
       "\n",
       "    var toolbar = document.createElement('div');\n",
       "    toolbar.classList = 'btn-toolbar';\n",
       "    this.root.appendChild(toolbar);\n",
       "\n",
       "    function on_click_closure(name) {\n",
       "        return function (_event) {\n",
       "            return fig.toolbar_button_onclick(name);\n",
       "        };\n",
       "    }\n",
       "\n",
       "    function on_mouseover_closure(tooltip) {\n",
       "        return function (event) {\n",
       "            if (!event.currentTarget.disabled) {\n",
       "                return fig.toolbar_button_onmouseover(tooltip);\n",
       "            }\n",
       "        };\n",
       "    }\n",
       "\n",
       "    fig.buttons = {};\n",
       "    var buttonGroup = document.createElement('div');\n",
       "    buttonGroup.classList = 'btn-group';\n",
       "    var button;\n",
       "    for (var toolbar_ind in mpl.toolbar_items) {\n",
       "        var name = mpl.toolbar_items[toolbar_ind][0];\n",
       "        var tooltip = mpl.toolbar_items[toolbar_ind][1];\n",
       "        var image = mpl.toolbar_items[toolbar_ind][2];\n",
       "        var method_name = mpl.toolbar_items[toolbar_ind][3];\n",
       "\n",
       "        if (!name) {\n",
       "            /* Instead of a spacer, we start a new button group. */\n",
       "            if (buttonGroup.hasChildNodes()) {\n",
       "                toolbar.appendChild(buttonGroup);\n",
       "            }\n",
       "            buttonGroup = document.createElement('div');\n",
       "            buttonGroup.classList = 'btn-group';\n",
       "            continue;\n",
       "        }\n",
       "\n",
       "        button = fig.buttons[name] = document.createElement('button');\n",
       "        button.classList = 'btn btn-default';\n",
       "        button.href = '#';\n",
       "        button.title = name;\n",
       "        button.innerHTML = '<i class=\"fa ' + image + ' fa-lg\"></i>';\n",
       "        button.addEventListener('click', on_click_closure(method_name));\n",
       "        button.addEventListener('mouseover', on_mouseover_closure(tooltip));\n",
       "        buttonGroup.appendChild(button);\n",
       "    }\n",
       "\n",
       "    if (buttonGroup.hasChildNodes()) {\n",
       "        toolbar.appendChild(buttonGroup);\n",
       "    }\n",
       "\n",
       "    // Add the status bar.\n",
       "    var status_bar = document.createElement('span');\n",
       "    status_bar.classList = 'mpl-message pull-right';\n",
       "    toolbar.appendChild(status_bar);\n",
       "    this.message = status_bar;\n",
       "\n",
       "    // Add the close button to the window.\n",
       "    var buttongrp = document.createElement('div');\n",
       "    buttongrp.classList = 'btn-group inline pull-right';\n",
       "    button = document.createElement('button');\n",
       "    button.classList = 'btn btn-mini btn-primary';\n",
       "    button.href = '#';\n",
       "    button.title = 'Stop Interaction';\n",
       "    button.innerHTML = '<i class=\"fa fa-power-off icon-remove icon-large\"></i>';\n",
       "    button.addEventListener('click', function (_evt) {\n",
       "        fig.handle_close(fig, {});\n",
       "    });\n",
       "    button.addEventListener(\n",
       "        'mouseover',\n",
       "        on_mouseover_closure('Stop Interaction')\n",
       "    );\n",
       "    buttongrp.appendChild(button);\n",
       "    var titlebar = this.root.querySelector('.ui-dialog-titlebar');\n",
       "    titlebar.insertBefore(buttongrp, titlebar.firstChild);\n",
       "};\n",
       "\n",
       "mpl.figure.prototype._remove_fig_handler = function (event) {\n",
       "    var fig = event.data.fig;\n",
       "    if (event.target !== this) {\n",
       "        // Ignore bubbled events from children.\n",
       "        return;\n",
       "    }\n",
       "    fig.close_ws(fig, {});\n",
       "};\n",
       "\n",
       "mpl.figure.prototype._root_extra_style = function (el) {\n",
       "    el.style.boxSizing = 'content-box'; // override notebook setting of border-box.\n",
       "};\n",
       "\n",
       "mpl.figure.prototype._canvas_extra_style = function (el) {\n",
       "    // this is important to make the div 'focusable\n",
       "    el.setAttribute('tabindex', 0);\n",
       "    // reach out to IPython and tell the keyboard manager to turn it's self\n",
       "    // off when our div gets focus\n",
       "\n",
       "    // location in version 3\n",
       "    if (IPython.notebook.keyboard_manager) {\n",
       "        IPython.notebook.keyboard_manager.register_events(el);\n",
       "    } else {\n",
       "        // location in version 2\n",
       "        IPython.keyboard_manager.register_events(el);\n",
       "    }\n",
       "};\n",
       "\n",
       "mpl.figure.prototype._key_event_extra = function (event, _name) {\n",
       "    var manager = IPython.notebook.keyboard_manager;\n",
       "    if (!manager) {\n",
       "        manager = IPython.keyboard_manager;\n",
       "    }\n",
       "\n",
       "    // Check for shift+enter\n",
       "    if (event.shiftKey && event.which === 13) {\n",
       "        this.canvas_div.blur();\n",
       "        // select the cell after this one\n",
       "        var index = IPython.notebook.find_cell_index(this.cell_info[0]);\n",
       "        IPython.notebook.select(index + 1);\n",
       "    }\n",
       "};\n",
       "\n",
       "mpl.figure.prototype.handle_save = function (fig, _msg) {\n",
       "    fig.ondownload(fig, null);\n",
       "};\n",
       "\n",
       "mpl.find_output_cell = function (html_output) {\n",
       "    // Return the cell and output element which can be found *uniquely* in the notebook.\n",
       "    // Note - this is a bit hacky, but it is done because the \"notebook_saving.Notebook\"\n",
       "    // IPython event is triggered only after the cells have been serialised, which for\n",
       "    // our purposes (turning an active figure into a static one), is too late.\n",
       "    var cells = IPython.notebook.get_cells();\n",
       "    var ncells = cells.length;\n",
       "    for (var i = 0; i < ncells; i++) {\n",
       "        var cell = cells[i];\n",
       "        if (cell.cell_type === 'code') {\n",
       "            for (var j = 0; j < cell.output_area.outputs.length; j++) {\n",
       "                var data = cell.output_area.outputs[j];\n",
       "                if (data.data) {\n",
       "                    // IPython >= 3 moved mimebundle to data attribute of output\n",
       "                    data = data.data;\n",
       "                }\n",
       "                if (data['text/html'] === html_output) {\n",
       "                    return [cell, data, j];\n",
       "                }\n",
       "            }\n",
       "        }\n",
       "    }\n",
       "};\n",
       "\n",
       "// Register the function which deals with the matplotlib target/channel.\n",
       "// The kernel may be null if the page has been refreshed.\n",
       "if (IPython.notebook.kernel !== null) {\n",
       "    IPython.notebook.kernel.comm_manager.register_target(\n",
       "        'matplotlib',\n",
       "        mpl.mpl_figure_comm\n",
       "    );\n",
       "}\n"
      ],
      "text/plain": [
       "<IPython.core.display.Javascript object>"
      ]
     },
     "metadata": {},
     "output_type": "display_data"
    },
    {
     "data": {
      "text/html": [
       "<img src=\"data:image/png;base64,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\" width=\"640\">"
      ],
      "text/plain": [
       "<IPython.core.display.HTML object>"
      ]
     },
     "metadata": {},
     "output_type": "display_data"
    },
    {
     "data": {
      "text/plain": [
       "[<matplotlib.lines.Line2D at 0x7f9cf4525220>]"
      ]
     },
     "execution_count": 29,
     "metadata": {},
     "output_type": "execute_result"
    }
   ],
   "source": [
    "fig, ax = plt.subplots()\n",
    "ax.plot(H[0])"
   ]
  },
  {
   "cell_type": "code",
   "execution_count": 30,
   "metadata": {},
   "outputs": [],
   "source": [
    "import scipy.io as sio\n",
    "\n",
    "roads = []\n",
    "for a in r.graph:\n",
    "    roads += [(a, b) for b in r.graph[a]]\n",
    "\n",
    "roads = np.array(roads)\n",
    "\n",
    "X1 = rbpf.best[0].X\n",
    "X2 = rbpf.best[1].X\n",
    "\n",
    "sio.savemat('multi_target.mat', {'roads':roads, 'agent':agent.pos, 'X1':X1, 'X2':X2, \n",
    "                                 'target1':target1.loc, 'target2':target2.loc})"
   ]
  },
  {
   "cell_type": "code",
   "execution_count": null,
   "metadata": {},
   "outputs": [],
   "source": []
  }
 ],
 "metadata": {
  "kernelspec": {
   "display_name": "Python 3 (ipykernel)",
   "language": "python",
   "name": "python3"
  },
  "language_info": {
   "codemirror_mode": {
    "name": "ipython",
    "version": 3
   },
   "file_extension": ".py",
   "mimetype": "text/x-python",
   "name": "python",
   "nbconvert_exporter": "python",
   "pygments_lexer": "ipython3",
   "version": "3.9.6"
  },
  "varInspector": {
   "cols": {
    "lenName": 16,
    "lenType": 16,
    "lenVar": 40
   },
   "kernels_config": {
    "python": {
     "delete_cmd_postfix": "",
     "delete_cmd_prefix": "del ",
     "library": "var_list.py",
     "varRefreshCmd": "print(var_dic_list())"
    },
    "r": {
     "delete_cmd_postfix": ") ",
     "delete_cmd_prefix": "rm(",
     "library": "var_list.r",
     "varRefreshCmd": "cat(var_dic_list()) "
    }
   },
   "position": {
    "height": "351px",
    "left": "1496px",
    "right": "4px",
    "top": "119px",
    "width": "355px"
   },
   "types_to_exclude": [
    "module",
    "function",
    "builtin_function_or_method",
    "instance",
    "_Feature"
   ],
   "window_display": false
  }
 },
 "nbformat": 4,
 "nbformat_minor": 2
}
